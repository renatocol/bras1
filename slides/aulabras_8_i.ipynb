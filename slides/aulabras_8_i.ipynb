{
 "cells": [
  {
   "cell_type": "markdown",
   "metadata": {
    "slideshow": {
     "slide_type": "fragment"
    }
   },
   "source": [
    "# <center>Economia Brasileira I - FEA-USP</center>\n",
    "\n",
    "## <center>Aula 8 - Infraestrutura, Crédito e Educação</center>\n",
    "\n",
    "### <center>Renato Perim Colistete</center>\n",
    "\n",
    "\n",
    "#### <center>2021</center>"
   ]
  },
  {
   "cell_type": "markdown",
   "metadata": {
    "slideshow": {
     "slide_type": "slide"
    }
   },
   "source": [
    "## Objetivos\n",
    "\n",
    "Esta aula trata das ferrovias e seu papel na expansão econômica da segunda metade do século XIX e início do século XX.\n",
    "\n",
    "Primeiro, revisaremos a legislação e os primeiros projetos ferroviários bem-sucedidos em São Paulo, que será usado aqui como estudo de caso. Em seguida, analisaremos a política de subsídios para as ferrovias e seus resultados.\n",
    "\n",
    "Por fim, avaliaremos os impactos econômicos das ferrovias na economia brasileira."
   ]
  },
  {
   "cell_type": "markdown",
   "metadata": {
    "slideshow": {
     "slide_type": "slide"
    }
   },
   "source": [
    "## Primeiras leis\n",
    "\n",
    "As primeiras leis para criação de ferrovias foram: "
   ]
  },
  {
   "cell_type": "markdown",
   "metadata": {
    "slideshow": {
     "slide_type": "fragment"
    }
   },
   "source": [
    "- Lei Imperial de 1835 – ligação norte-sul do país; "
   ]
  },
  {
   "cell_type": "markdown",
   "metadata": {
    "slideshow": {
     "slide_type": "fragment"
    }
   },
   "source": [
    "- Lei Provincial de São Paulo, 1836 – Santos-Capital."
   ]
  },
  {
   "cell_type": "markdown",
   "metadata": {
    "slideshow": {
     "slide_type": "fragment"
    }
   },
   "source": [
    "Nenhuma delas deu origem a companhias ferroviárias."
   ]
  },
  {
   "cell_type": "markdown",
   "metadata": {
    "slideshow": {
     "slide_type": "slide"
    }
   },
   "source": [
    "## Insucesso\n",
    "\n",
    "Possíveis causas do insucesso inicial:"
   ]
  },
  {
   "cell_type": "markdown",
   "metadata": {
    "slideshow": {
     "slide_type": "fragment"
    }
   },
   "source": [
    "- falta de empreendedorismo? Ausência de \"*visão empresarial para localizar e combinar [os] recursos escassos*” (Mattoon, 1977) - capital, trabalho e tecnologia?"
   ]
  },
  {
   "cell_type": "markdown",
   "metadata": {
    "slideshow": {
     "slide_type": "fragment"
    }
   },
   "source": [
    "- taxa de retorno esperada baixa e incerta?"
   ]
  },
  {
   "cell_type": "markdown",
   "metadata": {
    "slideshow": {
     "slide_type": "slide"
    }
   },
   "source": [
    "## Espírito empreendedor x instituições\n",
    "\n",
    "Na primeira legislação de 1835, p. ex., havia previsão de tarifas máximas, sem garantias quanto aos retornos."
   ]
  },
  {
   "cell_type": "markdown",
   "metadata": {
    "slideshow": {
     "slide_type": "fragment"
    }
   },
   "source": [
    "Para Summerhill (2003), a explicação para o fracasso das primeiras iniciativas no setor ferroviário residiria no desenho institucional do programa, que não estabeleceu regras claras que reduzissem riscos e incerteza para atrair investimentos privados."
   ]
  },
  {
   "cell_type": "markdown",
   "metadata": {
    "slideshow": {
     "slide_type": "fragment"
    }
   },
   "source": [
    "Já a hipótese de ausência de visão empresarial (Mattoon, 1977) atribui, implicitamente, o insucesso das primeiras iniciativas ao baixo nível de desenvolvimento econômico da época, o que somente teria sido superado com a expansão da economia cafeeira."
   ]
  },
  {
   "cell_type": "markdown",
   "metadata": {
    "slideshow": {
     "slide_type": "slide"
    }
   },
   "source": [
    "## A nova legislação\n",
    "\n",
    "O sistema bem-sucedido teve início com o [Decreto no. 641 de 26\n",
    "de junho 1852](http://www2.camara.leg.br/legin/fed/decret/1824-1899/decreto-641-26-junho-1852-558790-publicacaooriginal-80365-pl.html), destinado à construção de ferrovia do município da Corte até as províncias de São Paulo e Minas Gerais."
   ]
  },
  {
   "cell_type": "markdown",
   "metadata": {
    "slideshow": {
     "slide_type": "fragment"
    }
   },
   "source": [
    "Essa lei definiu o modelo geral de incentivos, que foram adaptados e reformulados nos anos seguintes, sobretudo com garantias de juros adicionais pelos governos das províncias (a partir de 1855). Pontos principais:"
   ]
  },
  {
   "cell_type": "markdown",
   "metadata": {
    "slideshow": {
     "slide_type": "fragment"
    }
   },
   "source": [
    "i) 5% de “garantia de juros” (dividendos das ações emitidas pelas\n",
    "companhias) pelo governo imperial; a partir de 1855, com 2% extras pelos\n",
    "governos provinciais;"
   ]
  },
  {
   "cell_type": "markdown",
   "metadata": {
    "slideshow": {
     "slide_type": "subslide"
    }
   },
   "source": [
    "ii) poder de desapropriação de terras particulares (com indenização) e cessão gratuita de terras devolutas pelo governo imperial de áreas ocupadas pelas linhas ferroviárias, estações, armazéns e demais prédios;"
   ]
  },
  {
   "cell_type": "markdown",
   "metadata": {
    "slideshow": {
     "slide_type": "fragment"
    }
   },
   "source": [
    "iii) redução dos direitos de importação para material ferroviário (trilhos, máquinas e equipamentos) e carvão mineral;"
   ]
  },
  {
   "cell_type": "markdown",
   "metadata": {
    "slideshow": {
     "slide_type": "fragment"
    }
   },
   "source": [
    "iv) direito de extração de madeira em terras devolutas para as obras da ferrovia;"
   ]
  },
  {
   "cell_type": "markdown",
   "metadata": {
    "slideshow": {
     "slide_type": "fragment"
    }
   },
   "source": [
    "v) privilégio de zona, área de pouco mais de 30 km (5 léguas) em\n",
    "ambos os lados da linha férrea; posteriormente, concessão de 90 anos."
   ]
  },
  {
   "cell_type": "markdown",
   "metadata": {
    "slideshow": {
     "slide_type": "slide"
    }
   },
   "source": [
    "## Primeiras ferrovias\n",
    "\n",
    "Primeiros projetos ferroviários:"
   ]
  },
  {
   "cell_type": "markdown",
   "metadata": {
    "slideshow": {
     "slide_type": "fragment"
    }
   },
   "source": [
    "**a) Nacionais**: "
   ]
  },
  {
   "cell_type": "markdown",
   "metadata": {
    "slideshow": {
     "slide_type": "fragment"
    }
   },
   "source": [
    "- 1852 (operação em 1854), Estrela-Petrópolis no Rio de Janeiro, concessão a Barão de Mauá;"
   ]
  },
  {
   "cell_type": "markdown",
   "metadata": {
    "slideshow": {
     "slide_type": "fragment"
    }
   },
   "source": [
    "- 1858 (operação), Recife-São Francisco (primeira etapa: Recife ao município do Cabo), pela *Recife and São Francisco Railway Company*, sediada em Londres. "
   ]
  },
  {
   "cell_type": "markdown",
   "metadata": {
    "slideshow": {
     "slide_type": "fragment"
    }
   },
   "source": [
    "- 1875, Estrada de Ferro D. Pedro II, Rio-Cachoeira; em 1890, ligação com São Paulo."
   ]
  },
  {
   "cell_type": "markdown",
   "metadata": {
    "slideshow": {
     "slide_type": "slide"
    }
   },
   "source": [
    "**b) São Paulo**:"
   ]
  },
  {
   "cell_type": "markdown",
   "metadata": {
    "slideshow": {
     "slide_type": "fragment"
    }
   },
   "source": [
    "- *Santos-Jundiaí*: concessão em 1856, incorporação da cia. em 1860 como *San Paulo Railway Company* (SPR). Concessão original vendida a investidores ingleses, início de operação em 1867. Garantia de juros: 5% governo imperial e 2% governo provincial, com reembolso aos governos imperial e provincial com retorno acima de 8%. Ligação do porto de Santos ao interior;"
   ]
  },
  {
   "cell_type": "markdown",
   "metadata": {
    "slideshow": {
     "slide_type": "fragment"
    }
   },
   "source": [
    "- *Cia. Paulista de Estradas de Ferro* (1868): primeiros trechos em operação, Jundiaí-Campinas (1872), Rio Claro (1875), Descalvado (1876). A Paulista adquiriu outras linhas posteriormente e expandiu para MG e MT. Garantia de juros de 7% pelo governo provincial, indenização com retorno acima de 10% até 1877 e daí em diante a 8%."
   ]
  },
  {
   "cell_type": "markdown",
   "metadata": {
    "slideshow": {
     "slide_type": "subslide"
    }
   },
   "source": [
    "- *Companhia Mogyana de Estradas de Ferro* (1872): Campinas a Jaguari (1873), Mogi-Mirim (1873), Amparo (1873), Casa Branca (1878), Ribeirão Preto (1883), depois Minas e outras cidades de São Paulo. Garantia de juros de 7% pelo governo provincial, reembolso com retorno acima de 9%."
   ]
  },
  {
   "cell_type": "markdown",
   "metadata": {
    "slideshow": {
     "slide_type": "subslide"
    }
   },
   "source": [
    "#### <center>Trajetos de ferrovias em São Paulo, 1886</center>\n",
    "\n",
    "<center><img src=\"sp_ferrovias_1886.jpg\", width=900></center>"
   ]
  },
  {
   "cell_type": "markdown",
   "metadata": {
    "slideshow": {
     "slide_type": "slide"
    }
   },
   "source": [
    "# Disputas\n",
    "\n",
    "Um caso interessante de mobilização de capitais e capitalistas: Robert Mattoon (1977) mostra que o Barão de Mauá (primeiro concessionário da Santos-Jundiaí) fez proposta em 1864 para assumir o trecho da Paulista, mas houve imediata reação local."
   ]
  },
  {
   "cell_type": "markdown",
   "metadata": {
    "slideshow": {
     "slide_type": "fragment"
    }
   },
   "source": [
    "Motivos: críticas aos seus métodos, fato de ser elemento estranho aos paulistas, possível ameaça de concorrência e controle do negócio ferroviário."
   ]
  },
  {
   "cell_type": "markdown",
   "metadata": {
    "slideshow": {
     "slide_type": "fragment"
    }
   },
   "source": [
    "José Vergueiro (Ibicaba) e dezenas de fazendeiros, apoiados pelo presidente da Província de São Paulo (Saldanha Marinho), venceram a concorrência. Ou seja, superou-se o *problema da ação coletiva* (Mancur Olson). Importante: capital doméstico foi a base do projeto."
   ]
  },
  {
   "cell_type": "markdown",
   "metadata": {
    "slideshow": {
     "slide_type": "slide"
    }
   },
   "source": [
    "## Interesses e negócios\n",
    "\n",
    "As ferrovias em São Paulo foram incorporadas por capitalistas locais (exceto a SPR, transferida para investidores ingleses) e atraíram recursos de um público variado, não apenas grandes investidores."
   ]
  },
  {
   "cell_type": "markdown",
   "metadata": {
    "slideshow": {
     "slide_type": "fragment"
    }
   },
   "source": [
    "Famílias enriquecidas e influentes participavam de várias atividades, públicas e privadas, boa parte ligadas ao café: produção, comércio, financiamento, imigração, ferrovia e órgãos governamentais. "
   ]
  },
  {
   "cell_type": "markdown",
   "metadata": {
    "slideshow": {
     "slide_type": "fragment"
    }
   },
   "source": [
    "Por exemplo, fazendeiros acionistas da Cia. Paulista (Silva Prado, Souza Queiroz, Vergueiro e Paes de Barros) ocupavam funções executivas do governo provincial, sociedades civis (p.ex., a Sociedade Promotora de Imigração) e bancos (Souza Queiroz, p.ex.)."
   ]
  },
  {
   "cell_type": "markdown",
   "metadata": {
    "slideshow": {
     "slide_type": "subslide"
    }
   },
   "source": [
    "As ações das companhias ferroviárias tornaram-se uma opção atraente de investimentos não só para fazendeiros abastados, mas também para produtores rurais de médio porte, profissionais liberais, comerciantes e funcionários públicos."
   ]
  },
  {
   "cell_type": "markdown",
   "metadata": {
    "slideshow": {
     "slide_type": "slide"
    }
   },
   "source": [
    "## Garantia de juros\n",
    "\n",
    "Sistema de garantia de juros lançado pela lei geral de 1852 foi bem-sucedido, atraindo capital tanto doméstico quanto estrangeiro."
   ]
  },
  {
   "cell_type": "markdown",
   "metadata": {
    "slideshow": {
     "slide_type": "fragment"
    }
   },
   "source": [
    "Garantia de juros: quando rentabilidade da companhia ficava abaixo da taxa de retorno contratada (p.ex., 7%), governo repassava a diferença (que *era debitada no passivo* da empresa, dívida); quando o retorno era maior do que a taxa cotratada (p.ex., 8%), o excedente era *repassado ao governo para reembolso* das garantias adiantadas. Terminado o reembolso, o excedente era *dividido entre\n",
    "governo e companhia*."
   ]
  },
  {
   "cell_type": "markdown",
   "metadata": {
    "slideshow": {
     "slide_type": "fragment"
    }
   },
   "source": [
    "Companhias paulistas obtiveram taxas de retorno médias anuais superiores às taxas pagas pelos títulos do governo (entre 5 e 7% a.a.). As principais companhias abandonaram voluntariamente o esquema de garantia de juros assim que concluíram o reembolso das subvenções recebidas, tendo em vista a rentabilidade elevada e consistente dos projetos."
   ]
  },
  {
   "cell_type": "markdown",
   "metadata": {
    "slideshow": {
     "slide_type": "slide"
    }
   },
   "source": [
    "## Dois exemplos\n",
    "\n",
    "*SPR*: reembolso a partir de rendimento de 8%, recebeu subsídio de 1867 a 1873. Em 1874, passou a reembolsar o governo imperial e depois o provincial, indenizando todas as garantias recebidas em 1887. A Cia. renunciou a qualquer direito à garantia de juros em 1890."
   ]
  },
  {
   "cell_type": "markdown",
   "metadata": {
    "slideshow": {
     "slide_type": "fragment"
    }
   },
   "source": [
    "*Cia. Paulista*: indenização a partir de rendimento acima de 10% até 1877 e daí em diante em 8%; recolheu garantia de juros somente durante a construção e os primeiros anos de operação, entre 1870 e\n",
    "1874; entre 1874 e 1882 reembolsou o governo de São Paulo (lembrar que para a Paulista todos os 7% foram garantidos pelo governo provincial). Renunciou ao subsídio em 1877."
   ]
  },
  {
   "cell_type": "markdown",
   "metadata": {
    "slideshow": {
     "slide_type": "fragment"
    }
   },
   "source": [
    "Apesar do reembolso e do sucesso das principais companhias, a garantia de juros foi um ônus pesado no orçamento da província de São Paulo no início do programa e, sobretudo, nos anos seguintes, com outras ferrovias apoiadas que não geraram retornos sustentáveis (Bragantina, Sorocabana, Ituana, p.ex.). O mesmo ocorreu com várias outras companhias no país, no Império e na República."
   ]
  },
  {
   "cell_type": "markdown",
   "metadata": {
    "slideshow": {
     "slide_type": "slide"
    }
   },
   "source": [
    "## Mais incentivos\n",
    "\n",
    "Novo [decreto imperial no. 2.237 de 3 maio de 1873](http://www2.camara.leg.br/legin/fed/decret/1824-1899/decreto-2237-3-maio-1873-550569-publicacaooriginal-66579-pl.html) deu impulso\n",
    "adicional à formação de companhias ferroviárias. A lei autorizou o\n",
    "governo geral a isentar todas as novas companhias formadas no Brasil\n",
    "do pagamento de direitos de importação sobre equipamentos e\n",
    "insumos:"
   ]
  },
  {
   "cell_type": "markdown",
   "metadata": {
    "slideshow": {
     "slide_type": "fragment"
    }
   },
   "source": [
    "- material rodante (locomotivas e vagões);"
   ]
  },
  {
   "cell_type": "markdown",
   "metadata": {
    "slideshow": {
     "slide_type": "fragment"
    }
   },
   "source": [
    "- aparelhos, máquinas e ferramentas;"
   ]
  },
  {
   "cell_type": "markdown",
   "metadata": {
    "slideshow": {
     "slide_type": "fragment"
    }
   },
   "source": [
    "- combustível, carvão mineral."
   ]
  },
  {
   "cell_type": "markdown",
   "metadata": {
    "slideshow": {
     "slide_type": "slide"
    }
   },
   "source": [
    "## Resultados\n",
    "\n",
    "A expansão ferroviária no Brasil foi tardia, mas rápida, tal como na América Latina como um todo. Ver a seguir os dados de extensão em km das estradas de ferro e as mesmas figuras normalizadas pela população. "
   ]
  },
  {
   "cell_type": "markdown",
   "metadata": {
    "slideshow": {
     "slide_type": "subslide"
    }
   },
   "source": [
    "#### <center>Extensão de ferrovias, América Latina, 1870-1930</center>\n",
    "\n",
    "<center><img src=\"br_ferrovias_km.png\"></center>"
   ]
  },
  {
   "cell_type": "markdown",
   "metadata": {
    "slideshow": {
     "slide_type": "subslide"
    }
   },
   "source": [
    "#### <center>Extensão normalizada de ferrovias, América Latina, 1913</center>\n",
    "\n",
    "<center><img src=\"br_ferrovias_normal.png\", width=600></center>"
   ]
  },
  {
   "cell_type": "markdown",
   "metadata": {
    "slideshow": {
     "slide_type": "slide"
    }
   },
   "source": [
    "# Subsídios necessários?\n",
    "\n",
    "Mas enfim: era a garantia de juros necessária, uma vez que a rentabilidade foi maior do que o limite garantido nas principais companhias?"
   ]
  },
  {
   "cell_type": "markdown",
   "metadata": {
    "slideshow": {
     "slide_type": "fragment"
    }
   },
   "source": [
    "*Ex-post*, os subsídios parecem desnecessários. Mas podem ter sido essenciais para reduzir riscos, incertezas e desconhecimento dos retornos de um empreendimento novo e complexo? Ou não?"
   ]
  },
  {
   "cell_type": "markdown",
   "metadata": {
    "slideshow": {
     "slide_type": "fragment"
    }
   },
   "source": [
    "Observar que companhias nacionais tiveram rentabilidade maior do que a única estrangeira (SPR) em São Paulo."
   ]
  },
  {
   "cell_type": "markdown",
   "metadata": {
    "slideshow": {
     "slide_type": "slide"
    }
   },
   "source": [
    "## Impactos\n",
    "\n",
    "Impactos da ferrovia:"
   ]
  },
  {
   "cell_type": "markdown",
   "metadata": {
    "slideshow": {
     "slide_type": "fragment"
    }
   },
   "source": [
    "- *tradicionalmente citados*: extensão da fronteira do café;\n",
    "ocupação de regiões distantes; mobilização de capital; renovou\n",
    "estruturas gerenciais, financeiras e tecnológicas; fator de dissolução\n",
    "da sociedade escravista por ser “elemento estranho” na sociedade\n",
    "escravista (será?);"
   ]
  },
  {
   "cell_type": "markdown",
   "metadata": {
    "slideshow": {
     "slide_type": "fragment"
    }
   },
   "source": [
    "- *historiografia recente*: efeitos de encadeamento para trás reduzidos, mas redução substancial de custos, tempo e riscos dos transportes (\"*social savings*\") e grande estímulo ao mercado interno (inclusive produtos agrícolas além do café)."
   ]
  },
  {
   "cell_type": "markdown",
   "metadata": {
    "slideshow": {
     "slide_type": "slide"
    }
   },
   "source": [
    "## Social savings\n",
    "\n",
    "O principal impacto positivo das ferrovias foi via *social savings*, isto é, reduções de custo, tempo e risco trazidas no transporte de mercadorias e pessoas, liberando recursos para outros usos alternativos e beneficiando a economia como um todo."
   ]
  },
  {
   "cell_type": "markdown",
   "metadata": {
    "slideshow": {
     "slide_type": "fragment"
    }
   },
   "source": [
    "Os ganhos ou *social savings* dependem dos meios de transportes alternativos existentes e da importância das mercadorias transportadas no produto da economia."
   ]
  },
  {
   "cell_type": "markdown",
   "metadata": {
    "slideshow": {
     "slide_type": "fragment"
    }
   },
   "source": [
    "No caso do Brasil do século XIX, o alto custo do transporte existente permitiu que as ferrovias gerassem uma grande economia de recursos, ampliando mercados, elevando a mobilidade do trabalho e criando novas oportunidades econômicas. Impacto direto, portanto, sobre níveis de produto e renda."
   ]
  },
  {
   "cell_type": "markdown",
   "metadata": {
    "slideshow": {
     "slide_type": "subslide"
    }
   },
   "source": [
    "As estimativas de *social savings* demonstram o alto impacto das ferrovias no Brasil (Summerhill, 2003), mesmo quando comparado com outros países, conforme a tabela a seguir."
   ]
  },
  {
   "cell_type": "markdown",
   "metadata": {
    "slideshow": {
     "slide_type": "slide"
    }
   },
   "source": [
    "#### <center>Estimativas comparadas de *social savings* das ferrovias</center>\n",
    "\n",
    "<center><img src=\"br_social_savings.png\", width=600></center>"
   ]
  }
 ],
 "metadata": {
  "celltoolbar": "Slideshow",
  "kernelspec": {
   "display_name": "Python 3 (ipykernel)",
   "language": "python",
   "name": "python3"
  },
  "language_info": {
   "codemirror_mode": {
    "name": "ipython",
    "version": 3
   },
   "file_extension": ".py",
   "mimetype": "text/x-python",
   "name": "python",
   "nbconvert_exporter": "python",
   "pygments_lexer": "ipython3",
   "version": "3.9.7"
  },
  "toc": {
   "base_numbering": 1,
   "nav_menu": {},
   "number_sections": false,
   "sideBar": false,
   "skip_h1_title": false,
   "title_cell": "Table of Contents",
   "title_sidebar": "Contents",
   "toc_cell": false,
   "toc_position": {},
   "toc_section_display": false,
   "toc_window_display": false
  }
 },
 "nbformat": 4,
 "nbformat_minor": 2
}
