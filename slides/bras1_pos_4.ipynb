{
 "cells": [
  {
   "cell_type": "markdown",
   "metadata": {
    "slideshow": {
     "slide_type": "slide"
    }
   },
   "source": [
    "## <center>Economia Brasileira I - FEA-USP</center>\n",
    "\n",
    "## <center>Aula 4 - Colonização e Desenvolvimento de Longo Prazo</center>\n",
    "\n",
    "### <center>Renato Perim Colistete</center>\n",
    "\n",
    "\n",
    "#### <center>2024</center>"
   ]
  },
  {
   "cell_type": "markdown",
   "metadata": {
    "slideshow": {
     "slide_type": "slide"
    }
   },
   "source": [
    "## Objetivos\n",
    "\n",
    "Esta aula trata do crescimento de longo prazo e das causas do atraso econômico nas Américas.\n",
    "\n",
    "Analisaremos, primeiro, algumas estimativas sobre o crescimento econômico no Brasil e América Latina, avaliando seus problemas e limitações.\n",
    "\n",
    "Em seguida, apresentaremos algumas visões gerais sobre o atraso econômico no Brasil e, em especial, a interpretação de Stanley Engerman e Kenneth Sokoloff sobre as trajetórias divergentes de desenvolvimento de longo prazo nas Américas."
   ]
  },
  {
   "cell_type": "markdown",
   "metadata": {
    "slideshow": {
     "slide_type": "slide"
    }
   },
   "source": [
    "## Estimativas\n",
    "\n",
    "Vamos partir inicialmente das estimativas do PIB *per capita* de países da América Latina e de outras regiões, desde 1500:"
   ]
  },
  {
   "cell_type": "markdown",
   "metadata": {
    "editable": true,
    "slideshow": {
     "slide_type": "subslide"
    },
    "tags": []
   },
   "source": [
    "<center><img src=\"al_pib.png\" width=\"600\"></center>"
   ]
  },
  {
   "cell_type": "markdown",
   "metadata": {
    "editable": true,
    "slideshow": {
     "slide_type": "slide"
    },
    "tags": []
   },
   "source": [
    "## O que ocorreu com América Latina e Brasil?\n",
    "\n",
    "Notar nas estimativas consolidadas da tabela anterior (por John Coatsworth, 2000) que:"
   ]
  },
  {
   "cell_type": "markdown",
   "metadata": {
    "slideshow": {
     "slide_type": "fragment"
    }
   },
   "source": [
    "- a América Latina aparece com níveis de renda *per capita* superiores aos das colônias da América do Norte (na tabela, apenas Estados Unidos, mas também aplicável ao Canadá) em 1700;"
   ]
  },
  {
   "cell_type": "markdown",
   "metadata": {
    "slideshow": {
     "slide_type": "fragment"
    }
   },
   "source": [
    "- o salto dos Estados Unidos teria ocorrido principalmente no século XIX;"
   ]
  },
  {
   "cell_type": "markdown",
   "metadata": {
    "slideshow": {
     "slide_type": "subslide"
    }
   },
   "source": [
    "- os países da América Latina cresceram lentamente ou mesmo recuaram no mesmo período (observar: por essa estimativa, Brasil regride na segunda metade do século XIX – mas ver Furtado a seguir)."
   ]
  },
  {
   "cell_type": "markdown",
   "metadata": {
    "slideshow": {
     "slide_type": "slide"
    }
   },
   "source": [
    "## Furtado e o crescimento no século XIX\n",
    "\n",
    "As estimativas de Furtado (1959) são diferentes. Na verdade, as estimativas dos níveis e do crescimento do PIB no século XIX são precárias e controversas. "
   ]
  },
  {
   "cell_type": "markdown",
   "metadata": {
    "slideshow": {
     "slide_type": "fragment"
    }
   },
   "source": [
    "Os números de Celso Furtado indicam um longo período de estagnação na primeira metade do século XIX, mas significativa expansão na segunda metade:"
   ]
  },
  {
   "cell_type": "markdown",
   "metadata": {
    "slideshow": {
     "slide_type": "fragment"
    }
   },
   "source": [
    "- crescimento da renda *per capita* – **1800-50**: próximo a zero; **1850-1900**: Brasil = 1,5% a.a.; Nordeste = -0,6% a.a.; Sul = 1,0% a.a.; Sudeste = 2,3% a.a."
   ]
  },
  {
   "cell_type": "markdown",
   "metadata": {
    "slideshow": {
     "slide_type": "subslide"
    }
   },
   "source": [
    "- Na 1a metade do século, o resultado seria consequência do declínio das exportações (0,8% a.a.) frente ao crescimento da população (1,3% a.a.); na 2a metade, houve recuperação das exportações, sobretudo com o café."
   ]
  },
  {
   "cell_type": "markdown",
   "metadata": {
    "slideshow": {
     "slide_type": "slide"
    }
   },
   "source": [
    "## Estimativas de Goldsmith\n",
    "\n",
    "Já as estimativas de Raymond Goldsmith (1986) registram um crescimento muito menor da renda *per capita* na segunda metade do século XIX: 0,3% a.a."
   ]
  },
  {
   "cell_type": "markdown",
   "metadata": {
    "slideshow": {
     "slide_type": "fragment"
    }
   },
   "source": [
    "Uma figura similar foi estimada por Claudio Contador e Claudio Haddad (1975) para 1861-1900: 0,4% a.a."
   ]
  },
  {
   "cell_type": "markdown",
   "metadata": {
    "slideshow": {
     "slide_type": "fragment"
    }
   },
   "source": [
    "Angus Maddison (2001), usando os dados de Goldsmith, obteve resultados (em PPP) ainda menores: -0,02 a.a. entre 1850-1890. As estimativas de Goldsmith (via Maddison) são as mais utilizadas em comparações internacionais que incluem o Brasil."
   ]
  },
  {
   "cell_type": "markdown",
   "metadata": {
    "slideshow": {
     "slide_type": "slide"
    }
   },
   "source": [
    "## As estimativas e seus problemas\n",
    "\n",
    "Problema: estimativas tão discrepantes entre Furtado, Goldsmith e outros levam a conclusões opostas com relação ao crescimento na segunda metade do século XIX. Qual é a mais plausível? São confiáveis?"
   ]
  },
  {
   "cell_type": "markdown",
   "metadata": {
    "slideshow": {
     "slide_type": "fragment"
    }
   },
   "source": [
    "As estimativas de Furtado são baseadas nas exportações e na população das regiões do Brasil (1959, caps. 19 e 25)."
   ]
  },
  {
   "cell_type": "markdown",
   "metadata": {
    "slideshow": {
     "slide_type": "fragment"
    }
   },
   "source": [
    "Já a série de Goldsmith resulta de uma média dos índices de salários pagos no Rio de Janeiro (Lobo, 1978), X + M (mas não comércio de cabotagem, p.ex.), gastos públicos da União (não das províncias) e do agregado monetário M2 (Pelaez e Suzigan). A média é então encadeada para trás com as estimativas de produto de Haddad para 1910."
   ]
  },
  {
   "cell_type": "markdown",
   "metadata": {
    "editable": true,
    "slideshow": {
     "slide_type": "slide"
    },
    "tags": []
   },
   "source": [
    "## Revisões e críticas recentes\n",
    "\n",
    "Bacha, Tombolo e Versiani (2023) propuseram recentemente uma revisão dos dados do PIB após 1900 que implica um menor crescimento da economia brasileira entre 1900 e 1980. "
   ]
  },
  {
   "cell_type": "markdown",
   "metadata": {
    "editable": true,
    "slideshow": {
     "slide_type": "fragment"
    },
    "tags": []
   },
   "source": [
    "A principal razão da diferença é que os dados de Haddad (1900-1947) e FGV (1947-1980) não teriam computado atividades importantes do setor de serviços, subestimando seu tamanho. "
   ]
  },
  {
   "cell_type": "markdown",
   "metadata": {
    "editable": true,
    "slideshow": {
     "slide_type": "fragment"
    },
    "tags": []
   },
   "source": [
    "Como essas atividades de serviços teriam crescido menos do que foi incluído, os dados oficiais usados hoje superestimariam o crescimento do período 1900-1980.  "
   ]
  },
  {
   "cell_type": "markdown",
   "metadata": {
    "editable": true,
    "slideshow": {
     "slide_type": "subslide"
    },
    "tags": []
   },
   "source": [
    "A revisão também implica que o nível do PIB em 1900 seria superestimado. Esse fato também afetaria as estimativas de crescimento do PIB do século de 1850-1900 de Goldsmith, que partem do nível do PIB em 1900 estimado por Haddad. "
   ]
  },
  {
   "cell_type": "markdown",
   "metadata": {
    "editable": true,
    "slideshow": {
     "slide_type": "fragment"
    },
    "tags": []
   },
   "source": [
    "Ver a figura abaixo elaborada por Samuel Pessoa (2023)."
   ]
  },
  {
   "cell_type": "markdown",
   "metadata": {
    "editable": true,
    "slideshow": {
     "slide_type": "slide"
    },
    "tags": []
   },
   "source": [
    "<center><img src=\"br_pib_revisado.png\" width=\"700\"></center>"
   ]
  },
  {
   "cell_type": "markdown",
   "metadata": {
    "editable": true,
    "slideshow": {
     "slide_type": "slide"
    },
    "tags": []
   },
   "source": [
    "## Revisão do século XIX\n",
    "\n",
    "Se o nível do PIB em 1900 for, de fato, menor do que o calculado por Haddad (1980), o crescimento da segunda metade do século XIX seria maior do que o estimado por Goldsmith (1986) e adotado por Maddison (2001)."
   ]
  },
  {
   "cell_type": "markdown",
   "metadata": {
    "editable": true,
    "slideshow": {
     "slide_type": "fragment"
    },
    "tags": []
   },
   "source": [
    "Porém, uma primeira revisão proposta por Bacha, Tombolo e Versiani para o século XIX utiliza os mesmos dados de Goldsmith (média de 4 índices, como visto antes). "
   ]
  },
  {
   "cell_type": "markdown",
   "metadata": {
    "editable": true,
    "slideshow": {
     "slide_type": "fragment"
    },
    "tags": []
   },
   "source": [
    "Isto é, os mesmos problemas notados anteriormente sobre o índice de Goldsmith permanecem na revisão do *século XIX* proposta por Bacha, Tombolo e Versiani. "
   ]
  },
  {
   "cell_type": "markdown",
   "metadata": {
    "editable": true,
    "slideshow": {
     "slide_type": "slide"
    },
    "tags": []
   },
   "source": [
    "## Limitações\n",
    "\n",
    "Portanto, o crescimento de longo prazo do Brasil no século XIX continua sendo uma área em que ainda estamos muito pouco informados e seguros."
   ]
  },
  {
   "cell_type": "markdown",
   "metadata": {
    "editable": true,
    "slideshow": {
     "slide_type": "fragment"
    },
    "tags": []
   },
   "source": [
    "São necessários novos estudos quantitativos incorporando dados diferentes (inclusive regionais) e novos métodos de estimação. "
   ]
  },
  {
   "cell_type": "markdown",
   "metadata": {
    "editable": true,
    "slideshow": {
     "slide_type": "fragment"
    },
    "tags": []
   },
   "source": [
    "Mesmo assim, vamos avaliar as estimativas de produção mais usadas (Goldsmith) e dados primários selecionados de algumas variáveis-chave até 1940 para termos alguma perspectiva de longo prazo da economia brasileira."
   ]
  },
  {
   "cell_type": "markdown",
   "metadata": {
    "slideshow": {
     "slide_type": "subslide"
    }
   },
   "source": [
    "## Exportações e outros indicadores\n",
    "\n",
    "É possível notar, por exemplo, que as exportações agrícolas cresceram rapidamente a partir dos anos 1870 pelo menos, com sua participação no total das exportações chegando a 80/90%. "
   ]
  },
  {
   "cell_type": "markdown",
   "metadata": {
    "slideshow": {
     "slide_type": "fragment"
    }
   },
   "source": [
    "A tabela a seguir resume os dados das exportações, além de apresentar as estatísticas disponíveis de produção entre 1850 e 1940 por decênios."
   ]
  },
  {
   "cell_type": "markdown",
   "metadata": {
    "slideshow": {
     "slide_type": "fragment"
    }
   },
   "source": [
    "Algo interessante?"
   ]
  },
  {
   "cell_type": "markdown",
   "metadata": {
    "editable": true,
    "slideshow": {
     "slide_type": "slide"
    },
    "tags": []
   },
   "source": [
    "<center><img src=\"br_indicadores.png\" width=\"700\" height=\"500\"></center>"
   ]
  },
  {
   "cell_type": "markdown",
   "metadata": {
    "editable": true,
    "slideshow": {
     "slide_type": "slide"
    },
    "tags": []
   },
   "source": [
    "## Termos de troca\n",
    "\n",
    "Há também dois indicadores relativos ao setor externo que são importantes para a análise do período: **termos de troca** e “**capacidade para importar**” (*income terms of trade*). Lembrar, primeiro, das definições desses conceitos:"
   ]
  },
  {
   "cell_type": "markdown",
   "metadata": {
    "slideshow": {
     "slide_type": "fragment"
    }
   },
   "source": [
    "Termos de troca (*terms of trade*) = $\\frac{P^x}{P^m}$"
   ]
  },
  {
   "cell_type": "markdown",
   "metadata": {
    "slideshow": {
     "slide_type": "fragment"
    }
   },
   "source": [
    "Capacidade para importar (*income terms of trade*) = $\\frac{Q^x.P^x}{P^m}$"
   ]
  },
  {
   "cell_type": "markdown",
   "metadata": {
    "editable": true,
    "slideshow": {
     "slide_type": "subslide"
    },
    "tags": []
   },
   "source": [
    "<center><img src=\"br_termos_troca.png\" width=\"700\" height=\"500\"></center>"
   ]
  },
  {
   "cell_type": "markdown",
   "metadata": {
    "editable": true,
    "slideshow": {
     "slide_type": "slide"
    },
    "tags": []
   },
   "source": [
    "## Contrafactual de Furtado\n",
    "\n",
    "Voltemos a Furtado. Ele adota o seguinte contrafactual (1959, cap. 25): "
   ]
  },
  {
   "cell_type": "markdown",
   "metadata": {
    "slideshow": {
     "slide_type": "fragment"
    }
   },
   "source": [
    "se a economia brasileira tivesse crescido na 1a metade do século XIX à mesma taxa da 2a metade (1,5% a.a.), a renda *per capita* do país atingiria um nível bem mais elevado (US$ 224) ao final do século."
   ]
  },
  {
   "cell_type": "markdown",
   "metadata": {
    "slideshow": {
     "slide_type": "fragment"
    }
   },
   "source": [
    "Com esse nível de renda, e o crescimento efetivamente observado entre 1900 e 1950, a renda *per capita* do Brasil em 1950 seria de US$ 500, “isto é, comparável à média dos países da Europa Ocidental, nesse ano.” (!)"
   ]
  },
  {
   "cell_type": "markdown",
   "metadata": {
    "slideshow": {
     "slide_type": "fragment"
    }
   },
   "source": [
    "Quais as implicações desse contrafactual?"
   ]
  },
  {
   "cell_type": "markdown",
   "metadata": {
    "slideshow": {
     "slide_type": "slide"
    }
   },
   "source": [
    "## Estagnação x crescimento\n",
    "\n",
    "A interpretação de Furtado sobre o período 1800-1850 é a de que o declínio da economia do ouro levou a reduzido crescimento (ou estagnação) nas regiões sul e sudeste, deprimindo a média nacional, já afetada pelo baixo crescimento das antigas regiões do açúcar e algodão no nordeste. "
   ]
  },
  {
   "cell_type": "markdown",
   "metadata": {
    "slideshow": {
     "slide_type": "fragment"
    }
   },
   "source": [
    "No caso de Minas Gerais, teria havido reversão praticamente a uma economia de autoconsumo, segundo Furtado."
   ]
  },
  {
   "cell_type": "markdown",
   "metadata": {
    "slideshow": {
     "slide_type": "fragment"
    }
   },
   "source": [
    "Vários historiadores, porém, têm apresentado evidências (com estudos locais) de que a economia de MG não retrocedeu ou estagnou, mantendo inclusive a demanda elevada de escravos em uma economia mercantil de alimentos, voltada ao abastecimento interno."
   ]
  },
  {
   "cell_type": "markdown",
   "metadata": {
    "slideshow": {
     "slide_type": "subslide"
    }
   },
   "source": [
    "Entre os autores revisionistas: Roberto Martins (*Growing in Silence*, 1980), Graça Filho (1998)."
   ]
  },
  {
   "cell_type": "markdown",
   "metadata": {
    "slideshow": {
     "slide_type": "fragment"
    }
   },
   "source": [
    "Essa interpretação, por sua vez, foi contestada por Robert Slenes (*Os múltiplos de porcos e diamantes*, 1988), que enfatizou as conexões da produção de alimentos em MG com a economia exportadora de RJ e SP."
   ]
  },
  {
   "cell_type": "markdown",
   "metadata": {
    "slideshow": {
     "slide_type": "fragment"
    }
   },
   "source": [
    "Além disso, os dados do revisionismo são robustos em termos regionais? Eles afetariam os resultados agregados para o Brasil na 1a metade do século XIX?"
   ]
  },
  {
   "cell_type": "markdown",
   "metadata": {
    "slideshow": {
     "slide_type": "slide"
    }
   },
   "source": [
    "## Causas do atraso\n",
    "\n",
    "Agora, uma pergunta mais geral: quais seriam as causas do atraso relativo da América Latina e, mais especificamente, do Brasil no século XIX? Com relação ao Brasil, uma hipótese antiga é a de Leff (1972)."
   ]
  },
  {
   "cell_type": "markdown",
   "metadata": {
    "slideshow": {
     "slide_type": "fragment"
    }
   },
   "source": [
    "A pergunta feita por Leff, utilizando um contrafactual implícito, é:"
   ]
  },
  {
   "cell_type": "markdown",
   "metadata": {
    "slideshow": {
     "slide_type": "fragment"
    }
   },
   "source": [
    "por que não se desenvolveu uma economia de altos salários, alta produtividade e distribuição de renda mais igualitária no Brasil, apesar de oferta abundante de terra e elevada razão terra/trabalho (como nos EUA)?"
   ]
  },
  {
   "cell_type": "markdown",
   "metadata": {
    "slideshow": {
     "slide_type": "slide"
    }
   },
   "source": [
    "## Hipóteses de Leff\n",
    "\n",
    "Hipóteses (apenas) de Leff:"
   ]
  },
  {
   "cell_type": "markdown",
   "metadata": {
    "slideshow": {
     "slide_type": "fragment"
    }
   },
   "source": [
    "i) a oferta elástica de trabalho com o tráfico de escravos em grande escala para o Brasil limitou os efeitos da expansão econômica sobre o trabalho nacional e os salários;"
   ]
  },
  {
   "cell_type": "markdown",
   "metadata": {
    "slideshow": {
     "slide_type": "fragment"
    }
   },
   "source": [
    "ii) manutenção da oferta elástica de trabalho via imigração europeia em massa fez com que salários agrícolas ficassem estáveis ou até caíssem em SP entre 1880-1914, em pleno *boom* da economia cafeeira;"
   ]
  },
  {
   "cell_type": "markdown",
   "metadata": {
    "slideshow": {
     "slide_type": "subslide"
    }
   },
   "source": [
    "iii) resultado: reforço da distribuição de riqueza e renda altamente desigual, com efeitos de longo prazo."
   ]
  },
  {
   "cell_type": "markdown",
   "metadata": {
    "slideshow": {
     "slide_type": "slide"
    }
   },
   "source": [
    "##  Outros fatores\n",
    "\n",
    "Outros fatores citados por Leff:"
   ]
  },
  {
   "cell_type": "markdown",
   "metadata": {
    "slideshow": {
     "slide_type": "fragment"
    }
   },
   "source": [
    "- infraestrutura deficiente de transportes (custos elevados), atenuada com a construção das ferrovias;"
   ]
  },
  {
   "cell_type": "markdown",
   "metadata": {
    "slideshow": {
     "slide_type": "fragment"
    }
   },
   "source": [
    "- imperfeições no mercado de terras que restringiam o acesso à propriedade rural ou a legalização da posse (regime de Sesmarias, Lei de Terras de 1850);"
   ]
  },
  {
   "cell_type": "markdown",
   "metadata": {
    "slideshow": {
     "slide_type": "fragment"
    }
   },
   "source": [
    "- imperfeições no mercado de crédito;"
   ]
  },
  {
   "cell_type": "markdown",
   "metadata": {
    "slideshow": {
     "slide_type": "subslide"
    }
   },
   "source": [
    "- baixo nível de capital humano (educação)."
   ]
  },
  {
   "cell_type": "markdown",
   "metadata": {
    "slideshow": {
     "slide_type": "fragment"
    }
   },
   "source": [
    "Mais uma vez, Leff apenas lista esses fatores, que permaneceram como hipóteses. Não há ordem de importância ou testes empíricos."
   ]
  },
  {
   "cell_type": "markdown",
   "metadata": {
    "slideshow": {
     "slide_type": "slide"
    }
   },
   "source": [
    "## Engerman & Sokoloff\n",
    "\n",
    "Uma tese mais recente e que desencadeou uma onda de novos trabalhos sobre as causas do atraso relativo da América Latina é a de Engerman & Sokoloff (1997, 2002)."
   ]
  },
  {
   "cell_type": "markdown",
   "metadata": {
    "slideshow": {
     "slide_type": "fragment"
    }
   },
   "source": [
    "Os autores partem de um paradoxo: nos primeiros 200 anos da colonização das Américas, a renda *per capita* de algumas partes da América do Sul e Caribe era maior do que a das colônias do norte."
   ]
  },
  {
   "cell_type": "markdown",
   "metadata": {
    "slideshow": {
     "slide_type": "fragment"
    }
   },
   "source": [
    "Mas as colônias do norte, estabelecidas posteriormente e dispondo de recursos naturais menos favoráveis, tiveram desempenho superior no longo prazo, sobretudo a partir do século XIX. Veja a seguir os dados básicos usados por E & S:"
   ]
  },
  {
   "cell_type": "markdown",
   "metadata": {
    "editable": true,
    "slideshow": {
     "slide_type": "subslide"
    },
    "tags": []
   },
   "source": [
    "## <center>Dados básicos</center>\n",
    "\n",
    "<center><img src=\"al_pibpc2.png\", width=700></center>"
   ]
  },
  {
   "cell_type": "markdown",
   "metadata": {
    "editable": true,
    "slideshow": {
     "slide_type": "slide"
    },
    "tags": []
   },
   "source": [
    "## Dotação de fatores e instituições\n",
    "\n",
    "Engerman & Sokoloff argumentaram que a divergência do desempenho econômico no século XIX entre EUA/Canadá e América Latina teve suas raízes na dotação de fatores, na distribuição da riqueza e nos seus efeitos sobre instituições\n",
    "(p.ex., políticas públicas de acesso à terra, políticas educacionais)."
   ]
  },
  {
   "cell_type": "markdown",
   "metadata": {
    "slideshow": {
     "slide_type": "fragment"
    }
   },
   "source": [
    "No Brasil e Caribe, por exemplo, condições climáticas e de solo permitiram a exploração de produtos valorizados no mercado internacional, ao mesmo tempo que escassez de trabalho e escala de produção favoreceram as grandes unidades escravistas (*plantations*)."
   ]
  },
  {
   "cell_type": "markdown",
   "metadata": {
    "slideshow": {
     "slide_type": "fragment"
    }
   },
   "source": [
    "Resultado: sociedades com elevada concentração de riqueza, de poder político e instituições altamente elitistas (educacionais, acesso à terra)."
   ]
  },
  {
   "cell_type": "markdown",
   "metadata": {
    "slideshow": {
     "slide_type": "slide"
    }
   },
   "source": [
    "## Colônias do norte\n",
    "\n",
    "Em grande parte das colônias do norte (que deram origem a Estados Unidos e Canadá), condições climáticas e do solo, além da escassez de trabalho, favoreceram a produção de grãos e cereais com baixas economias de escala e baseada na pequena e média produção familiar."
   ]
  },
  {
   "cell_type": "markdown",
   "metadata": {
    "slideshow": {
     "slide_type": "fragment"
    }
   },
   "source": [
    "No sul (EUA), as colônias adotaram trabalho escravo nas plantações de tabaco, arroz e algodão; ainda assim, o tamanho das propriedades, a participação dos escravos e a desigualdade resultante foram menores do que nas colônias tropicais do Caribe e Brasil."
   ]
  },
  {
   "cell_type": "markdown",
   "metadata": {
    "slideshow": {
     "slide_type": "fragment"
    }
   },
   "source": [
    "Resultado: sociedades com distribuição *relativamente* menos desigual da riqueza, de poder político e instituições mais acessíveis a uma parcela maior da população (educacionais, terra)."
   ]
  },
  {
   "cell_type": "markdown",
   "metadata": {
    "slideshow": {
     "slide_type": "slide"
    }
   },
   "source": [
    "## Instituições elitistas\n",
    "\n",
    "Na análise de Engerman & Sokoloff, portanto, a desigualdade na propriedade da riqueza (no início, principalmente a terra) condicionou as instituições, que por sua vez reforçaram a estrutura desigual via políticas elitistas."
   ]
  },
  {
   "cell_type": "markdown",
   "metadata": {
    "slideshow": {
     "slide_type": "fragment"
    }
   },
   "source": [
    "Resumindo, para grande parte das Américas, as instituições criadas sob alta desigualdade nas colônias foram moldadas pelas elites, com leis e políticas públicas que limitaram o acesso à *participação política* e às *oportunidades econômicas* às próprias elites."
   ]
  },
  {
   "cell_type": "markdown",
   "metadata": {
    "slideshow": {
     "slide_type": "fragment"
    }
   },
   "source": [
    "Por outro lado, instituições desenvolvidas sob a relativamente menor desigualdade na posse da terra nas colônias do norte foram mais favoráveis à *participação política* e às *oportunidades econômicas* de um segmento mais amplo da população (embora também proprietários)."
   ]
  },
  {
   "cell_type": "markdown",
   "metadata": {
    "slideshow": {
     "slide_type": "slide"
    }
   },
   "source": [
    "## Persistência \n",
    "\n",
    "No longo prazo, as mesmas instituições elitistas que restringiram o acesso da maioria da população às oportunidades econômicas produziram resultados econômicos negativos no longo prazo (renda *per capita*, mas também outros indicadores de desenvolvimento econômico)."
   ]
  },
  {
   "cell_type": "markdown",
   "metadata": {
    "slideshow": {
     "slide_type": "fragment"
    }
   },
   "source": [
    "Causa: instituições elitistas (restrições à participação política e a oportunidades econômicas) persistiram ao longo do tempo, por meio de políticas públicas que as reforçaram (embora tal fato não implique que sejam irreversíveis)."
   ]
  },
  {
   "cell_type": "markdown",
   "metadata": {
    "slideshow": {
     "slide_type": "fragment"
    }
   },
   "source": [
    "Dois exemplos de políticas ou instituições que restringiram o acesso da maioria: propriedade da terra (*Homestead Act* x Lei de Terras no Brasil) e educação primária (descentralização orçamentária, educação pública de massa x escassez crônica de recursos, educação elitista). Para concluir, ver as tabelas abaixo."
   ]
  },
  {
   "cell_type": "markdown",
   "metadata": {
    "editable": true,
    "slideshow": {
     "slide_type": "slide"
    },
    "tags": []
   },
   "source": [
    "## <center>Participação eleitoral</center>\n",
    "\n",
    "<center><img src=\"al_franchise.png\", width=700, height=500></center>"
   ]
  },
  {
   "cell_type": "markdown",
   "metadata": {
    "editable": true,
    "slideshow": {
     "slide_type": "slide"
    },
    "tags": []
   },
   "source": [
    "## <center>Participação eleitoral</center>\n",
    "\n",
    "<center><img src=\"al_franchise2.png\", width=700></center>"
   ]
  },
  {
   "cell_type": "markdown",
   "metadata": {
    "editable": true,
    "slideshow": {
     "slide_type": "slide"
    },
    "tags": []
   },
   "source": [
    "## <center>Alfabetização</center>\n",
    "\n",
    "<center><img src=\"al_education.png\", width=700, height=400></center>"
   ]
  }
 ],
 "metadata": {
  "celltoolbar": "Slideshow",
  "kernelspec": {
   "display_name": "Python 3 (ipykernel)",
   "language": "python",
   "name": "python3"
  },
  "language_info": {
   "codemirror_mode": {
    "name": "ipython",
    "version": 3
   },
   "file_extension": ".py",
   "mimetype": "text/x-python",
   "name": "python",
   "nbconvert_exporter": "python",
   "pygments_lexer": "ipython3",
   "version": "3.8.19"
  },
  "toc": {
   "base_numbering": 1,
   "nav_menu": {},
   "number_sections": false,
   "sideBar": true,
   "skip_h1_title": true,
   "title_cell": "Table of Contents",
   "title_sidebar": "Contents",
   "toc_cell": false,
   "toc_position": {},
   "toc_section_display": true,
   "toc_window_display": false
  }
 },
 "nbformat": 4,
 "nbformat_minor": 4
}
