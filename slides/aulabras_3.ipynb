{
 "cells": [
  {
   "cell_type": "markdown",
   "metadata": {
    "slideshow": {
     "slide_type": "slide"
    }
   },
   "source": [
    "# <center>Economia Brasileira I - FEA-USP</center>\n",
    "\n",
    "## <center>Aula 3 - Economia Colonial</center>\n",
    "\n",
    "### <center>Renato Perim Colistete</center>\n",
    "\n",
    "\n",
    "#### <center>2021</center>"
   ]
  },
  {
   "cell_type": "markdown",
   "metadata": {
    "slideshow": {
     "slide_type": "slide"
    }
   },
   "source": [
    "## Objetivos\n",
    "\n",
    "Nesta aula, trataremos brevemente da economia colonial e de seu papel na formação social e econômica do Brasil\n",
    "nos séculos XVI a XVIII."
   ]
  },
  {
   "cell_type": "markdown",
   "metadata": {
    "slideshow": {
     "slide_type": "fragment"
    }
   },
   "source": [
    "Vamos destacar dois temas: começaremos com as economias do açúcar e do ouro, suas características econômicas e sociais básicas."
   ]
  },
  {
   "cell_type": "markdown",
   "metadata": {
    "slideshow": {
     "slide_type": "fragment"
    }
   },
   "source": [
    "Em seguida, faremos um balanço de algumas interpretações influentes e controvérsias."
   ]
  },
  {
   "cell_type": "markdown",
   "metadata": {
    "slideshow": {
     "slide_type": "slide"
    }
   },
   "source": [
    "## Características\n",
    "\n",
    "Vejamos inicialmente algumas características econômicas da colônia."
   ]
  },
  {
   "cell_type": "markdown",
   "metadata": {
    "slideshow": {
     "slide_type": "fragment"
    }
   },
   "source": [
    "Por volta de 1580, o Brasil-colônia possuía uma população de 60 mil habitantes, dos quais 30 mil eram europeus (c. 1776 = 1.555.200; c. 1800 = 2.061.657). (Johnson, 1987; Alden, 1987)"
   ]
  },
  {
   "cell_type": "markdown",
   "metadata": {
    "slideshow": {
     "slide_type": "fragment"
    }
   },
   "source": [
    "Como observa Schwartz (1987), o Brasil já era na época uma “colônia de povoamento”, embora peculiar: uma *plantation* tropical capitalizada pela Europa, abastecendo os mercados europeus com um produto tropical e baseada no trabalho escravo (indígena)."
   ]
  },
  {
   "cell_type": "markdown",
   "metadata": {
    "slideshow": {
     "slide_type": "slide"
    }
   },
   "source": [
    "## Açúcar\n",
    "\n",
    "Pernambuco e Bahia foram as principais regiões da mais importante atividade econômica no início da colonização,\n",
    "a produção e exportação de açúcar."
   ]
  },
  {
   "cell_type": "markdown",
   "metadata": {
    "slideshow": {
     "slide_type": "fragment"
    }
   },
   "source": [
    "Número de engenhos 1570-1629:"
   ]
  },
  {
   "cell_type": "markdown",
   "metadata": {
    "slideshow": {
     "slide_type": "slide"
    }
   },
   "source": [
    "<center><img src=\"br_acucar_colonia.png\" width=\"600\" height=\"300\"></center>"
   ]
  },
  {
   "cell_type": "markdown",
   "metadata": {
    "slideshow": {
     "slide_type": "slide"
    }
   },
   "source": [
    "## Níveis de renda\n",
    "\n",
    "A concentração da produção açucareira principalmente no Nordeste refletiu-se nos níveis de renda, como é possível ver nesta estimativa da renda da população não escravizada de algumas capitanias por volta de 1593 (Johnson, 1987)."
   ]
  },
  {
   "cell_type": "markdown",
   "metadata": {
    "slideshow": {
     "slide_type": "fragment"
    }
   },
   "source": [
    "A estimativa é baseada nos dados do dízimo real (10% sobre toda a produção da terra: açúcar, mandioca, banana, etc.). Média do Brasil: 6$750."
   ]
  },
  {
   "cell_type": "markdown",
   "metadata": {
    "slideshow": {
     "slide_type": "subslide"
    }
   },
   "source": [
    "<center><img src=\"br_engenho.png\" width=\"600\" height=\"350\"></center>"
   ]
  },
  {
   "cell_type": "markdown",
   "metadata": {
    "slideshow": {
     "slide_type": "slide"
    }
   },
   "source": [
    "## Estrutura social\n",
    "\n",
    "A estrutura social da economia do açúcar era relativamente complexa, como na Bahia:"
   ]
  },
  {
   "cell_type": "markdown",
   "metadata": {
    "slideshow": {
     "slide_type": "fragment"
    }
   },
   "source": [
    "- *senhores de engenho*, *mas* também"
   ]
  },
  {
   "cell_type": "markdown",
   "metadata": {
    "slideshow": {
     "slide_type": "fragment"
    }
   },
   "source": [
    "- *lavradores* – brasileiros ou europeus (comerciantes, profissionais e militares) que plantavam cana para vender aos engenhos, sob contratos de 9-18 anos, pequenos proprietários de escravos (2-30 escravos);"
   ]
  },
  {
   "cell_type": "markdown",
   "metadata": {
    "slideshow": {
     "slide_type": "subslide"
    }
   },
   "source": [
    "- *pobres* – brancos e libertos que exerciam ocupações variadas em termos de qualificação, com salários anuais (mestre de açúcar, supervisores), diários ou por tarefas (cortadores de lenha, tanoeiros, ferreiros, carpinteiros). "
   ]
  },
  {
   "cell_type": "markdown",
   "metadata": {
    "slideshow": {
     "slide_type": "slide"
    }
   },
   "source": [
    "## Outras atividades\n",
    "\n",
    "A economia colonial do Nordeste não se resumia ao açúcar, naturalmente. Outras atividades:"
   ]
  },
  {
   "cell_type": "markdown",
   "metadata": {
    "slideshow": {
     "slide_type": "fragment"
    }
   },
   "source": [
    "- *tabaco*: 2a mais importante até meados do século XVIII, reunindo pequenos mas também grandes produtores;"
   ]
  },
  {
   "cell_type": "markdown",
   "metadata": {
    "slideshow": {
     "slide_type": "fragment"
    }
   },
   "source": [
    "- *pecuária*: principalmente bovinos, utilizados no engenho, transporte e consumo; criação incluía grandes propriedades no sertão da BA, PE, SE e outros, mas predominavam pequenas/médias propriedades;"
   ]
  },
  {
   "cell_type": "markdown",
   "metadata": {
    "slideshow": {
     "slide_type": "subslide"
    }
   },
   "source": [
    "- *mandioca*: compreendendo tanto a produção de subsistência com pequenos excedentes levados a mercados locais quanto produção em larga escala para engenhos, cidades e exportação para África como parte do circuito mercantil do tráfico de escravos."
   ]
  },
  {
   "cell_type": "markdown",
   "metadata": {
    "slideshow": {
     "slide_type": "slide"
    }
   },
   "source": [
    "## Economia do ouro\n",
    "\n",
    "A partir do final do séc. XVII a busca e exploração de ouro tornaram-se um empreendimento em larga escala, tanto em Minas Gerais quanto na região central, Mato Grosso e Goiás."
   ]
  },
  {
   "cell_type": "markdown",
   "metadata": {
    "slideshow": {
     "slide_type": "fragment"
    }
   },
   "source": [
    "Ao tornar-se capitania independente em 1720, Minas Gerais havia se consolidado como o principal centro da nova atividade colonial."
   ]
  },
  {
   "cell_type": "markdown",
   "metadata": {
    "slideshow": {
     "slide_type": "fragment"
    }
   },
   "source": [
    "A extração de ouro trouxe uma série de atividades produtivas auxiliares. Exemplos: "
   ]
  },
  {
   "cell_type": "markdown",
   "metadata": {
    "slideshow": {
     "slide_type": "slide"
    }
   },
   "source": [
    "a) pecuária e agricultura de alimentos, tendo conexões com nordeste (alimentos) e sul (charque) do país; "
   ]
  },
  {
   "cell_type": "markdown",
   "metadata": {
    "slideshow": {
     "slide_type": "fragment"
    }
   },
   "source": [
    "b) diversificação da atividade artesanal: pedreiros, carpinteiros, ferreiros, tanoeiros, p.ex."
   ]
  },
  {
   "cell_type": "markdown",
   "metadata": {
    "slideshow": {
     "slide_type": "fragment"
    }
   },
   "source": [
    "c) indústrias auxiliares: telhas, sabão, utensílios e produtos têxteis."
   ]
  },
  {
   "cell_type": "markdown",
   "metadata": {
    "slideshow": {
     "slide_type": "subslide"
    }
   },
   "source": [
    "Maior período de expansão na extração do ouro ocorreu entre 1700 e 1720 (quase quintuplicou); entre 1721 e 1735 continuou crescendo mas em menor ritmo; novo *boom* entre 1735 e 1750; e a partir de 1750, lento declínio."
   ]
  },
  {
   "cell_type": "markdown",
   "metadata": {
    "slideshow": {
     "slide_type": "slide"
    }
   },
   "source": [
    "## Sentido da colonização\n",
    "\n",
    "Como os historiadores interpretaram a Colônia? Uma visão clássica é a do “sentido da colonização” – conceito que estrutura a análise de Caio Prado Jr. sobre a Colônia em seus livros *Formação do Brasil Contemporâneo – Colônia* (1942) e *História Econômica do Brasil* (1945)."
   ]
  },
  {
   "cell_type": "markdown",
   "metadata": {
    "slideshow": {
     "slide_type": "fragment"
    }
   },
   "source": [
    "> “Vasta empresa comercial [...] destinada a explorar os recursos naturais de um território ainda virgem em\n",
    "proveito do comércio europeu”."
   ]
  },
  {
   "cell_type": "markdown",
   "metadata": {
    "slideshow": {
     "slide_type": "fragment"
    }
   },
   "source": [
    "> “É este o verdadeiro sentido da colonização tropical, de que o Brasil é uma das resultantes”."
   ]
  },
  {
   "cell_type": "markdown",
   "metadata": {
    "slideshow": {
     "slide_type": "slide"
    }
   },
   "source": [
    "## Estrutura da colônia\n",
    "\n",
    "Estrutura produtiva com três elementos básicos: a) grande propriedade rural; b) monocultura e c) trabalho escravo."
   ]
  },
  {
   "cell_type": "markdown",
   "metadata": {
    "slideshow": {
     "slide_type": "fragment"
    }
   },
   "source": [
    "Para Caio Prado, essa seria a “célula fundamental da estrutura agrária brasileira” e, mais do que isso, “a base principal em que se assenta toda a estrutura do país, econômica e social”"
   ]
  },
  {
   "cell_type": "markdown",
   "metadata": {
    "slideshow": {
     "slide_type": "fragment"
    }
   },
   "source": [
    "As atividades voltadas ao mercado interno não possuiriam “vida autônoma”, sendo auxiliares às atividades fundamentais (de exportação). "
   ]
  },
  {
   "cell_type": "markdown",
   "metadata": {
    "slideshow": {
     "slide_type": "slide"
    }
   },
   "source": [
    "## Revisões e críticas\n",
    "\n",
    "Vários trabalhos têm qualificado ou rejeitado a interpretação da economia colonial de Caio Prado – que é às vezes chamada de “visão plantacionista”. Dois aspectos são ilustrativos das revisões propostas:"
   ]
  },
  {
   "cell_type": "markdown",
   "metadata": {
    "slideshow": {
     "slide_type": "fragment"
    }
   },
   "source": [
    "- *mercado interno*: a economia colonial poderia ser resumida à grande lavoura monocultora e exportadora? O setor agrícola doméstico seria de fato marginal e secundário?"
   ]
  },
  {
   "cell_type": "markdown",
   "metadata": {
    "slideshow": {
     "slide_type": "fragment"
    }
   },
   "source": [
    "- *propriedade escravista*: a unidade representativa da agricultura colonial seria realmente a grande propriedade escravista?"
   ]
  },
  {
   "cell_type": "markdown",
   "metadata": {
    "slideshow": {
     "slide_type": "slide"
    }
   },
   "source": [
    "## Mercado interno\n",
    "\n",
    "Estudos recentes têm mostrado que o mercado interno foi relevante, com o comércio de gêneros básicos e alimentos (feijão, milho,\n",
    "charque, cereais, sal) (Schwartz, Fragoso, p.ex.)."
   ]
  },
  {
   "cell_type": "markdown",
   "metadata": {
    "slideshow": {
     "slide_type": "fragment"
    }
   },
   "source": [
    "Produção em pequenas propriedades e em terras arrendadas, parceria e outras modalidades de contrato foram importantes."
   ]
  },
  {
   "cell_type": "markdown",
   "metadata": {
    "slideshow": {
     "slide_type": "fragment"
    }
   },
   "source": [
    "Igualmente relevante foi a presença do trabalhador livre: pequenos proprietários, agregados, arrendatários, camaradas, trabalho por empreitada, a jornal, diarista."
   ]
  },
  {
   "cell_type": "markdown",
   "metadata": {
    "slideshow": {
     "slide_type": "slide"
    }
   },
   "source": [
    "##  Propriedade escrava\n",
    "\n",
    "Na economia do ouro em Minas Gerais o pequeno proprietário de escravos (até 5 escravos) foi dominante, com 70% ou mais dos proprietários em várias localidades no início do século XVIII (mas notar: grande maioria não possuía escravos)."
   ]
  },
  {
   "cell_type": "markdown",
   "metadata": {
    "slideshow": {
     "slide_type": "fragment"
    }
   },
   "source": [
    "Proprietários de até 5 escravos em MG detinham de 28% a 39% (de acordo com o ano e localidade) do total e os com mais de 20 escravos variaram de 12,8% a 36,3% em 1804."
   ]
  },
  {
   "cell_type": "markdown",
   "metadata": {
    "slideshow": {
     "slide_type": "fragment"
    }
   },
   "source": [
    "Padrão similar em outras regiões e épocas, embora com variações. Por exemplo, no nordeste açucareiro (Schwartz) e\n",
    "em MG e SP do início do século XIX (Luna & Klein)."
   ]
  },
  {
   "cell_type": "markdown",
   "metadata": {
    "slideshow": {
     "slide_type": "subslide"
    }
   },
   "source": [
    "Problema: o que é pequena ou grande propriedade?"
   ]
  },
  {
   "cell_type": "markdown",
   "metadata": {
    "slideshow": {
     "slide_type": "slide"
    }
   },
   "source": [
    "## Controvérsias\n",
    "\n",
    "Um exemplo de crítica direta às teses clássicas é a de Fragoso & Florentino (Arcaísmo como Projeto, 1993; Fragoso, Homens de Grossa Ventura, 1998)."
   ]
  },
  {
   "cell_type": "markdown",
   "metadata": {
    "slideshow": {
     "slide_type": "fragment"
    }
   },
   "source": [
    "Segundo os autores, a interpretação de Caio Prado chega a duas conclusões básicas:"
   ]
  },
  {
   "cell_type": "markdown",
   "metadata": {
    "slideshow": {
     "slide_type": "fragment"
    }
   },
   "source": [
    "- “preponderância do capital mercantil metropolitano sobre a produção colonial”;"
   ]
  },
  {
   "cell_type": "markdown",
   "metadata": {
    "slideshow": {
     "slide_type": "subslide"
    }
   },
   "source": [
    "- limites para formação de um mercado interno na colônia, dada a unidade autônoma, autosuficiente, da fazenda."
   ]
  },
  {
   "cell_type": "markdown",
   "metadata": {
    "slideshow": {
     "slide_type": "slide"
    }
   },
   "source": [
    "## Antigo Sistema Colonial\n",
    "\n",
    "Segundo Fragoso & Florentino (1993), Fernando Novais reforçou a abordagem de Caio Prado de dominância do circuito\n",
    "mercantil metropolitano e de um setor de subsistência autocontido."
   ]
  },
  {
   "cell_type": "markdown",
   "metadata": {
    "slideshow": {
     "slide_type": "fragment"
    }
   },
   "source": [
    "Mas notar: diferentemente de Caio Prado, Novais associou a colonização, o Antigo Sistema Colonial, ao objetivo final\n",
    "(funcional) da acumulação primitiva de capitais, que teria dado origem ao capitalismo moderno."
   ]
  },
  {
   "cell_type": "markdown",
   "metadata": {
    "slideshow": {
     "slide_type": "slide"
    }
   },
   "source": [
    "## Alternativa\n",
    "\n",
    "A interpretação alternativa de Fragoso & Florentino baseia-se em duas ideias básicas:"
   ]
  },
  {
   "cell_type": "markdown",
   "metadata": {
    "slideshow": {
     "slide_type": "fragment"
    }
   },
   "source": [
    "- em vez de secundária, economia de subsistência teria sido importante, assim como a produção para o mercado interno;"
   ]
  },
  {
   "cell_type": "markdown",
   "metadata": {
    "slideshow": {
     "slide_type": "fragment"
    }
   },
   "source": [
    "- colônia foi capaz de gerar “circuitos internos de acumulação” e produção mercantil de alimentos diversificada."
   ]
  },
  {
   "cell_type": "markdown",
   "metadata": {
    "slideshow": {
     "slide_type": "slide"
    }
   },
   "source": [
    "## E a historiografia?\n",
    "\n",
    "Porém, em que medida as questões anteriores foram negligenciadas pela historiografia clássica menos geral (em relação aos livros de Caio Prado Jr.) ou mais especializada? Ver por exemplo:"
   ]
  },
  {
   "cell_type": "markdown",
   "metadata": {
    "slideshow": {
     "slide_type": "fragment"
    }
   },
   "source": [
    "Mafalda Zemella, *O Abastecimento da Capitania das Minas Gerais no Século XVIII*, 1951;"
   ]
  },
  {
   "cell_type": "markdown",
   "metadata": {
    "slideshow": {
     "slide_type": "fragment"
    }
   },
   "source": [
    "Miriam Ellis, *Contribuição ao Estudo do Abastecimento das Áreas Mineradoras do Brasil no Século XVIII*, 1961;"
   ]
  },
  {
   "cell_type": "markdown",
   "metadata": {
    "slideshow": {
     "slide_type": "fragment"
    }
   },
   "source": [
    "Sérgio Buarque de Holanda,“Movimentos da População em São Paulo no Século XVIII”, 1966;"
   ]
  },
  {
   "cell_type": "markdown",
   "metadata": {
    "slideshow": {
     "slide_type": "subslide"
    }
   },
   "source": [
    "Alcir Lenharo, *As Tropas da Moderação: O Abastecimento da Corte na Formação Política do Brasil, 1818-1942*, 1979."
   ]
  },
  {
   "cell_type": "markdown",
   "metadata": {
    "slideshow": {
     "slide_type": "fragment"
    }
   },
   "source": [
    "Além disso, o próprio Caio Prado não considerou de fato a produção do mercado interno, comércio entre regiões e a pequena e média propriedade? Ver capítulos de Prado Jr. (1942) ou seus trabalhos da década de 1930."
   ]
  },
  {
   "cell_type": "markdown",
   "metadata": {
    "slideshow": {
     "slide_type": "slide"
    }
   },
   "source": [
    "## Setor exportador x setor doméstico?\n",
    "\n",
    "Mais especificamente, o que disseram Caio Prado Jr. e Celso Furtado sobre setor exportador e setor doméstico?"
   ]
  },
  {
   "cell_type": "markdown",
   "metadata": {
    "slideshow": {
     "slide_type": "fragment"
    }
   },
   "source": [
    "Na análise de ambos, a agricultura de exportação teria sido o setor dinâmico por excelência e o que induzia outras atividades (domésticas) a ele relacionadas."
   ]
  },
  {
   "cell_type": "markdown",
   "metadata": {
    "slideshow": {
     "slide_type": "fragment"
    }
   },
   "source": [
    "E Caio Prado e Celso Furtado retrataram as pequenas e médias propriedades (e a produção de alimentos) como “auxiliares”, “subsidiárias” ou “dependentes” do setor agrícola exportador (dominado por grandes propriedades)."
   ]
  },
  {
   "cell_type": "markdown",
   "metadata": {
    "slideshow": {
     "slide_type": "subslide"
    }
   },
   "source": [
    "Independentemente de como se avalie essas interpretações, elas não foram vistas pelos autores como tendo significado predomínio quantitativo do setor exportador. "
   ]
  },
  {
   "cell_type": "markdown",
   "metadata": {
    "slideshow": {
     "slide_type": "fragment"
    }
   },
   "source": [
    "Por exemplo, Furtado estimou que o setor exportador representava 1/4 da renda interna do Brasil em 1800, e 1/6 em 1850, o que implica um vasto setor doméstico em termos de magnitude."
   ]
  },
  {
   "cell_type": "markdown",
   "metadata": {
    "slideshow": {
     "slide_type": "slide"
    }
   },
   "source": [
    "## Visão alternativa?\n",
    "\n",
    "O que restou da controvérsia? Vejam essa formulação da crítica em Fragoso, *Homens de Grossa Aventura*:"
   ]
  },
  {
   "cell_type": "markdown",
   "metadata": {
    "slideshow": {
     "slide_type": "fragment"
    }
   },
   "source": [
    "- A economia colonial era de fato “escravista e exportadora (esses são seus traços estruturais mais amplos)” e “subjugada às conjunturas do mercado internacional”;"
   ]
  },
  {
   "cell_type": "markdown",
   "metadata": {
    "slideshow": {
     "slide_type": "fragment"
    }
   },
   "source": [
    "- mas também “reunia outras características estruturais”: a) “possuía outras formas de produção (ao lado da escravista)”; e b) “um mercado interno”, com espaço para “acumulações endógenas” (p. 25)."
   ]
  }
 ],
 "metadata": {
  "celltoolbar": "Slideshow",
  "kernelspec": {
   "display_name": "Python 3 (ipykernel)",
   "language": "python",
   "name": "python3"
  },
  "language_info": {
   "codemirror_mode": {
    "name": "ipython",
    "version": 3
   },
   "file_extension": ".py",
   "mimetype": "text/x-python",
   "name": "python",
   "nbconvert_exporter": "python",
   "pygments_lexer": "ipython3",
   "version": "3.9.6"
  },
  "toc": {
   "base_numbering": 1,
   "nav_menu": {},
   "number_sections": false,
   "sideBar": true,
   "skip_h1_title": true,
   "title_cell": "Table of Contents",
   "title_sidebar": "Contents",
   "toc_cell": false,
   "toc_position": {},
   "toc_section_display": true,
   "toc_window_display": false
  }
 },
 "nbformat": 4,
 "nbformat_minor": 2
}
