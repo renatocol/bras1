{
 "cells": [
  {
   "cell_type": "markdown",
   "metadata": {
    "slideshow": {
     "slide_type": "slide"
    }
   },
   "source": [
    "# <center>Economia Brasileira I - FEA-USP</center>\n",
    "\n",
    "## <center>Aula 4 - Colonização e Desenvolvimento de Longo Prazo</center>\n",
    "\n",
    "### <center>Renato Perim Colistete</center>\n",
    "\n",
    "\n",
    "#### <center>2021</center>"
   ]
  },
  {
   "cell_type": "markdown",
   "metadata": {
    "slideshow": {
     "slide_type": "slide"
    }
   },
   "source": [
    "## Objetivos\n",
    "\n",
    "Esta aula trata do crescimento de longo prazo e das causas do atraso econômico nas Américas.\n",
    "\n",
    "Analisaremos, primeiro, algumas estimativas sobre o crescimento no Brasil e América Latina, avaliando seus\n",
    "problemas e limitações.\n",
    "\n",
    "Em seguida, apresentaremos algumas visões gerais sobre o atraso econômico no Brasil e, em especial, a interpretação de Stanley Engerman e Kenneth Sokoloff sobre as trajetórias divergentes de desenvolvimento de longo prazo nas Américas."
   ]
  },
  {
   "cell_type": "markdown",
   "metadata": {
    "slideshow": {
     "slide_type": "slide"
    }
   },
   "source": [
    "## Estimativas\n",
    "\n",
    "Vamos partir inicialmente das estimativas do PIB *per capita* de vários países da América Latina e de outras regiões, desde 1500:"
   ]
  },
  {
   "cell_type": "markdown",
   "metadata": {
    "slideshow": {
     "slide_type": "subslide"
    }
   },
   "source": [
    "<center><img src=\"al_pib.png\" width=\"900\" height=\"400\"></center>"
   ]
  },
  {
   "cell_type": "markdown",
   "metadata": {
    "slideshow": {
     "slide_type": "slide"
    }
   },
   "source": [
    "## O que ocorreu com América Latina e Brasil?\n",
    "\n",
    "Notar nas estimativas consolidadas da tabela anterior (por John Coatsworth, 2000) que:"
   ]
  },
  {
   "cell_type": "markdown",
   "metadata": {
    "slideshow": {
     "slide_type": "fragment"
    }
   },
   "source": [
    "- a América Latina teria níveis de renda *per capita* superiores aos das colônias da América do Norte (na tabela, apenas Estados Unidos, mas também aplicável ao Canadá) em 1700;"
   ]
  },
  {
   "cell_type": "markdown",
   "metadata": {
    "slideshow": {
     "slide_type": "fragment"
    }
   },
   "source": [
    "- o salto dos Estados Unidos teria ocorrido no século XIX;"
   ]
  },
  {
   "cell_type": "markdown",
   "metadata": {
    "slideshow": {
     "slide_type": "subslide"
    }
   },
   "source": [
    "- os países da América Latina cresceram lentamente ou mesmo recuaram no mesmo período (observar: por tal estimativa, Brasil regride na segunda metade do século XIX – mas ver Furtado a seguir)."
   ]
  },
  {
   "cell_type": "markdown",
   "metadata": {
    "slideshow": {
     "slide_type": "slide"
    }
   },
   "source": [
    "## Furtado e o crescimento no século XIX\n",
    "\n",
    "As estimativas de Furtado (1959) são diferentes. Na verdade, as estimativas dos níveis e crescimento do PIB no século XIX são precárias e controversas. "
   ]
  },
  {
   "cell_type": "markdown",
   "metadata": {
    "slideshow": {
     "slide_type": "fragment"
    }
   },
   "source": [
    "Os números de Celso Furtado indicam um longo período de estagnação na 1a metade do século XIX, mas significativa expansão na segunda metade:"
   ]
  },
  {
   "cell_type": "markdown",
   "metadata": {
    "slideshow": {
     "slide_type": "fragment"
    }
   },
   "source": [
    "- crescimento da renda *per capita* – **1800-50**: próximo a zero; **1850-1900**: Brasil = 1,5% a.a.; Nordeste = -0,6% a.a.; Sul = 1,0% a.a.; Sudeste = 2,3% a.a."
   ]
  },
  {
   "cell_type": "markdown",
   "metadata": {
    "slideshow": {
     "slide_type": "subslide"
    }
   },
   "source": [
    "- Na 1a metade do século, o resultado seria consequência do declínio das exportações (0,8% a.a.) frente ao crescimento da população (1,3% a.a.); na 2a metade, houve recuperação das exportações, sobretudo com o café."
   ]
  },
  {
   "cell_type": "markdown",
   "metadata": {
    "slideshow": {
     "slide_type": "slide"
    }
   },
   "source": [
    "## Estimativas de Goldsmith\n",
    "\n",
    "Já as estimativas de Raymond Goldsmith (1986) registram um crescimento muito menor da renda *per capita* na segunda metade do século XIX: 0,3% a.a."
   ]
  },
  {
   "cell_type": "markdown",
   "metadata": {
    "slideshow": {
     "slide_type": "fragment"
    }
   },
   "source": [
    "Uma figura similar foi estimada por Claudio Contador e Claudio Haddad (1975) para 1861-1900: 0,4% a.a."
   ]
  },
  {
   "cell_type": "markdown",
   "metadata": {
    "slideshow": {
     "slide_type": "subslide"
    }
   },
   "source": [
    "Angus Maddison (2001), usando os dados de Goldsmith, obteve resultados (em PPP) ainda menores: -0,02 a.a. entre 1850-1890. As estimativas de Goldsmith (via Maddison) são as mais utilizadas em comparações internacionais que incluem o Brasil."
   ]
  },
  {
   "cell_type": "markdown",
   "metadata": {
    "slideshow": {
     "slide_type": "slide"
    }
   },
   "source": [
    "## As estimativas e seus problemas\n",
    "\n",
    "Problema: estimativas tão discrepantes entre Furtado, Goldsmith e outros levam a conclusões opostas com relação ao crescimento na segunda metade do século XIX. Qual é mais plausível? São confiáveis?"
   ]
  },
  {
   "cell_type": "markdown",
   "metadata": {
    "slideshow": {
     "slide_type": "fragment"
    }
   },
   "source": [
    "As estimativas de Furtado são baseadas nas exportações e na população das regiões (1959, caps. 19 e 25)."
   ]
  },
  {
   "cell_type": "markdown",
   "metadata": {
    "slideshow": {
     "slide_type": "fragment"
    }
   },
   "source": [
    "Já a série de Goldsmith resulta de uma média dos índices de salários pagos no Rio de Janeiro (Lobo, 1978), X + M (mas não comércio de cabotagem, p.ex.), gastos públicos da União (não das províncias) e do agregado monetário M2 (Pelaez e Suzigan) encadeados com as estimativas de produto de Haddad para 1910."
   ]
  },
  {
   "cell_type": "markdown",
   "metadata": {
    "slideshow": {
     "slide_type": "slide"
    }
   },
   "source": [
    "## O que dizem os dados disponíveis?\n",
    "\n",
    "Portanto, o crescimento de longo prazo do Brasil é uma área em que ainda estamos muito pouco informados e seguros."
   ]
  },
  {
   "cell_type": "markdown",
   "metadata": {
    "slideshow": {
     "slide_type": "fragment"
    }
   },
   "source": [
    "São necessários novos estudos quantitativos incorporando dados diferentes (inclusive regionais) e novos métodos de estimação. "
   ]
  },
  {
   "cell_type": "markdown",
   "metadata": {
    "slideshow": {
     "slide_type": "fragment"
    }
   },
   "source": [
    "Mesmo assim, vamos avaliar o comportamento das estimativas mais usadas (Goldsmith) e dados primários selecionados de algumas variáveis-chave até 1940."
   ]
  },
  {
   "cell_type": "markdown",
   "metadata": {
    "slideshow": {
     "slide_type": "subslide"
    }
   },
   "source": [
    "## Termos de troca\n",
    "\n",
    "Podemos notar, por exemplo, que as exportações agrícolas cresceram rapidamente a partir dos anos 1870 pelo menos, com sua participação no total das exportações chegando a 80/90%. "
   ]
  },
  {
   "cell_type": "markdown",
   "metadata": {
    "slideshow": {
     "slide_type": "fragment"
    }
   },
   "source": [
    "Vejamos esses e outros dados a seguir, inclusive o comportamento de dois indicadores importantes do setor externo, os termos de troca e a “capacidade para importar” (*income terms of trade*). Primeiro, as definições desses dois indicadores:"
   ]
  },
  {
   "cell_type": "markdown",
   "metadata": {
    "slideshow": {
     "slide_type": "fragment"
    }
   },
   "source": [
    "Termos de troca (*terms of trade*) = $\\frac{P^x}{P^m}$"
   ]
  },
  {
   "cell_type": "markdown",
   "metadata": {
    "slideshow": {
     "slide_type": "fragment"
    }
   },
   "source": [
    "Capacidade para importar (*income terms of trade*) = $\\frac{Q^x.P^x}{P^m}$"
   ]
  },
  {
   "cell_type": "markdown",
   "metadata": {
    "slideshow": {
     "slide_type": "slide"
    }
   },
   "source": [
    "<center><img src=\"br_indicadores.png\" width=\"700\" height=\"400\"></center>"
   ]
  },
  {
   "cell_type": "markdown",
   "metadata": {
    "slideshow": {
     "slide_type": "subslide"
    }
   },
   "source": [
    "<center><img src=\"br_termos_troca.png\" width=\"700\" height=\"400\"></center>"
   ]
  },
  {
   "cell_type": "markdown",
   "metadata": {
    "slideshow": {
     "slide_type": "slide"
    }
   },
   "source": [
    "## Contrafactual de Furtado\n",
    "\n",
    "Voltemos a Furtado. Ele adota o seguinte contrafactual (1959, cap. 25): "
   ]
  },
  {
   "cell_type": "markdown",
   "metadata": {
    "slideshow": {
     "slide_type": "fragment"
    }
   },
   "source": [
    "se a economia brasileira tivesse crescido na 1a metade do século XIX à mesma taxa da 2a metade (1,5% a.a.), a renda *per capita* do país chegaria ao final daquele século bem mais elevada (US$ 224)."
   ]
  },
  {
   "cell_type": "markdown",
   "metadata": {
    "slideshow": {
     "slide_type": "fragment"
    }
   },
   "source": [
    "Com esse nível de renda, e o crescimento efetivamente observado entre 1900 e 1950, a renda *per capita* do Brasil em 1950 seria de US$ 500, “isto é, comparável à média dos países da Europa Ocidental, nesse ano.” (!)"
   ]
  },
  {
   "cell_type": "markdown",
   "metadata": {
    "slideshow": {
     "slide_type": "fragment"
    }
   },
   "source": [
    "Quais as implicações desse contrafactual?"
   ]
  },
  {
   "cell_type": "markdown",
   "metadata": {
    "slideshow": {
     "slide_type": "slide"
    }
   },
   "source": [
    "## Estagnação x crescimento\n",
    "\n",
    "A interpretação de Furtado sobre o período 1800-50 é a de que o declínio da economia do ouro levou a reduzido crescimento (ou estagnação) nas regiões sul e sudeste, deprimindo a média nacional, já afetada pelo baixo\n",
    "crescimento das antigas regiões do açúcar e algodão (Nordeste). No caso de\n",
    "MG, teria havido então uma reversão a uma economia de autoconsumo."
   ]
  },
  {
   "cell_type": "markdown",
   "metadata": {
    "slideshow": {
     "slide_type": "fragment"
    }
   },
   "source": [
    "Em vez de estagnação, porém, vários historiadores têm apresentado evidências (localizadas) de que a economia de MG não retrocedeu, mantendo inclusive a demanda de escravos em uma economia mercantil de alimentos, voltada ao abastecimento interno."
   ]
  },
  {
   "cell_type": "markdown",
   "metadata": {
    "slideshow": {
     "slide_type": "fragment"
    }
   },
   "source": [
    "Entre os autores revisionistas: Roberto Martins (*Growing in Silence*, 1980), Graça Filho (1998)."
   ]
  },
  {
   "cell_type": "markdown",
   "metadata": {
    "slideshow": {
     "slide_type": "subslide"
    }
   },
   "source": [
    "Essa interpretação, por sua vez, foi contestada por Robert Slenes (1988), que enfatizou as conexões da produção de alimentos em MG com a economia exportadora de RJ e SP."
   ]
  },
  {
   "cell_type": "markdown",
   "metadata": {
    "slideshow": {
     "slide_type": "fragment"
    }
   },
   "source": [
    "Além disso, os dados do revisionismo são robustos em termos regionais? Eles afetariam os resultados agregados para o Brasil na 1a metade do século XIX? E o contrafactual de Furtado? E a análise de Slenes (1988)?"
   ]
  },
  {
   "cell_type": "markdown",
   "metadata": {
    "slideshow": {
     "slide_type": "slide"
    }
   },
   "source": [
    "## Causas do atraso\n",
    "\n",
    "Afinal, quais seriam as causas do atraso relativo da América Latina e, mais especificamente, do Brasil no século XIX? Com relação ao Brasil, uma hipótese antiga é a de Leff (1972)."
   ]
  },
  {
   "cell_type": "markdown",
   "metadata": {
    "slideshow": {
     "slide_type": "fragment"
    }
   },
   "source": [
    "A pergunta feita por Leff, utilizando um contrafactual implícito, é:"
   ]
  },
  {
   "cell_type": "markdown",
   "metadata": {
    "slideshow": {
     "slide_type": "fragment"
    }
   },
   "source": [
    "por que não se desenvolveu uma economia de altos salários, alta produtividade e distribuição de renda mais igualitária no Brasil, apesar de oferta abundante de terra e elevada razão terra/trabalho (como nos EUA)? (Qual é o contrafactual implícito?)."
   ]
  },
  {
   "cell_type": "markdown",
   "metadata": {
    "slideshow": {
     "slide_type": "slide"
    }
   },
   "source": [
    "## Hipóteses de Leff\n",
    "\n",
    "Hipóteses (apenas) de Leff:"
   ]
  },
  {
   "cell_type": "markdown",
   "metadata": {
    "slideshow": {
     "slide_type": "fragment"
    }
   },
   "source": [
    "i) oferta elástica de trabalho com o tráfico de escravos limitou os efeitos da expansão econômica sobre o trabalho nacional e os salários;"
   ]
  },
  {
   "cell_type": "markdown",
   "metadata": {
    "slideshow": {
     "slide_type": "fragment"
    }
   },
   "source": [
    "ii) manutenção da oferta elástica de trabalho via imigração europeia em massa fez com que salários agrícolas caíssem em SP entre 1880-1914, em pleno *boom* da economia cafeeira;"
   ]
  },
  {
   "cell_type": "markdown",
   "metadata": {
    "slideshow": {
     "slide_type": "subslide"
    }
   },
   "source": [
    "iii) resultado: reforço da distribuição de riqueza e renda altamente desigual, com efeitos de longo prazo."
   ]
  },
  {
   "cell_type": "markdown",
   "metadata": {
    "slideshow": {
     "slide_type": "slide"
    }
   },
   "source": [
    "##  Outros fatores\n",
    "\n",
    "Outros fatores citados por Leff:"
   ]
  },
  {
   "cell_type": "markdown",
   "metadata": {
    "slideshow": {
     "slide_type": "fragment"
    }
   },
   "source": [
    "- infra-estrutura deficiente de transportes (custos elevados), atenuada com a construção das ferrovias;"
   ]
  },
  {
   "cell_type": "markdown",
   "metadata": {
    "slideshow": {
     "slide_type": "fragment"
    }
   },
   "source": [
    "- imperfeições no mercado de terras (regime de Sesmarias, Lei de Terras de 1850);"
   ]
  },
  {
   "cell_type": "markdown",
   "metadata": {
    "slideshow": {
     "slide_type": "fragment"
    }
   },
   "source": [
    "- imperfeições no mercado de crédito;"
   ]
  },
  {
   "cell_type": "markdown",
   "metadata": {
    "slideshow": {
     "slide_type": "subslide"
    }
   },
   "source": [
    "- baixo nível de capital humano (educação)."
   ]
  },
  {
   "cell_type": "markdown",
   "metadata": {
    "slideshow": {
     "slide_type": "fragment"
    }
   },
   "source": [
    "Mais uma vez, Leff apenas lista esses fatores, que permanecem como hipóteses. Não há ordem de importância ou testes empíricos."
   ]
  },
  {
   "cell_type": "markdown",
   "metadata": {
    "slideshow": {
     "slide_type": "slide"
    }
   },
   "source": [
    "## Engerman & Sokoloff\n",
    "\n",
    "Uma tese recente e que desencadeou uma onda de novos trabalhos sobre as causas do atraso relativo da América Latina é a de Engerman & Sokoloff (1997, 2002)."
   ]
  },
  {
   "cell_type": "markdown",
   "metadata": {
    "slideshow": {
     "slide_type": "fragment"
    }
   },
   "source": [
    "Os autores partem de um paradoxo: nos primeiros 200 anos da colonização das Américas, a renda *per capita* de algumas partes da América do Sul e Caribe era maior do que a das colônias do norte."
   ]
  },
  {
   "cell_type": "markdown",
   "metadata": {
    "slideshow": {
     "slide_type": "fragment"
    }
   },
   "source": [
    "Mas as colônias do norte, estabelecidas posteriormente e dispondo de recursos naturais menos favoráveis, tiveram desempenho superior no longo prazo, sobretudo a partir do século XIX."
   ]
  },
  {
   "cell_type": "markdown",
   "metadata": {
    "slideshow": {
     "slide_type": "subslide"
    }
   },
   "source": [
    "## <center>Dados básicos</center>\n",
    "\n",
    "<center><img src=\"al_pibpc2.png\"></center>"
   ]
  },
  {
   "cell_type": "markdown",
   "metadata": {
    "slideshow": {
     "slide_type": "slide"
    }
   },
   "source": [
    "## Dotação de fatores e instituições\n",
    "\n",
    "Engerman & Sokoloff argumentam que a divergência de desempenho econômico no século XIX entre EUA/Canadá e América Latina tem suas raízes na dotação de fatores, na distribuição da riqueza e nos seus efeitos sobre instituições\n",
    "(políticas, acesso à terra, educacionais)."
   ]
  },
  {
   "cell_type": "markdown",
   "metadata": {
    "slideshow": {
     "slide_type": "fragment"
    }
   },
   "source": [
    "No Brasil e Caribe, por exemplo, condições climáticas e de solo permitiram a exploração de produtos valorizados no mercado internacional, enquanto escassez de trabalho e escala de produção favoreceram as grandes unidades (*plantations*) escravistas."
   ]
  },
  {
   "cell_type": "markdown",
   "metadata": {
    "slideshow": {
     "slide_type": "fragment"
    }
   },
   "source": [
    "Resultado: sociedades com elevada concentração de riqueza, de poder político e instituições altamente elitistas (educacionais, acesso à terra)."
   ]
  },
  {
   "cell_type": "markdown",
   "metadata": {
    "slideshow": {
     "slide_type": "slide"
    }
   },
   "source": [
    "## Colônias do norte\n",
    "\n",
    "Em grande parte das colônias do norte (que deram origem a Estados Unidos e Canadá), condições climáticas e do solo, além da escassez de trabalho, favoreceram a produção de grãos com baixas economias de escala e pequena e média produção familiar."
   ]
  },
  {
   "cell_type": "markdown",
   "metadata": {
    "slideshow": {
     "slide_type": "fragment"
    }
   },
   "source": [
    "No sul (EUA), as colônias adotaram trabalho escravo nas plantações de tabaco, arroz e algodão; ainda assim, o tamanho das propriedades, a participação dos escravos e a desigualdade resultante foram menores do que nas colônias tropicais do Caribe e Brasil."
   ]
  },
  {
   "cell_type": "markdown",
   "metadata": {
    "slideshow": {
     "slide_type": "fragment"
    }
   },
   "source": [
    "Resultado: sociedades com distribuição relativamente menos desigual da riqueza, de poder político e instituições mais acessíveis à maioria da população (educacionais, terra)."
   ]
  },
  {
   "cell_type": "markdown",
   "metadata": {
    "slideshow": {
     "slide_type": "slide"
    }
   },
   "source": [
    "## Instituições elitistas\n",
    "\n",
    "Na análise de Engerman & Sokoloff, portanto, a desigualdade na propriedade da riqueza (terra, p.ex.) condicionou as instituições, que por sua vez reforçaram a estrutura desigual via políticas elitistas."
   ]
  },
  {
   "cell_type": "markdown",
   "metadata": {
    "slideshow": {
     "slide_type": "fragment"
    }
   },
   "source": [
    "Instituições criadas sob elevada desigualdade nas colônias foram moldadas pelas elites, com leis e políticas públicas que limitaram o acesso às oportunidades econômicas às próprias elites."
   ]
  },
  {
   "cell_type": "markdown",
   "metadata": {
    "slideshow": {
     "slide_type": "fragment"
    }
   },
   "source": [
    "Instituições desenvolvidas sob a relativamente menor desigualdade na posse da terra nas colônias do norte foram mais\n",
    "favoráveis à participação de um segmento mais amplo da população (embora também proprietários) e a instituições e\n",
    "políticas mais inclusivas."
   ]
  },
  {
   "cell_type": "markdown",
   "metadata": {
    "slideshow": {
     "slide_type": "slide"
    }
   },
   "source": [
    "## Persistência\n",
    "\n",
    "Ainda conforme Engerman & Sokoloff, instituições elitistas restringiram o acesso da maioria da população às oportunidades econômicas, com resultados econômicos negativos no longo prazo (renda *per capita*, mas também outros indicadores de desenvolvimento econômico)."
   ]
  },
  {
   "cell_type": "markdown",
   "metadata": {
    "slideshow": {
     "slide_type": "fragment"
    }
   },
   "source": [
    "Instituições elitistas – restrições à participação política – persistência ao longo do tempo, por meio de políticas públicas que as reforçam (embora tal fato não implique que sejam irreversíveis)."
   ]
  },
  {
   "cell_type": "markdown",
   "metadata": {
    "slideshow": {
     "slide_type": "fragment"
    }
   },
   "source": [
    "Dois exemplos de políticas ou instituições que restringiram o acesso da maioria: propriedade da terra (*Homestead Act* x Lei de Terras no Brasil) e educação primária (descentralização orçamentária, educação pública de massa x escassez crônica de recursos, educação elitista). Ver tabelas a seguir para concluir."
   ]
  },
  {
   "cell_type": "markdown",
   "metadata": {
    "slideshow": {
     "slide_type": "slide"
    }
   },
   "source": [
    "## <center>Participação eleitoral</center>\n",
    "\n",
    "<center><img src=\"al_franchise.png\"></center>"
   ]
  },
  {
   "cell_type": "markdown",
   "metadata": {
    "slideshow": {
     "slide_type": "slide"
    }
   },
   "source": [
    "## <center>Participação eleitoral</center>\n",
    "\n",
    "<center><img src=\"al_franchise2.png\"></center>"
   ]
  },
  {
   "attachments": {},
   "cell_type": "markdown",
   "metadata": {
    "slideshow": {
     "slide_type": "slide"
    }
   },
   "source": [
    "## <center>Alfabetização</center>\n",
    "\n",
    "<center><img src=\"al_education.png\"></center>"
   ]
  }
 ],
 "metadata": {
  "celltoolbar": "Slideshow",
  "kernelspec": {
   "display_name": "Python 3 (ipykernel)",
   "language": "python",
   "name": "python3"
  },
  "language_info": {
   "codemirror_mode": {
    "name": "ipython",
    "version": 3
   },
   "file_extension": ".py",
   "mimetype": "text/x-python",
   "name": "python",
   "nbconvert_exporter": "python",
   "pygments_lexer": "ipython3",
   "version": "3.9.6"
  },
  "toc": {
   "base_numbering": 1,
   "nav_menu": {},
   "number_sections": false,
   "sideBar": true,
   "skip_h1_title": true,
   "title_cell": "Table of Contents",
   "title_sidebar": "Contents",
   "toc_cell": false,
   "toc_position": {},
   "toc_section_display": true,
   "toc_window_display": false
  }
 },
 "nbformat": 4,
 "nbformat_minor": 2
}
