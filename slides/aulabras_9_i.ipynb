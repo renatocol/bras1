{
 "cells": [
  {
   "cell_type": "markdown",
   "metadata": {
    "slideshow": {
     "slide_type": "fragment"
    }
   },
   "source": [
    "# <center>Economia Brasileira I - FEA-USP</center>\n",
    "\n",
    "## <center>Aula 9 - A Crise de 1929 e a Grande Depressão (parte 1)</center>\n",
    "\n",
    "### <center>Renato Perim Colistete</center>\n",
    "\n",
    "\n",
    "#### <center>2021</center>"
   ]
  },
  {
   "cell_type": "markdown",
   "metadata": {
    "slideshow": {
     "slide_type": "slide"
    }
   },
   "source": [
    "## Objetivos\n",
    "\n",
    "Veremos nesta e na aula seguinte, a política econômica e a economia durante a Crise de 1929 e a Grande Depressão.\n",
    "\n",
    "Para tratar desse período recuaremos às políticas que antecederam a crise durante o governo Washington Luís. Vamos examinar inicialmente as políticas monetária, cambial e fiscal. Qual foi a orientação geral dessas políticas?\n",
    "Como essas políticas se relacionam com o colapso de 1929? \n",
    "\n",
    "Posteriormente, trataremos da política do café e dos resultados relativos às principais variáveis macroeconômicas. Ao final, voltaremos à abordagem de Celso Furtado sobre as condições de uma economia primária-exportadora sob o\n",
    "Padrão Ouro."
   ]
  },
  {
   "cell_type": "markdown",
   "metadata": {
    "slideshow": {
     "slide_type": "slide"
    }
   },
   "source": [
    "## Campanha do Padrão Ouro\n",
    "\n",
    "Vejamos, inicialmente, os anos anteriores à crise de 1929. Na campanha eleitoral de 1926, [Washington Luís](http://www.fgv.br/cpdoc/acervo/dicionarios/verbete-biografico/washington-luis-pereira-de-sousa) (candidato único) comprometeu-se com o retorno ao Padrão Ouro."
   ]
  },
  {
   "cell_type": "markdown",
   "metadata": {
    "slideshow": {
     "slide_type": "fragment"
    }
   },
   "source": [
    "No início, sua proposta era ambígua o suficiente para agradar vários grupos que apoiavam a volta ao antigo regime monetário, movimento aliás que ocorria internacionalmente (lembrar o retorno da Inglaterra, controvérsias)."
   ]
  },
  {
   "cell_type": "markdown",
   "metadata": {
    "slideshow": {
     "slide_type": "fragment"
    }
   },
   "source": [
    "A alternativa convencional de restauração do Padrão Ouro seria idêntica à linha seguida pelos governos Campos Sales e Rodrigues Alves, ou seja, recolhimento de papel-moeda, valorização gradual do mil-réis, convergência para o padrão de 27 d."
   ]
  },
  {
   "cell_type": "markdown",
   "metadata": {
    "slideshow": {
     "slide_type": "slide"
    }
   },
   "source": [
    "## Estabilização\n",
    "\n",
    "Porém, já antes da posse, Washington Luís defendeu uma política distinta da tradicional: a estabilização cambial imediata com o lançamento de uma Caixa de Estabilização (equivalente à Caixa de Conversão)."
   ]
  },
  {
   "cell_type": "markdown",
   "metadata": {
    "slideshow": {
     "slide_type": "fragment"
    }
   },
   "source": [
    "Logo após tomar posse, Washington Luís sancionou o [decreto no 5.108](https://www2.camara.leg.br/legin/fed/decret/1920-1929/decreto-5108-18-dezembro-1926-564612-republicacao-88572-pl.html) de 18/12/1926 determinando o retorno ao Padrão Ouro à *taxa de 6 d./mil-réis* e a criação da Caixa de Estabilização."
   ]
  },
  {
   "cell_type": "markdown",
   "metadata": {
    "slideshow": {
     "slide_type": "fragment"
    }
   },
   "source": [
    "Na prática, o retorno ao Padrão Ouro era mais propriamente uma meta futura, pois a *conversibilidade* em ouro ficou\n",
    "dependente de decisão posterior (art. 3o). Nesse ínterim, a Caixa de Estabilização receberia os depósitos do ouro em circulação, em troca de bilhetes com curso legal."
   ]
  },
  {
   "cell_type": "markdown",
   "metadata": {
    "slideshow": {
     "slide_type": "subslide"
    }
   },
   "source": [
    "Ou seja, prevalecia ainda o curso forçado (i.e., papel do Tesouro ou de banco com poder liberatório representa ouro, mas não é conversível)."
   ]
  },
  {
   "cell_type": "markdown",
   "metadata": {
    "slideshow": {
     "slide_type": "slide"
    }
   },
   "source": [
    "## Concepção\n",
    "\n",
    "O modelo básico da Caixa seguido pelo governo Washington Luís havia sido adotado pela Inglaterra em suas colônias e pela Argentina."
   ]
  },
  {
   "cell_type": "markdown",
   "metadata": {
    "slideshow": {
     "slide_type": "fragment"
    }
   },
   "source": [
    "Além disso a proposta refletia a visão de que:"
   ]
  },
  {
   "cell_type": "markdown",
   "metadata": {
    "slideshow": {
     "slide_type": "fragment"
    }
   },
   "source": [
    "- a deflação não deveria ser perseguida como meio para retornar à situação do pré-guerra;"
   ]
  },
  {
   "cell_type": "markdown",
   "metadata": {
    "slideshow": {
     "slide_type": "fragment"
    }
   },
   "source": [
    "- câmbio alto (moeda valorizada) não constituía instrumento necessário da política monetária; pelo contrário, a taxa deveria ser baseada nas taxas normais, correntes;"
   ]
  },
  {
   "cell_type": "markdown",
   "metadata": {
    "slideshow": {
     "slide_type": "subslide"
    }
   },
   "source": [
    "- a política deveria ser complementada por uma política fiscal restritiva."
   ]
  },
  {
   "cell_type": "markdown",
   "metadata": {
    "slideshow": {
     "slide_type": "slide"
    }
   },
   "source": [
    "## Mecanismo\n",
    "Três elementos importantes da política adotada de estabilização do câmbio.\n"
   ]
  },
  {
   "cell_type": "markdown",
   "metadata": {
    "slideshow": {
     "slide_type": "fragment"
    }
   },
   "source": [
    "Primeiro, a paridade (6 d.) foi definida a partir do nível da taxa corrente. Mas poucos meses antes (ainda em 1926), no governo [Arthur Bernardes](cpdoc.fgv.br/sites/default/files/verbetes/primeira-republica/BERNARDES,%20Artur.pdf), a taxa de câmbio havia chegado próximo a 8 d./mil-réis. Na época, chamou-se a taxa da estabilização de “câmbio vil”, câmbio aviltado."
   ]
  },
  {
   "cell_type": "markdown",
   "metadata": {
    "slideshow": {
     "slide_type": "fragment"
    }
   },
   "source": [
    "Segundo, o sistema baseava-se na realização de empréstimos no exterior para abastecer a Caixa de Estabilização com ouro, além de suprir as necessidades orçamentárias do governo."
   ]
  },
  {
   "cell_type": "markdown",
   "metadata": {
    "slideshow": {
     "slide_type": "subslide"
    }
   },
   "source": [
    "Terceiro, o sistema pressupunha a continuidade da emissão de meio circulante, na forma dos bilhetes lançados pela Caixa em troca dos depósitos em ouro (= Caixa de Conversão no período 1906-1914)."
   ]
  },
  {
   "cell_type": "markdown",
   "metadata": {
    "slideshow": {
     "slide_type": "slide"
    }
   },
   "source": [
    "## Meio circulante\n",
    "\n",
    "Como medida adicional, o papel de autoridade monetária então exercido pelo Banco do Brasil (dec. 4.635 de 8/1/1923, gov. Arthur Bernades) foi suspenso."
   ]
  },
  {
   "cell_type": "markdown",
   "metadata": {
    "slideshow": {
     "slide_type": "fragment"
    }
   },
   "source": [
    "O Banco do Brasil também interrompeu a política de recolhimento de papel-moeda emitido pelo Tesouro (mecanismo deflacionário, de redução do meio circulante)."
   ]
  },
  {
   "cell_type": "markdown",
   "metadata": {
    "slideshow": {
     "slide_type": "fragment"
    }
   },
   "source": [
    "Ambas medidas convergiam para reforçar a expansão monetária. Além disso, o programa de valorização tornou-se\n",
    "permanente em 1926, com pressão adicional sobre recursos públicos e crédito. Ver a seguir."
   ]
  },
  {
   "cell_type": "markdown",
   "metadata": {
    "slideshow": {
     "slide_type": "slide"
    }
   },
   "source": [
    "## Defesa permanente\n",
    "\n",
    "A defesa do café foi transferida para o estado de São Paulo em dez/1924 – [Instituto Paulista da Defesa Permanente do Café](https://www.al.sp.gov.br/repositorio/legislacao/lei/1924/lei-2004-19.12.1924.html) (Instituto de Defesa do Café, como passou a ser chamado a partir 1926)."
   ]
  },
  {
   "cell_type": "markdown",
   "metadata": {
    "slideshow": {
     "slide_type": "fragment"
    }
   },
   "source": [
    "Agora, em vez de emergencial como as valorizações de 1906-7, 1917-8 e 1921-2, a compra e formação de estoques ganharam caráter regular e “permanente”, sob a direção do estado de São Paulo."
   ]
  },
  {
   "cell_type": "markdown",
   "metadata": {
    "slideshow": {
     "slide_type": "fragment"
    }
   },
   "source": [
    "Empréstimo de £10 milhões contratado com Lazard Brothers Co. Ltd. de Londres deu apoio ao sistema - com garantia de “taxa de viação” de até 1 mil-réis (ouro) sobre saca de café transportada."
   ]
  },
  {
   "cell_type": "markdown",
   "metadata": {
    "slideshow": {
     "slide_type": "slide"
    }
   },
   "source": [
    "## Café, moeda e câmbio\n",
    "\n",
    "A ideia era similar àquela que inspirou a valorização de 1906. A defesa permanente do café asseguraria a estabilidade da entrada de divisas, essenciais para o país."
   ]
  },
  {
   "cell_type": "markdown",
   "metadata": {
    "slideshow": {
     "slide_type": "fragment"
    }
   },
   "source": [
    "Ao mesmo tempo, a Caixa de Estabilização impediria a subida da taxa de câmbio, o que se ocorresse anularia – na visão do governo – os ganhos advindos do sucesso da valorização."
   ]
  },
  {
   "cell_type": "markdown",
   "metadata": {
    "slideshow": {
     "slide_type": "fragment"
    }
   },
   "source": [
    "Assim, política monetária, câmbio e café novamente se vincularam intimamente, definindo as diretrizes básicas da\n",
    "política econômica."
   ]
  },
  {
   "cell_type": "markdown",
   "metadata": {
    "slideshow": {
     "slide_type": "slide"
    }
   },
   "source": [
    "## Inconsistência\n",
    "\n",
    "Uma crítica já elaborada na época era de que essa fórmula era danosa e condenada ao fracasso. O argumento: a emissão dos bilhetes da Caixa correspondia a uma expansão do meio circulante, levando ao aumento dos preços."
   ]
  },
  {
   "cell_type": "markdown",
   "metadata": {
    "slideshow": {
     "slide_type": "fragment"
    }
   },
   "source": [
    "A inflação elevaria os custos de produção, alterando os preços relativos e prejudicando as exportações, sob vigência de um regime de câmbio fixo como o Padrão Ouro. Ou seja, o aparente benefício do câmbio baixo para os exportadores seria de curto prazo, efêmero."
   ]
  },
  {
   "cell_type": "markdown",
   "metadata": {
    "slideshow": {
     "slide_type": "fragment"
    }
   },
   "source": [
    "Paralelamente: preços elevados deterioravam o custo de vida, reduzindo o poder de compra dos assalariados e aumentando demanda por reajustes. O Tesouro era sobrecarregado com a necessidade de tomar empréstimos para abastecer a Caixa e manter a taxa de câmbio fixa. Desequilíbrios fiscais e monetários, externos e internos, se acumulariam."
   ]
  },
  {
   "cell_type": "markdown",
   "metadata": {
    "slideshow": {
     "slide_type": "slide"
    }
   },
   "source": [
    "## Crise\n",
    "\n",
    "Por uma razão ou por outra, os desequilíbrios afloraram mais claramente já no 2o semestre de 1928, ou seja antes da Crise de out/1929."
   ]
  },
  {
   "cell_type": "markdown",
   "metadata": {
    "slideshow": {
     "slide_type": "fragment"
    }
   },
   "source": [
    "Falências no RJ e SP a partir de ago/1928 levaram o Banco do Brasil a restringir crédito, ao lado de sua decisão de aumentar os encaixes a fim de acumular reservas para um papel futuro de Banco Central."
   ]
  },
  {
   "cell_type": "markdown",
   "metadata": {
    "slideshow": {
     "slide_type": "fragment"
    }
   },
   "source": [
    "Paralelamente, no 2o semestre de 1929 divulgou-se a segunda safra gigantesca consecutiva (mais de 20 milhões de sacas de café). No início de out/1929 o Instituto do Café não conseguiu empréstimo no exterior e suspendeu o programa de valorização."
   ]
  },
  {
   "cell_type": "markdown",
   "metadata": {
    "slideshow": {
     "slide_type": "slide"
    }
   },
   "source": [
    "## Colapso\n",
    "\n",
    "Logo após o colapso da Bolsa de Nova York em out/1929, os preços do café despencaram. No final de 1929, o governo Washington Luís retirou o apoio à valorização."
   ]
  },
  {
   "cell_type": "markdown",
   "metadata": {
    "slideshow": {
     "slide_type": "fragment"
    }
   },
   "source": [
    "A justificativa era de que a queda dos preços permitiria levar ao aumento das vendas, compensando parcialmente as perdas. Esta foi uma mudança radical das posições anteriores de Washington Luís sobre a inelasticidade-preço da demanda (mas não de todo irracional para o momento, segundo Delfim Netto)."
   ]
  },
  {
   "cell_type": "markdown",
   "metadata": {
    "slideshow": {
     "slide_type": "fragment"
    }
   },
   "source": [
    "O Banco do Brasil retirou-se do mercado de câmbio em set/1929 e a Caixa de Estabilização perdeu rapidamente seus depósitos em ouro, com o sistema entrando em colapso. Veremos na aula seguinte as mudanças que se seguiram. Vejamos a seguir uma interpretação clássica do período."
   ]
  },
  {
   "cell_type": "markdown",
   "metadata": {
    "slideshow": {
     "slide_type": "slide"
    }
   },
   "source": [
    "## Furtado\n",
    "\n",
    "A tese é bem conhecida, mas vale revisar a análise clássica de Celso Furtado (*Formação Econômica do Brasil*, cap. 27-28) sobre o Padrão Ouro em uma economia primária-exportadora."
   ]
  },
  {
   "cell_type": "markdown",
   "metadata": {
    "slideshow": {
     "slide_type": "fragment"
    }
   },
   "source": [
    "Para Furtado, esse tipo de economia sofreria uma tendência crônica ao\n",
    "desequilíbrio externo, devido:"
   ]
  },
  {
   "cell_type": "markdown",
   "metadata": {
    "slideshow": {
     "slide_type": "fragment"
    }
   },
   "source": [
    "- ao coeficiente de importações particularmente elevado;"
   ]
  },
  {
   "cell_type": "markdown",
   "metadata": {
    "slideshow": {
     "slide_type": "fragment"
    }
   },
   "source": [
    "- aos acentuados desequilíbrios no balanço de pagamentos resultantes da volatilidade dos preços das *commodities* que compunham as pautas de exportação desses países;"
   ]
  },
  {
   "cell_type": "markdown",
   "metadata": {
    "slideshow": {
     "slide_type": "subslide"
    }
   },
   "source": [
    "- e à alta dependência das finanças públicas com relação ao imposto de importação."
   ]
  },
  {
   "cell_type": "markdown",
   "metadata": {
    "slideshow": {
     "slide_type": "slide"
    }
   },
   "source": [
    "## Ajuste\n",
    "\n",
    "Sob tais condições, uma crise externa em uma economia primária-exportadora - como a brasileira no século XIX e início do século XX - teria efeitos distintos do que ocorria nos países industrializados:"
   ]
  },
  {
   "cell_type": "markdown",
   "metadata": {
    "slideshow": {
     "slide_type": "fragment"
    }
   },
   "source": [
    "- a queda no valor das exportações (preço e quantidade) é acompanhada pela redução mais lenta das importações;"
   ]
  },
  {
   "cell_type": "markdown",
   "metadata": {
    "slideshow": {
     "slide_type": "fragment"
    }
   },
   "source": [
    "- a queda dos preços dos produtos primários exportados é maior do que a redução dos preços dos produtos importados, geralmente manufaturados, com piora dos termos de troca;"
   ]
  },
  {
   "cell_type": "markdown",
   "metadata": {
    "slideshow": {
     "slide_type": "fragment"
    }
   },
   "source": [
    "- o serviço da dívida externa, importante nessas economias, é rígido e as entradas autônomas de capital tendem a se retrair."
   ]
  },
  {
   "cell_type": "markdown",
   "metadata": {
    "slideshow": {
     "slide_type": "slide"
    }
   },
   "source": [
    "## Desajuste de ideias e políticas\n",
    "\n",
    "Segundo Furtado, essas condições específicas tornavam difícil (ou inviável) o funcionamento do Padrão Ouro na economia brasileira. Em vez de constituir um mecanismo autocorretivo como previa a teoria, o Padrão Ouro na periferia apenas agravaria o desequilíbrio externo e a instabilidade da produção e emprego domésticos."
   ]
  },
  {
   "cell_type": "markdown",
   "metadata": {
    "slideshow": {
     "slide_type": "fragment"
    }
   },
   "source": [
    "Apesar disso, governantes e *policy makers* da época no Brasil aceitavam a doutrina do Padrão Ouro \"independentemente de qualquer tentativa de confronto com a realidade.\""
   ]
  },
  {
   "cell_type": "markdown",
   "metadata": {
    "slideshow": {
     "slide_type": "fragment"
    }
   },
   "source": [
    "Ou ainda, para Furtado, uma \"inibição mental de captar a realidade um ponto de vista crítico-científico\" explicaria a busca de adesão ao Padrão Ouro até a crise de 1929, não as vantagens do sistema alegadas pelos seus defensores."
   ]
  },
  {
   "cell_type": "markdown",
   "metadata": {
    "slideshow": {
     "slide_type": "slide"
    }
   },
   "source": [
    "## Padrão Ouro na periferia\n",
    "\n",
    "Resumindo, para Furtado uma economia primária-exportadora típica não possuiria mecanismos autocorretivos assumidos no\n",
    "Padrão Ouro."
   ]
  },
  {
   "cell_type": "markdown",
   "metadata": {
    "slideshow": {
     "slide_type": "fragment"
    }
   },
   "source": [
    "Pelo contrário, o alto coeficiente e a inelasticidade das importações nessa economia tornariam o desequilíbrio externo recorrente e a adoção do Padrão Ouro inviável ou inconsistente."
   ]
  },
  {
   "cell_type": "markdown",
   "metadata": {
    "slideshow": {
     "slide_type": "fragment"
    }
   },
   "source": [
    "Tal era, segundo Furtado, o que acontecia na economia brasileira do século XIX e nas décadas iniciais do século XX,\n",
    "apesar da insistência dos *policy makers* em adotar o Padrão Ouro."
   ]
  },
  {
   "cell_type": "markdown",
   "metadata": {
    "slideshow": {
     "slide_type": "slide"
    }
   },
   "source": [
    "## Estrutura e distribuição de renda\n",
    "\n",
    "Além disso, segundo Furtado, as características estruturais da economia brasileira também traziam consequências\n",
    "distributivas."
   ]
  },
  {
   "cell_type": "markdown",
   "metadata": {
    "slideshow": {
     "slide_type": "fragment"
    }
   },
   "source": [
    "Primeiro, a existência de uma grande reserva de mão de obra (+ imigração) permitiu que a economia cafeeira se expandisse “sem tendência de alta dos salários”."
   ]
  },
  {
   "cell_type": "markdown",
   "metadata": {
    "slideshow": {
     "slide_type": "fragment"
    }
   },
   "source": [
    "Assim, uma maior rentabilidade (aumento dos preços externos) do setor exportador (cafeeiro) era absorvida na\n",
    "forma de lucros, não beneficiando os salários."
   ]
  },
  {
   "cell_type": "markdown",
   "metadata": {
    "slideshow": {
     "slide_type": "slide"
    }
   },
   "source": [
    "## Produtividade\n",
    "\n",
    "O alto retorno do capital e a oferta elástica de terra estimulavam, por sua vez, a exploração extensiva na agricultura, sem busca de elevação da produtividade."
   ]
  },
  {
   "cell_type": "markdown",
   "metadata": {
    "slideshow": {
     "slide_type": "fragment"
    }
   },
   "source": [
    "Se, na expansão, a estabilidade dos salários implicava aumento dos lucros, o que acontecia na crise?"
   ]
  },
  {
   "cell_type": "markdown",
   "metadata": {
    "slideshow": {
     "slide_type": "fragment"
    }
   },
   "source": [
    "A resposta de Furtado é que o sistema comportava- se de maneira distinta da prevista no modelo do Padrão Ouro."
   ]
  },
  {
   "cell_type": "markdown",
   "metadata": {
    "slideshow": {
     "slide_type": "slide"
    }
   },
   "source": [
    "## Mecanismo de ajuste\n",
    "\n",
    "A queda nas receitas de $X$ não resultaria em redução dos lucros -\n",
    "redução de $C$ - redução do $I$ - redução das $M$ e um ajuste relativamente gradual (como supostamente ocorreria nos países desenvolvidos)."
   ]
  },
  {
   "cell_type": "markdown",
   "metadata": {
    "slideshow": {
     "slide_type": "fragment"
    }
   },
   "source": [
    "Em vez disso, o desequilíbrio mais acentuado no balanço de pagamentos em uma economia primária-exportadora,  ainda maior com a adesão ao Padrão Ouro, resultaria em pressão para um ajuste via taxa de câmbio – isto é, pela desvalorização da moeda."
   ]
  },
  {
   "cell_type": "markdown",
   "metadata": {
    "slideshow": {
     "slide_type": "fragment"
    }
   },
   "source": [
    "Quais seriam os efeitos distributivos dessa forma de ajuste?\n",
    "Genericamente, os que dependiam das importações para consumo\n",
    "e/ou investimento perdiam; os grupos exportadores, ganhavam."
   ]
  },
  {
   "cell_type": "markdown",
   "metadata": {
    "slideshow": {
     "slide_type": "slide"
    }
   },
   "source": [
    "## Socialização das perdas\n",
    "\n",
    "Este é o mecanismo principal do que Furtado denominou de “socialização das\n",
    "perdas”: “uma transferência de renda daqueles que pagavam as\n",
    "importações para aqueles que vendiam as exportações”."
   ]
  },
  {
   "cell_type": "markdown",
   "metadata": {
    "slideshow": {
     "slide_type": "fragment"
    }
   },
   "source": [
    "A partir da 2a metade do século XIX, porém, as transformações\n",
    "econômicas e sociais geraram clivagens e diferenciações no sistema, segundo Furtado."
   ]
  },
  {
   "cell_type": "markdown",
   "metadata": {
    "slideshow": {
     "slide_type": "fragment"
    }
   },
   "source": [
    "Novos grupos sociais surgiram em cena: assalariados urbanos e\n",
    "rurais, funcionários públicos, profissionais liberais, industriais,\n",
    "empresas estrangeiras, agricultura doméstica. A resistência à\n",
    "socialização das perdas aumentou a partir da década de 1880."
   ]
  },
  {
   "cell_type": "markdown",
   "metadata": {
    "slideshow": {
     "slide_type": "slide"
    }
   },
   "source": [
    "## Padrão Ouro e realidade\n",
    "\n",
    "Outro aspecto que, segundo Furtado, reforçou as tensões no sistema até 1930 foi o apego da classe política à doutrina do Padrão Ouro."
   ]
  },
  {
   "cell_type": "markdown",
   "metadata": {
    "slideshow": {
     "slide_type": "fragment"
    }
   },
   "source": [
    "Conversibilidade, disciplina monetária e fiscal, equilíbrio do balanço de pagamentos seriam conceitos distantes da realidade local."
   ]
  },
  {
   "cell_type": "markdown",
   "metadata": {
    "slideshow": {
     "slide_type": "fragment"
    }
   },
   "source": [
    "Para Furtado, a doutrina do Padrão Ouro era incompatível com as condições estruturais da economia brasileira, pois o mecanismo de ajuste clássico era inviável. Plausível? Qual é o contrafactual?"
   ]
  }
 ],
 "metadata": {
  "celltoolbar": "Slideshow",
  "kernelspec": {
   "display_name": "Python 3 (ipykernel)",
   "language": "python",
   "name": "python3"
  },
  "language_info": {
   "codemirror_mode": {
    "name": "ipython",
    "version": 3
   },
   "file_extension": ".py",
   "mimetype": "text/x-python",
   "name": "python",
   "nbconvert_exporter": "python",
   "pygments_lexer": "ipython3",
   "version": "3.9.7"
  },
  "toc": {
   "base_numbering": 1,
   "nav_menu": {},
   "number_sections": false,
   "sideBar": false,
   "skip_h1_title": false,
   "title_cell": "Table of Contents",
   "title_sidebar": "Contents",
   "toc_cell": false,
   "toc_position": {},
   "toc_section_display": false,
   "toc_window_display": false
  }
 },
 "nbformat": 4,
 "nbformat_minor": 2
}
