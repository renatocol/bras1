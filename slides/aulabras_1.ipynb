{
 "cells": [
  {
   "cell_type": "markdown",
   "metadata": {
    "slideshow": {
     "slide_type": "slide"
    }
   },
   "source": [
    "# <center>Programa de Pós-Graduação em Economia - FEA-USP</center>\n",
    "\n",
    "## <center>Economia Brasileira I</center>\n",
    "\n",
    "\n",
    "### <center>Renato Perim Colistete</center>\n",
    "\n",
    "\n",
    "#### <center>2021</center><br>\n",
    "\n",
    "<center>Contato via e-mail: rcolistete@usp.br<center><br>\n",
    "\n",
    "\n",
    "<center>Ver programa de curso e leituras em https://renatocolistete.blog/cursos/economia-brasileira-i/</center> \n",
    "\n"
   ]
  },
  {
   "cell_type": "markdown",
   "metadata": {
    "slideshow": {
     "slide_type": "slide"
    }
   },
   "source": [
    "## Proposta do curso\n",
    "\n",
    "Esta disciplina aborda a evolução histórica da economia brasileira desde o século XIX até o início da década de 1960. O curso segue uma sequência cronológica combinada ao tratamento de diferentes aspectos da história econômica do período. Além de reconstituir a política econômica, a disciplina enfatiza a situação das contas externas, o desenvolvimento tecnológico, o papel de instituições, as atitudes dos grupos sociais e os efeitos distributivos do crescimento econômico. \n",
    "\n",
    "Os textos selecionados contemplam diferentes interpretações clássicas e contribuições recentes aos temas analisados, procurando identificar avanços e lacunas da pesquisa sobre a história econômica brasileira."
   ]
  },
  {
   "cell_type": "markdown",
   "metadata": {
    "slideshow": {
     "slide_type": "slide"
    }
   },
   "source": [
    "## Leituras e acompanhamento\n",
    "\n",
    "As leituras estão organizadas em duas categorias. A primeira é formada pela bibliografia básica do curso, com os títulos marcados com asterisco indicando a leitura obrigatória para cada uma das aulas. A segunda categoria é de textos adicionais e complementares, que ampliam ou aprofundam a abordagem dos temas vistos em sala. \n",
    "\n",
    "Alguns dos trabalhos estão disponíveis para download. No caso dos artigos no JSTOR, é necessário utilizar um computador da USP ou estar conectado à rede da universidade via VPN (para cadastrar, ver na página do programa). "
   ]
  },
  {
   "cell_type": "markdown",
   "metadata": {
    "slideshow": {
     "slide_type": "subslide"
    }
   },
   "source": [
    "O curso tem como pano de fundo a conjuntura política do período estudado, que será frequentemente citada nas aulas. Para sínteses dos eventos políticos mais importantes, ver os volumes editados por Sérgio Buarque de Holanda e Boris Fausto sobre o Império e a República na História Geral da Civilização Brasileira, tomos II e III, várias edições. \n",
    "\n",
    "Além desses textos, os verbetes do Dicionário Histórico-Biográfico pós-1930, do CPDOC-FGV, que abrangem temas e personagens do período, são valiosos e podem ser consultados online (após registro). Outra referência online útil para o curso é o Dicionário da Elite Política Republicana (1889-1930), também do CPDOC-FGV."
   ]
  },
  {
   "cell_type": "markdown",
   "metadata": {
    "slideshow": {
     "slide_type": "slide"
    }
   },
   "source": [
    "## Acompanhamento das aulas\n",
    "\n",
    "O curso é baseado em aulas expositivas, cujo objetivo é mapear os aspectos principais da ampla bibliografia que será utilizada nas aulas. A presença nas aulas online é obrigatória e a participação, essencial. \n",
    "\n",
    "Vale ressaltar que o acompanhamento do curso sem a leitura semanal dos textos indicados é virtualmente impossível."
   ]
  },
  {
   "cell_type": "markdown",
   "metadata": {
    "slideshow": {
     "slide_type": "slide"
    }
   },
   "source": [
    "## Programa do curso"
   ]
  },
  {
   "cell_type": "markdown",
   "metadata": {
    "slideshow": {
     "slide_type": "fragment"
    }
   },
   "source": [
    "Aula 1 - Apresentação (hoje)"
   ]
  },
  {
   "cell_type": "markdown",
   "metadata": {
    "slideshow": {
     "slide_type": "fragment"
    }
   },
   "source": [
    "Aula 2 - O que é História Econômica?"
   ]
  },
  {
   "cell_type": "markdown",
   "metadata": {
    "slideshow": {
     "slide_type": "slide"
    }
   },
   "source": [
    "**Parte I – A experiência da colonização e o século XIX**"
   ]
  },
  {
   "cell_type": "markdown",
   "metadata": {
    "slideshow": {
     "slide_type": "fragment"
    }
   },
   "source": [
    "Aula 3 - A economia colonial"
   ]
  },
  {
   "cell_type": "markdown",
   "metadata": {
    "slideshow": {
     "slide_type": "fragment"
    }
   },
   "source": [
    "Aula 4 - Colonização e tendências de crescimento de longo prazo "
   ]
  },
  {
   "cell_type": "markdown",
   "metadata": {
    "slideshow": {
     "slide_type": "fragment"
    }
   },
   "source": [
    "Aula 5 - Agricultura e mercado de trabalho"
   ]
  },
  {
   "cell_type": "markdown",
   "metadata": {
    "slideshow": {
     "slide_type": "slide"
    }
   },
   "source": [
    "**Parte II – Primeira República: economia cafeeira e origens da industrialização (1889-1928)**"
   ]
  },
  {
   "cell_type": "markdown",
   "metadata": {
    "slideshow": {
     "slide_type": "fragment"
    }
   },
   "source": [
    "Aula 6 - A política econômica: café e grupos de interesse "
   ]
  },
  {
   "cell_type": "markdown",
   "metadata": {
    "slideshow": {
     "slide_type": "fragment"
    }
   },
   "source": [
    "Aula 7 - O início da industrialização "
   ]
  },
  {
   "cell_type": "markdown",
   "metadata": {
    "slideshow": {
     "slide_type": "fragment"
    }
   },
   "source": [
    "Aula 8 - Infraestrutura, crédito e políticas públicas"
   ]
  },
  {
   "cell_type": "markdown",
   "metadata": {
    "slideshow": {
     "slide_type": "slide"
    }
   },
   "source": [
    "**Parte III – Crise internacional e o primeiro período Vargas (1929-1945)**"
   ]
  },
  {
   "cell_type": "markdown",
   "metadata": {
    "slideshow": {
     "slide_type": "fragment"
    }
   },
   "source": [
    "Aula 9 - A Crise de 1929 e a Grande Depressão: políticas econômicas e resultados"
   ]
  },
  {
   "cell_type": "markdown",
   "metadata": {
    "slideshow": {
     "slide_type": "fragment"
    }
   },
   "source": [
    "Aula 10 - A economia durante a Segunda Guerra Mundial "
   ]
  },
  {
   "cell_type": "markdown",
   "metadata": {
    "slideshow": {
     "slide_type": "slide"
    }
   },
   "source": [
    "**Parte III – O pós-guerra e o desenvolvimentismo (1945-1963)**"
   ]
  },
  {
   "cell_type": "markdown",
   "metadata": {
    "slideshow": {
     "slide_type": "fragment"
    }
   },
   "source": [
    "Aula 11 - Política econômica: inflação, câmbio e políticas setoriais "
   ]
  },
  {
   "cell_type": "markdown",
   "metadata": {
    "slideshow": {
     "slide_type": "fragment"
    }
   },
   "source": [
    "*Prova*"
   ]
  },
  {
   "cell_type": "markdown",
   "metadata": {
    "slideshow": {
     "slide_type": "slide"
    }
   },
   "source": [
    "## Avaliação\n",
    "\n",
    "Uma prova escrita ao final do curso (peso = 50%), um ensaio bibliográfico (peso 35%) sobre tema a ser definido com o docente e participação em aula (15%). \n",
    "\n",
    "Cada aluna/o deverá preencher o formulário de proposta do ensaio, a ser entregue até dia 10 de setembro."
   ]
  }
 ],
 "metadata": {
  "celltoolbar": "Slideshow",
  "kernelspec": {
   "display_name": "Python 3 (ipykernel)",
   "language": "python",
   "name": "python3"
  },
  "language_info": {
   "codemirror_mode": {
    "name": "ipython",
    "version": 3
   },
   "file_extension": ".py",
   "mimetype": "text/x-python",
   "name": "python",
   "nbconvert_exporter": "python",
   "pygments_lexer": "ipython3",
   "version": "3.9.6"
  },
  "toc": {
   "base_numbering": 1,
   "nav_menu": {},
   "number_sections": false,
   "sideBar": true,
   "skip_h1_title": false,
   "title_cell": "Table of Contents",
   "title_sidebar": "Contents",
   "toc_cell": false,
   "toc_position": {
    "height": "calc(100% - 180px)",
    "left": "10px",
    "top": "150px",
    "width": "288px"
   },
   "toc_section_display": true,
   "toc_window_display": false
  }
 },
 "nbformat": 4,
 "nbformat_minor": 2
}
