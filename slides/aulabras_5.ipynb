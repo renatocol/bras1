{
 "cells": [
  {
   "cell_type": "markdown",
   "metadata": {
    "slideshow": {
     "slide_type": "slide"
    }
   },
   "source": [
    "# <center>Economia Brasileira I - FEA-USP</center>\n",
    "\n",
    "## <center>Aula 5 - Agricultura e Mercado de Trabalho (parte 1)</center>\n",
    "\n",
    "### <center>Renato Perim Colistete</center>\n",
    "\n",
    "\n",
    "#### <center>2021</center>"
   ]
  },
  {
   "cell_type": "markdown",
   "metadata": {
    "slideshow": {
     "slide_type": "slide"
    }
   },
   "source": [
    "## Objetivos\n",
    "\n",
    "Nesta aula, apresentamos um panorama geral das principais transformações do mercado de trabalho no Brasil do século\n",
    "XIX.\n",
    "\n",
    "Além das questões gerais do tema, são enfatizadas, na primeira parte da aula (hoje), as relações entre trabalho escravizado, trabalho livre e abolição;\n",
    "\n",
    "Na próxima aula, veremos as alternativas representadas pela utilização do trabalhador nacional livre, do liberto e do imigrante, em diferentes períodos e regiões."
   ]
  },
  {
   "cell_type": "markdown",
   "metadata": {
    "slideshow": {
     "slide_type": "slide"
    }
   },
   "source": [
    "## Fim do tráfico\n",
    "\n",
    "O fim da escravidão era dado como certo no longo prazo, pelo menos desde o Congresso de Viena em 1815."
   ]
  },
  {
   "cell_type": "markdown",
   "metadata": {
    "slideshow": {
     "slide_type": "fragment"
    }
   },
   "source": [
    "Sob pressão internacional, foram aprovadas convenções e leis desde os anos 1810 (ainda sob Portugal), com destaque para a [lei de 7 de novembro de 1831](https://www2.camara.leg.br/legin/fed/lei_sn/1824-1899/lei-37659-7-novembro-1831-564776-publicacaooriginal-88704-pl.html) (“lei Feijó” = Diogo A. Feijó, Min. da Justiça), que declarou livres todos os escravos que entrassem no Brasil."
   ]
  },
  {
   "cell_type": "markdown",
   "metadata": {
    "slideshow": {
     "slide_type": "fragment"
    }
   },
   "source": [
    "Como se sabe, porém, somente a ação direta britânica aprisionando navios a partir do [Aberdeen Act](https://en.wikipedia.org/wiki/Aberdeen_Act) (1845) fez que o tráfico fosse de fato abolido – [lei Eusébio de Queiroz](https://www2.camara.leg.br/legin/fed/leimp/1824-1899/lei-581-4-setembro-1850-559820-norma-pl.html) (1850). "
   ]
  },
  {
   "cell_type": "markdown",
   "metadata": {
    "slideshow": {
     "slide_type": "slide"
    }
   },
   "source": [
    "## A defesa econômica\n",
    "\n",
    "A partir da proibição efetiva do tráfico transatlântico, o fim da escravidão passou a ser discutido em diversas ocasiões no Parlamento, imprensa e encontros dos fazendeiros."
   ]
  },
  {
   "cell_type": "markdown",
   "metadata": {
    "slideshow": {
     "slide_type": "fragment"
    }
   },
   "source": [
    "Pelo menos no discurso público, havia praticamente consenso entre as elites políticas e econômicas que a escravidão era um \"mal\", estava condenada e deveria ser suprimida."
   ]
  },
  {
   "cell_type": "markdown",
   "metadata": {
    "slideshow": {
     "slide_type": "fragment"
    }
   },
   "source": [
    "Além disso (e talvez mais importante): o crescimento demográfico negativo da população escravizada impunha limites à expansão do mercado de trabalho na agricultura e no setor urbano."
   ]
  },
  {
   "cell_type": "markdown",
   "metadata": {
    "slideshow": {
     "slide_type": "subslide"
    }
   },
   "source": [
    "## Resistência\n",
    "\n",
    "Porém, com a exceção minoritária dos abolicionistas radicais, praticamente todos sustentavam que a abolição imediata era impossível, sob o argumento de que o trabalho escravizado era o pilar da economia brasileira."
   ]
  },
  {
   "cell_type": "markdown",
   "metadata": {
    "slideshow": {
     "slide_type": "fragment"
    }
   },
   "source": [
    "A justificativa econômica (isto é, não mais moral, religiosa ou de superioridade racial) foi a base para o programa de abolição gradual e indefinida no tempo defendido por membros das elites."
   ]
  },
  {
   "cell_type": "markdown",
   "metadata": {
    "slideshow": {
     "slide_type": "fragment"
    }
   },
   "source": [
    "Ver a seguir a evolução da população livre e escravizada desde meados do século XIX, por regiões:"
   ]
  },
  {
   "cell_type": "markdown",
   "metadata": {
    "slideshow": {
     "slide_type": "slide"
    }
   },
   "source": [
    "## <center>População livre e escravizada</center>\n",
    "\n",
    "<center><img src=\"br_pop_escrava.png\" width=\"900\" height=\"500\"></center>"
   ]
  },
  {
   "cell_type": "markdown",
   "metadata": {
    "slideshow": {
     "slide_type": "slide"
    }
   },
   "source": [
    "## Persistência\n",
    "\n",
    "Mesmo condenada no longo prazo, porém, a escravidão foi preservada até o limite no sudeste do país, região que liderava o crecimento econômico com a expansão cafeeira."
   ]
  },
  {
   "cell_type": "markdown",
   "metadata": {
    "slideshow": {
     "slide_type": "fragment"
    }
   },
   "source": [
    "Por exemplo, em Vassouras (RJ), apenas 64 de 9.310 das crianças (ingênuos) filhas de mães escravizadas foram libertadas após a [Lei do Ventre Livre de 1871](https://www2.camara.leg.br/legin/fed/leimp/1824-1899/lei-2040-28-setembro-1871-538828-publicacaooriginal-35591-pl.html), entre 1873-1888 (Stein, 1961)."
   ]
  },
  {
   "cell_type": "markdown",
   "metadata": {
    "slideshow": {
     "slide_type": "fragment"
    }
   },
   "source": [
    "Também em Vassouras, boa parte dos proprietários recusou-se a registrar escravos com idade superior a 60 anos – 9.496 de estimados 25.000 após a [lei de 18 de setembro de 1885](http://legis.senado.leg.br/norma/545046/publicacao/15779572) – Lei dos Sexagenários (Stein, 1961). O mesmo ocorreu em Rio Claro (ver Dean, 1977)."
   ]
  },
  {
   "cell_type": "markdown",
   "metadata": {
    "slideshow": {
     "slide_type": "slide"
    }
   },
   "source": [
    "## Condicionalidades\n",
    "\n",
    "Algumas cláusulas da Lei dos Sexagenários: "
   ]
  },
  {
   "cell_type": "markdown",
   "metadata": {
    "slideshow": {
     "slide_type": "fragment"
    }
   },
   "source": [
    "-  fundo de emancipação passaria a contar com taxa de 5% sobre todos os impostos gerais exceto os de exportação (porém medida não foi efetiva);"
   ]
  },
  {
   "cell_type": "markdown",
   "metadata": {
    "slideshow": {
     "slide_type": "fragment"
    }
   },
   "source": [
    "- emissão de titulos da dívida pública a 5% de juros para o fundo de emancipação;"
   ]
  },
  {
   "cell_type": "markdown",
   "metadata": {
    "slideshow": {
     "slide_type": "subslide"
    }
   },
   "source": [
    "- taxa adicional de 5% seria repartida em 3 parcelas: i) para o fundo de emancipação, ii) indenização pela metade do valor dos escravos de proprietários que quisessem alforriá-los e iii) subvenção de passagens de imigrantes para colocação em estabelecimentos agrícolas;"
   ]
  },
  {
   "cell_type": "markdown",
   "metadata": {
    "slideshow": {
     "slide_type": "fragment"
    }
   },
   "source": [
    "- dedução anual de 1% pelos próximos 13 anos do valor do escravo declarado na matrícula; "
   ]
  },
  {
   "cell_type": "markdown",
   "metadata": {
    "slideshow": {
     "slide_type": "fragment"
    }
   },
   "source": [
    "- os contemplados pela lei, deveriam prestar serviços compulsoriamente por mais 3 anos, a título de indenização dos proprietários."
   ]
  },
  {
   "cell_type": "markdown",
   "metadata": {
    "slideshow": {
     "slide_type": "subslide"
    }
   },
   "source": [
    "- os libertos deveriam manter domicílio obrigatório no município de origem, exceto no caso das capitais (ver outros aspectos da Lei)."
   ]
  },
  {
   "cell_type": "markdown",
   "metadata": {
    "slideshow": {
     "slide_type": "slide"
    }
   },
   "source": [
    "## Motivações\n",
    "\n",
    "As hipóteses sobre as motivações da Lei do Ventre Livre de 1871 são variadas e relativamente difíceis de determinar. Algumas delas:"
   ]
  },
  {
   "cell_type": "markdown",
   "metadata": {
    "slideshow": {
     "slide_type": "fragment"
    }
   },
   "source": [
    "- *disputas entre membros das elites* representadas no Parlamento/altruísmo do Imperador;"
   ]
  },
  {
   "cell_type": "markdown",
   "metadata": {
    "slideshow": {
     "slide_type": "fragment"
    }
   },
   "source": [
    "- *desenvolvimento econômico*, com a emergência de novas atividades urbanas e relações sociais capitalistas que minaram a escravidão;"
   ]
  },
  {
   "cell_type": "markdown",
   "metadata": {
    "slideshow": {
     "slide_type": "subslide"
    }
   },
   "source": [
    "- desagregação do sistema escravista a partir da *contestação* por parte de uma nova geração de escravos nascidos no Brasil (crioulos) e miscigenados (mulatos), além do movimento abolicionista."
   ]
  },
  {
   "cell_type": "markdown",
   "metadata": {
    "slideshow": {
     "slide_type": "slide"
    }
   },
   "source": [
    "## Preços dos escravizados\n",
    "\n",
    "Outra forma de observar as variações e impasses da economia escravista no século XIX é através dos preços de compra e venda dos escravizados"
   ]
  },
  {
   "cell_type": "markdown",
   "metadata": {
    "slideshow": {
     "slide_type": "fragment"
    }
   },
   "source": [
    " Ver os casos de Rio Claro (SP), Minas Gerais e Pernambuco:"
   ]
  },
  {
   "cell_type": "markdown",
   "metadata": {
    "slideshow": {
     "slide_type": "subslide"
    }
   },
   "source": [
    "### <center>Preços em Rio Claro</center>\n",
    "\n",
    "<center><img src=\"sp_pesc_rclaro.png\" width=\"900\" height=\"500\"></center>"
   ]
  },
  {
   "cell_type": "markdown",
   "metadata": {
    "slideshow": {
     "slide_type": "subslide"
    }
   },
   "source": [
    "### <center>Preços em Minas Gerais e Pernambuco</center>\n",
    "\n",
    "<center><img src=\"sp_pesc_pe_mg.png\" width=\"900\" height=\"500\"></center>"
   ]
  },
  {
   "cell_type": "markdown",
   "metadata": {
    "slideshow": {
     "slide_type": "slide"
    }
   },
   "source": [
    "## Tendências\n",
    "\n",
    "Alguns pontos que podem ser destacados nas figuras anteriores:"
   ]
  },
  {
   "cell_type": "markdown",
   "metadata": {
    "slideshow": {
     "slide_type": "fragment"
    }
   },
   "source": [
    "- aumento de preços (MG e PE) após tratado com Inglaterra de 1827 e, depois, lei de 1831;"
   ]
  },
  {
   "cell_type": "markdown",
   "metadata": {
    "slideshow": {
     "slide_type": "fragment"
    }
   },
   "source": [
    "- aumento dos preços a partir do fim do tráfico em 1850 – no caso de Rio Claro, triplicaram nos 10 anos seguintes;"
   ]
  },
  {
   "cell_type": "markdown",
   "metadata": {
    "slideshow": {
     "slide_type": "subslide"
    }
   },
   "source": [
    "- notar outra elevação acentuada na segunda metade da década de 1870 – demanda da expansão cafeeira? Efeito retardado da lei de 1871?"
   ]
  },
  {
   "cell_type": "markdown",
   "metadata": {
    "slideshow": {
     "slide_type": "fragment"
    }
   },
   "source": [
    "- em Rio Claro e MG, preços atingem pico em 1880, quando entram em queda livre. Quais foram as causas?"
   ]
  },
  {
   "cell_type": "markdown",
   "metadata": {
    "slideshow": {
     "slide_type": "slide"
    }
   },
   "source": [
    "## Ineficiência da escravidão\n",
    "\n",
    "Uma hipótese, talvez a mais influente, para o declínio da demanda de escravos é a da inviabilidade/ineficiência da\n",
    "escravidão (F.H. Cardoso, Florestan Fernandes, O. Ianni p.ex.). Vejamos alguns pontos da visão, nem sempre explícitos:"
   ]
  },
  {
   "cell_type": "markdown",
   "metadata": {
    "slideshow": {
     "slide_type": "fragment"
    }
   },
   "source": [
    "- escravidão não possuiria flexibilidade para mudanças e adaptação do uso do trabalho, visto que o investimento no escravo era uma forma de capital fixo;"
   ]
  },
  {
   "cell_type": "markdown",
   "metadata": {
    "slideshow": {
     "slide_type": "fragment"
    }
   },
   "source": [
    "- o regime escravista era baseado na extração de esforço do trabalho escravizado pela violência, sem espaço para incentivos;"
   ]
  },
  {
   "cell_type": "markdown",
   "metadata": {
    "slideshow": {
     "slide_type": "subslide"
    }
   },
   "source": [
    "- de sua parte, por trabalhar sob opressão extrema, o escravizado seria incapaz de responder a incentivos e realizar  tarefas complexas associadas ao desenvolvimento tecnológico."
   ]
  },
  {
   "cell_type": "markdown",
   "metadata": {
    "slideshow": {
     "slide_type": "fragment"
    }
   },
   "source": [
    "- corolário (ou premissa?) de que o escravizado seria ineficiente (= menor produtividade) em relação ao trabalhador livre."
   ]
  },
  {
   "cell_type": "markdown",
   "metadata": {
    "slideshow": {
     "slide_type": "slide"
    }
   },
   "source": [
    "## Elites arcaicas e modernizantes\n",
    "\n",
    "Em geral, a hipótese da ineficiência da escravidão está associada à ideia de uma elite cafeeira modernizante no Oeste paulista em contraste com as demais (S.B. de Holanda, Maria Isaura P. Queiroz, Emília Viotti da Costa, p.ex.; numa versão mais recente, João Fragoso). Assim,"
   ]
  },
  {
   "cell_type": "markdown",
   "metadata": {
    "slideshow": {
     "slide_type": "fragment"
    }
   },
   "source": [
    "- no Vale do Paraíba *fluminense*, a elite cafeeira seria apegada à escravidão como uma forma de prestígio social, status, em vez de busca de lucro; "
   ]
  },
  {
   "cell_type": "markdown",
   "metadata": {
    "slideshow": {
     "slide_type": "fragment"
    }
   },
   "source": [
    "- no *Oeste paulista*, elite moderna, capitalista, dinâmica, aberta a novas idéias, insatisfeita com a escravidão e em busca de novas relações de trabalho via imigração europeia."
   ]
  },
  {
   "cell_type": "markdown",
   "metadata": {
    "slideshow": {
     "slide_type": "subslide"
    }
   },
   "source": [
    "## Elites e ineficiência\n",
    "\n",
    "Deste modo, a irracionalidade e ineficiência da escravidão ou o surgimento de uma elite com mentalidade modernizante e capitalista no Oeste paulista (ou ambas em conjunto) teria(m) levado à busca de novas relações de trabalho (em particular, imigrante)."
   ]
  },
  {
   "cell_type": "markdown",
   "metadata": {
    "slideshow": {
     "slide_type": "fragment"
    }
   },
   "source": [
    "Com a urbanização, ferrovias e manufaturas, a superioridade do trabalho livre se tornaria evidente e entraria em conflito com a escravidão, destruindo-a."
   ]
  },
  {
   "cell_type": "markdown",
   "metadata": {
    "slideshow": {
     "slide_type": "fragment"
    }
   },
   "source": [
    "Embora geralmente de maneira indireta, essa abordagem sugere, assim, que o declínio da demanda de escravos no período 1880-1888 se deveria à gradual consciência da inferioridade da escravidão ou aos próprios efeitos da desvantagem econômica do sistema escravista."
   ]
  },
  {
   "cell_type": "markdown",
   "metadata": {
    "slideshow": {
     "slide_type": "slide"
    }
   },
   "source": [
    "## Inviabilidade econômica da escravidão?\n",
    "\n",
    "Mas a escravidão era de fato irracional e ineficiente, e portanto inviável economicamente ?"
   ]
  },
  {
   "cell_type": "markdown",
   "metadata": {
    "slideshow": {
     "slide_type": "fragment"
    }
   },
   "source": [
    "Vejam como Richard Graham (1981) interpreta a presumida incompatibilidade entre escravidão e tecnologia no Brasil à luz da experiência do Sul algodoeiro dos Estados Unidos antes da Guerra Civil:"
   ]
  },
  {
   "cell_type": "markdown",
   "metadata": {
    "slideshow": {
     "slide_type": "fragment"
    }
   },
   "source": [
    "> “Even a hasty reading of the agricultural history of the South\n",
    "makes ludicrous the claim by some Brazilian historians that\n",
    "planters in the Paraiba Valley did not use modern agricultural\n",
    "equipment because of the incompatibility between mechanization\n",
    "and “slave relations of production” or that slaves were “incapable\n",
    "of productively managing techniques which require the use of\n",
    "machines.” In the United States South slaves managed\n",
    "sophisticated tools and machines.”"
   ]
  },
  {
   "cell_type": "markdown",
   "metadata": {
    "slideshow": {
     "slide_type": "slide"
    }
   },
   "source": [
    "## Sobrevivência\n",
    "\n",
    "Uma outra hipótese parte da ideia de que, no longo prazo, a escravidão estava de fato condenada, como ficava claro com a Lei de 1871. Mas, sustenta Pedro Carvalho de Mello (1973), “a abolição ocorreu bem antes do longo prazo”."
   ]
  },
  {
   "cell_type": "markdown",
   "metadata": {
    "slideshow": {
     "slide_type": "fragment"
    }
   },
   "source": [
    "Segundo estimativas de Mello, sem a Abolição a população escrava seria de 835.000 em 1892 e 544.000 em 1902."
   ]
  },
  {
   "cell_type": "markdown",
   "metadata": {
    "slideshow": {
     "slide_type": "fragment"
    }
   },
   "source": [
    "Para Mello, a sobrevivência da escravidão ainda por um longo período nas regiões dinâmicas seria possível via transferência de escravos para as fazendas de café (tráfico intraprovincial sobretudo, após os impostos proibitivos de 1880/1)"
   ]
  },
  {
   "cell_type": "markdown",
   "metadata": {
    "slideshow": {
     "slide_type": "slide"
    }
   },
   "source": [
    "## Pressão abolicionista\n",
    "\n",
    "Mello argumenta que a demanda de escravos na década de 1880 declinou devido a um fator exógeno: “pressão abolicionista”."
   ]
  },
  {
   "cell_type": "markdown",
   "metadata": {
    "slideshow": {
     "slide_type": "fragment"
    }
   },
   "source": [
    "Pressão abolicionista = crescente mobilização antiescravista, campanhas, fuga das fazendas, redes de apoio e fuga (p.ex., Santos), que indicam rápida erosão do apoio da sociedade à instituição escravista."
   ]
  },
  {
   "cell_type": "markdown",
   "metadata": {
    "slideshow": {
     "slide_type": "fragment"
    }
   },
   "source": [
    "É esse o elemento principal que explicaria o declínio na demanda de escravos (e dos preços de compra e venda) no período, segundo Mello."
   ]
  },
  {
   "cell_type": "markdown",
   "metadata": {
    "slideshow": {
     "slide_type": "slide"
    }
   },
   "source": [
    "## Viabilidade e abolicionismo\n",
    "\n",
    "Desta forma, a hipótese de Mello é que o declínio da demanda ocasionado pela pressão abolicionista ocorreu *a despeito* da viabilidade econômica da escravidão."
   ]
  },
  {
   "cell_type": "markdown",
   "metadata": {
    "slideshow": {
     "slide_type": "fragment"
    }
   },
   "source": [
    "Uma das evidências em favor desta hipótese encontra-se na comparação do mercado de compra e venda com o mercado de aluguel de escravos. A partir de 1881 (no RJ), o preço de compra e venda dos escravos *declinou\n",
    "acentuadamente*, enquanto o preço do aluguel de escravos se manteve\n",
    "estável."
   ]
  },
  {
   "cell_type": "markdown",
   "metadata": {
    "slideshow": {
     "slide_type": "fragment"
    }
   },
   "source": [
    "Ou seja, diante da crescente onda abolicionista, a incerteza quanto a continuidade do regime servil derrubou a demanda por aquisição de escravos e, por consequência, os seus preços. Mas os *serviços* dos escravos continuaram a ser requeridos, como demonstra a estabilidade do preço do aluguel."
   ]
  },
  {
   "cell_type": "markdown",
   "metadata": {
    "slideshow": {
     "slide_type": "slide"
    }
   },
   "source": [
    "##  Ação coletiva dos escravos\n",
    "\n",
    "Dean (1977), por sua vez, dá uma ênfase diferente: a ação direta dos escravos, desde o início da década de 1880, teria sido a causa principal da derrocada da escravidão brasileira."
   ]
  },
  {
   "cell_type": "markdown",
   "metadata": {
    "slideshow": {
     "slide_type": "fragment"
    }
   },
   "source": [
    "A ação direta dos escravos teria se dado por meio de desobediência, fugas, revoltas e uso da lei em seu favor. Essa mobilização coincide e é reforçada pelo abolicionismo radical."
   ]
  },
  {
   "cell_type": "markdown",
   "metadata": {
    "slideshow": {
     "slide_type": "fragment"
    }
   },
   "source": [
    "No caso de São Paulo, por exemplo, com Luis Gama (até 1882), Antonio Bento e a rede clandestina de caifazes (simpatizantes, mulatos e libertos) que se espalha por São Paulo. Além de apoiar as fugas, essa sociedade negociava contratos de trabalho em outras fazendas para escravos que fugiam (!)."
   ]
  },
  {
   "cell_type": "markdown",
   "metadata": {
    "slideshow": {
     "slide_type": "slide"
    }
   },
   "source": [
    "## Colapso\n",
    "\n",
    "Na interpretação de Dean, a chegada de escravos de outras regiões (além da mudança geracional citada antes)\n",
    "desestabilizou ainda mais o sistema escravista nas fazendas."
   ]
  },
  {
   "cell_type": "markdown",
   "metadata": {
    "slideshow": {
     "slide_type": "fragment"
    }
   },
   "source": [
    "Por outro lado, os fazendeiros paulistas apegaram-se à escravidão até o último momento, tentando protelar o seu fim, a despeito da presumida preferência pelo trabalho livre."
   ]
  },
  {
   "cell_type": "markdown",
   "metadata": {
    "slideshow": {
     "slide_type": "fragment"
    }
   },
   "source": [
    "A desorganização social causada pelas ações dos escravos provocou o aumento das alforrias, a adoção de contratos de salário ou colonato aos escravizados e, por fim, o colapso do sistema."
   ]
  }
 ],
 "metadata": {
  "celltoolbar": "Slideshow",
  "kernelspec": {
   "display_name": "Python 3 (ipykernel)",
   "language": "python",
   "name": "python3"
  },
  "language_info": {
   "codemirror_mode": {
    "name": "ipython",
    "version": 3
   },
   "file_extension": ".py",
   "mimetype": "text/x-python",
   "name": "python",
   "nbconvert_exporter": "python",
   "pygments_lexer": "ipython3",
   "version": "3.9.6"
  },
  "toc": {
   "base_numbering": 1,
   "nav_menu": {},
   "number_sections": false,
   "sideBar": true,
   "skip_h1_title": true,
   "title_cell": "Table of Contents",
   "title_sidebar": "Contents",
   "toc_cell": false,
   "toc_position": {},
   "toc_section_display": true,
   "toc_window_display": false
  }
 },
 "nbformat": 4,
 "nbformat_minor": 2
}
