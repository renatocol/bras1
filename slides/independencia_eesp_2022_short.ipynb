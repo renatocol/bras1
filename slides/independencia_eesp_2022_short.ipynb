{
 "cells": [
  {
   "cell_type": "markdown",
   "metadata": {
    "nbpresent": {
     "id": "452305db-662c-4b4e-aa92-79d92fa4544d"
    },
    "slideshow": {
     "slide_type": "slide"
    }
   },
   "source": [
    "# <center>200 Anos de Independência - EESP/FGV-SP</center>\n",
    "\n",
    "## <center>Recursos para a educação primária - Projetos e experimentos no século XIX</center>\n",
    "\n",
    "#### <center>Renato Perim Colistete (FEA-USP)</center>  \n",
    "<center>rcolistete@usp.br </center>\n",
    "\n",
    "\n",
    "#### <center>30 de setembro de 2022</center>"
   ]
  },
  {
   "cell_type": "markdown",
   "metadata": {
    "nbpresent": {
     "id": "1fc7160f-beb4-4997-9c3f-0553e0592605"
    },
    "slideshow": {
     "slide_type": "slide"
    }
   },
   "source": [
    "## Objetivos\n",
    "\n",
    "O que vou apresentar aqui hoje trata de um aspecto pouco conhecido da história econômica do século XIX no Brasil: o financiamento público da educação primária."
   ]
  },
  {
   "cell_type": "markdown",
   "metadata": {
    "slideshow": {
     "slide_type": "fragment"
    }
   },
   "source": [
    "Vou apresentar essa história rapidamente considerando propostas mas também uma experiência importante, mas pouca conhecida de financiamento das escolas primárias."
   ]
  },
  {
   "cell_type": "markdown",
   "metadata": {
    "slideshow": {
     "slide_type": "fragment"
    }
   },
   "source": [
    "Essa história precisa ser contada no plano dos governos provinciais e municipais, pois foram eles - não o governo central - que assumiram praticamente a totalidade da oferta de educação primária no Brasil na época. Em particular, usarei o caso de São Paulo como exemplo."
   ]
  },
  {
   "cell_type": "markdown",
   "metadata": {
    "nbpresent": {
     "id": "1acbc207-c8bb-4376-a328-421bbf9520c4"
    },
    "slideshow": {
     "slide_type": "slide"
    }
   },
   "source": [
    "## Atribuições\n",
    "\n",
    "O debate sobre a instrução primária no Brasil recém-independente ganhou impulso com a formação das Assembleias Legislativas, conforme determinação do Ato Adicional de 1834 que reformou a Constituição."
   ]
  },
  {
   "cell_type": "markdown",
   "metadata": {
    "nbpresent": {
     "id": "f3dfbdf9-fe1d-4356-9ad0-df395911e6f3"
    },
    "slideshow": {
     "slide_type": "fragment"
    }
   },
   "source": [
    "A partir dessa época, as províncias passaram a discutir como organizar e financiar o ensino primário público que, de acordo com a Constituição de 1824, deveria ser *gratuito e universal*. Ao governo central, cabia a responsabilidade direta apenas sobre a instrução primária na Corte, com os governos intermediários sendo encarregados do ensino básico nas províncias."
   ]
  },
  {
   "cell_type": "markdown",
   "metadata": {
    "nbpresent": {
     "id": "bb419a40-14ab-48cd-8328-1c62b7f7bd0a"
    },
    "slideshow": {
     "slide_type": "fragment"
    }
   },
   "source": [
    "Nada havia na Constituição que impedisse que o governo geral também contribuísse para o ensino primário nas províncias, mas prevaleceu o princípio de divisão rígida das atribuições entre as esferas de governo. Nenhum papel, por sua vez, foi conferido aos municípios, exceto (e eventualmente) o de fiscalização."
   ]
  },
  {
   "cell_type": "markdown",
   "metadata": {
    "nbpresent": {
     "id": "bb88ba62-49af-4a08-a1fb-e61b66f85d5a"
    },
    "slideshow": {
     "slide_type": "slide"
    }
   },
   "source": [
    "## Recursos e atraso\n",
    "\n",
    "Em São Paulo, a partir do final da década de 1860 um número crescente de publicistas e deputados passou a reconhecer mais explicitamente que a expansão da instrução primária requeria a mobilização em larga escala de recursos públicos."
   ]
  },
  {
   "cell_type": "markdown",
   "metadata": {
    "nbpresent": {
     "id": "c4116e36-3ce7-4491-96e4-03190f4a3b72"
    },
    "slideshow": {
     "slide_type": "fragment"
    }
   },
   "source": [
    "Como afirmou o órgão dos liberais radicais em São Paulo em 1869, seria necessário:"
   ]
  },
  {
   "cell_type": "markdown",
   "metadata": {
    "slideshow": {
     "slide_type": "fragment"
    }
   },
   "source": [
    "> “dar à instrução todos os recursos que tiver necessidade, por isso que acha-se sobejamente averiguado que o povo que tem melhores escolas é o primeiro sempre. Os Estados Unidos da América do Norte, a Inglaterra e a Bélgica aí estão para confirmarem esta asserção.” (O Radical Paulistano)"
   ]
  },
  {
   "cell_type": "markdown",
   "metadata": {
    "nbpresent": {
     "id": "13c81a42-221c-45fd-bde2-343bbcc74678"
    },
    "slideshow": {
     "slide_type": "slide"
    }
   },
   "source": [
    "## Reforma e frustração\n",
    "\n",
    "Inicialmente, os liberais radicais de São Paulo concentraram seus esforços em duas bandeiras: obrigatoriedade e liberdade do ensino. A Reforma da Instrução Pública de 1874 consagrou estes princípios."
   ]
  },
  {
   "cell_type": "markdown",
   "metadata": {
    "slideshow": {
     "slide_type": "fragment"
    }
   },
   "source": [
    "A premissa de seus defensores (inclusive com adesão posterior dos conservadores) era que essas duas medidas seriam suficientes para a generalização do ensino primário. "
   ]
  },
  {
   "cell_type": "markdown",
   "metadata": {
    "nbpresent": {
     "id": "1674bcc2-8448-4b20-8203-e741d2f6048b"
    },
    "slideshow": {
     "slide_type": "fragment"
    }
   },
   "source": [
    "Mas poucos anos depois, os antigos defensores já reconheciam que os resultados sobre as matrículas das escolas\n",
    "primárias eram pífios."
   ]
  },
  {
   "cell_type": "markdown",
   "metadata": {
    "nbpresent": {
     "id": "8b4f0472-cccb-4d13-abbd-187d93bc9309"
    },
    "slideshow": {
     "slide_type": "slide"
    }
   },
   "source": [
    "## Propostas radicais\n",
    "\n",
    "Foi a partir do início da década de 1880 que as propostas começaram a mudar de forma substancial, com republicanos (como Rangel Pestana) e uma parcela dos liberais defendendo uma reforma profunda da instrução pública."
   ]
  },
  {
   "cell_type": "markdown",
   "metadata": {
    "nbpresent": {
     "id": "794d2206-833d-419a-b3b9-b12875162c7e"
    },
    "slideshow": {
     "slide_type": "fragment"
    }
   },
   "source": [
    "O princípio básico dessas propostas foi descentralizar e democratizar, e de forma radical: com tributação local e participação direta de pais e moradores na direção das escolas."
   ]
  },
  {
   "cell_type": "markdown",
   "metadata": {
    "slideshow": {
     "slide_type": "fragment"
    }
   },
   "source": [
    "O maior exemplo foi o projeto de Reforma da Instrução Pública de 1885 aprovado pela Assembleia Legislativa e pelo presidente da província, Almeida Couto (liberal), com apoio dos Republicanos. Duas medidas centrais: "
   ]
  },
  {
   "cell_type": "markdown",
   "metadata": {
    "slideshow": {
     "slide_type": "subslide"
    }
   },
   "source": [
    "- conselhos municipais, com 2 ou 3 representantes eleitos por pais e professores e 1 ou 2 escolhidos pela câmara local, a depender do tamanho do município; "
   ]
  },
  {
   "cell_type": "markdown",
   "metadata": {
    "slideshow": {
     "slide_type": "fragment"
    }
   },
   "source": [
    "- imposto de capitação de 1 mil-réis, constituindo um fundo escolar administrado localmente pelos conselhos."
   ]
  },
  {
   "cell_type": "markdown",
   "metadata": {
    "nbpresent": {
     "id": "cb99a5b9-10b5-4d5c-bb6c-23699c0c5b07"
    },
    "slideshow": {
     "slide_type": "slide"
    }
   },
   "source": [
    "## Reação conservadora\n",
    "\n",
    "A reação a estas propostas foi grande. Com a queda do gabinete liberal (Saraiva) e ascensão dos conservadores (Cotegipe, agosto/1885) no governo Geral, o novo presidente da província vetou a reforma do governo liberal de Almeida Couto."
   ]
  },
  {
   "cell_type": "markdown",
   "metadata": {
    "nbpresent": {
     "id": "43701764-6778-49fa-883b-9c1b678f6d67"
    },
    "slideshow": {
     "slide_type": "fragment"
    }
   },
   "source": [
    "A renegociação de um novo projeto eliminou justamente a representação direta de pais e professores: os conselhos municipais seriam formados agora por 2 representantes da câmara e 1 nomeado pelo presidente da província. "
   ]
  },
  {
   "cell_type": "markdown",
   "metadata": {
    "nbpresent": {
     "id": "1f3a2dee-722b-4a1b-a236-69b92463b751"
    },
    "slideshow": {
     "slide_type": "fragment"
    }
   },
   "source": [
    "Mesmo assim, o fundo constituído por imposto escolar (1 mil-réis), multas e doações foi mantido, sendo administrado pelos conselhos municipais de instrução. Esse foi o modelo adotado pela lei no 81 de 6/4/1887."
   ]
  },
  {
   "cell_type": "markdown",
   "metadata": {
    "nbpresent": {
     "id": "1a43feb9-1cad-4162-a6ad-b16662fbb6a4"
    },
    "slideshow": {
     "slide_type": "slide"
    }
   },
   "source": [
    "## Recursos para as escolas\n",
    "\n",
    "Ou seja, apesar de eliminar a participação direta da população via conselhos locais, a Reforma da Instrução Primária de 1887 ainda preservou a descentralização parcial dos recursos destinados às escolas."
   ]
  },
  {
   "cell_type": "markdown",
   "metadata": {
    "nbpresent": {
     "id": "b7fa99c1-6023-4201-855d-d27ade6b5d84"
    },
    "slideshow": {
     "slide_type": "fragment"
    }
   },
   "source": [
    "Essa foi uma forma inédita (embora praticamente esquecida hoje) de enfrentar o crônico problema da deficiência\n",
    "de recursos públicos para a instrução primária em São Paulo, inspirada em experiências internacionais e nas propostas de Tavares Bastos (*A Província*, 1870)."
   ]
  },
  {
   "cell_type": "markdown",
   "metadata": {
    "nbpresent": {
     "id": "854f9e46-f876-4c95-b11f-ee637364d8cf"
    },
    "slideshow": {
     "slide_type": "fragment"
    }
   },
   "source": [
    "Até então, os recursos para as escolas vinham exclusivamente do fundo geral de tributos do governo provincial. Os municípios nada contribuíam para a instrução primária (até os anos 1880)."
   ]
  },
  {
   "cell_type": "markdown",
   "metadata": {
    "nbpresent": {
     "id": "8dde182b-545e-464d-86aa-93633eb83d31"
    },
    "slideshow": {
     "slide_type": "slide"
    }
   },
   "source": [
    "## Tributos\n",
    "\n",
    "As municipalidades de São Paulo dependiam essencialmente de tributos tradicionais sobre comércio, consumo e serviços para seus gastos correntes e investimentos."
   ]
  },
  {
   "cell_type": "markdown",
   "metadata": {
    "nbpresent": {
     "id": "383dda45-dccb-4fde-a663-f4b4f94a501e"
    },
    "slideshow": {
     "slide_type": "fragment"
    }
   },
   "source": [
    "Quando diversificaram suas fontes de recursos, as câmaras concentraram-se em atividades profissionais, artesanais e\n",
    "manufatureiras de seus núcleos urbanos, eximindo as propriedades rurais."
   ]
  },
  {
   "cell_type": "markdown",
   "metadata": {
    "slideshow": {
     "slide_type": "fragment"
    }
   },
   "source": [
    "No caso do governo provincial/estadual, o imposto de exportação (café) foi a principal fonte de recursos na maior parte do período."
   ]
  },
  {
   "cell_type": "markdown",
   "metadata": {
    "slideshow": {
     "slide_type": "subslide"
    }
   },
   "source": [
    "Houve diversificação de tributos a partir de 1904, inclusive incidindo sobre capital e propriedades. "
   ]
  },
  {
   "cell_type": "markdown",
   "metadata": {
    "slideshow": {
     "slide_type": "fragment"
    }
   },
   "source": [
    "Mas o imposto sobre a propriedade rural gerou apenas 0,2% da receita do estado de São Paulo em 1905 e 0,9% em 1920 – menos do que o de aguardente, com 1,5% em 1910."
   ]
  },
  {
   "cell_type": "markdown",
   "metadata": {
    "slideshow": {
     "slide_type": "slide"
    }
   },
   "source": [
    "## Imposto escolar\n",
    "\n",
    "Voltando ao imposto escolar criado pela Reforma da Instrução Pública de 1887 em São Paulo: qual foi sua importância para o financiamento das escolas?"
   ]
  },
  {
   "cell_type": "markdown",
   "metadata": {
    "slideshow": {
     "slide_type": "fragment"
    }
   },
   "source": [
    "Por ser um típico imposto de capitação, os problemas com o imposto escolar eram bem conhecidos: por exemplo, recaía de forma indiscriminada sobre todos os indivíduos, à revelia de sua renda e riqueza."
   ]
  },
  {
   "cell_type": "markdown",
   "metadata": {
    "slideshow": {
     "slide_type": "fragment"
    }
   },
   "source": [
    "Desta forma, a experiência de descentralização do ensino primário implementada pela lei no 81 de 1887 distinguia-se do modelo de financiamento das escolas nos Estados Unidos e Canadá (e países da Europa), que tinham no imposto local sobre a propriedade rural e não-rural a sua mais importante fonte de receita."
   ]
  },
  {
   "cell_type": "markdown",
   "metadata": {
    "slideshow": {
     "slide_type": "slide"
    }
   },
   "source": [
    "## Arrecadação\n",
    "\n",
    "A despeito de suas limitações, o imposto escolar arrecadou recursos expressivos nos primeiros meses de sua implementação (após mar/1888). As receitas foram administradas pelos conselhos municipais criados em 1887."
   ]
  },
  {
   "cell_type": "markdown",
   "metadata": {
    "slideshow": {
     "slide_type": "fragment"
    }
   },
   "source": [
    "Até set/1889, o imposto arrecadou o equivalente a 16,6% do total das despesas estaduais com a instrução primária em São Paulo. "
   ]
  },
  {
   "cell_type": "markdown",
   "metadata": {
    "slideshow": {
     "slide_type": "fragment"
    }
   },
   "source": [
    "Mas apesar dos bons resultados iniciais, o imposto escolar e os conselhos foram abolidos, paradoxalmente, pela Reforma da Instrução implementada pelos republicanos em 1892."
   ]
  },
  {
   "cell_type": "markdown",
   "metadata": {
    "slideshow": {
     "slide_type": "subslide"
    }
   },
   "source": [
    "Para avaliar sua importância, vale formular o seguinte contrafactual: qual poderia ter sido a despesa municipal com ensino primário caso o imposto escolar fosse mantido após 1892?"
   ]
  },
  {
   "cell_type": "markdown",
   "metadata": {
    "slideshow": {
     "slide_type": "fragment"
    }
   },
   "source": [
    "(o valor contrafactual da despesa na figura abaixo foi estimado assumindo-se que a arrecadação do fundo escolar cresceria ao mesmo ritmo observado pela receita real dos municípios de São Paulo entre 1889 e 1905.)"
   ]
  },
  {
   "cell_type": "markdown",
   "metadata": {
    "slideshow": {
     "slide_type": "slide"
    }
   },
   "source": [
    "### <center>Despesa efetiva e contrafactual</center>\n",
    "\n",
    "<center><img src=\"desp_contrafactual.png\"></center>"
   ]
  },
  {
   "cell_type": "markdown",
   "metadata": {
    "slideshow": {
     "slide_type": "slide"
    }
   },
   "source": [
    "## Contrafactual\n",
    "\n",
    "O contrafactual sugere que a despesa das municipalidades financiada pelo imposto escolar ficaria em média *oito vezes acima* da despesa municipal efetiva entre 1894 e 1899 – 343 réis contra 44 réis (em termos per capita a preços de 1913)."
   ]
  },
  {
   "cell_type": "markdown",
   "metadata": {
    "slideshow": {
     "slide_type": "fragment"
    }
   },
   "source": [
    "Entre 1900 a 1903, quando o governo estadual começou a subvencionar as municipalidades, o nível da despesa contrafactual ainda seria em média *duas vezes maior* do que o realizado pelas municipalidades (479 réis em comparação a 228 réis)."
   ]
  },
  {
   "cell_type": "markdown",
   "metadata": {
    "slideshow": {
     "slide_type": "fragment"
    }
   },
   "source": [
    "Ou seja, parece certo que o imposto escolar, no formato estabelecido, não seria suficiente para atender todas as crianças fora das escolas (76% daquelas em idade escolar em 1907). Mas seus recursos não foram desprezíveis."
   ]
  },
  {
   "cell_type": "markdown",
   "metadata": {
    "slideshow": {
     "slide_type": "slide"
    }
   },
   "source": [
    "## Abandono\n",
    "\n",
    "O que nos leva à pergunta: por que o imposto escolar foi suprimido se o seu resultado em termos de receitas para a instrução primária foi expressivo? A razão parece ter sido basicamente política."
   ]
  },
  {
   "cell_type": "markdown",
   "metadata": {
    "slideshow": {
     "slide_type": "fragment"
    }
   },
   "source": [
    "A administração do fundo escolar pelos conselhos locais (mesmo que expurgados da participação de pais e moradores) parece ter sido eficaz, mas isso não impediu sua eliminação em 1892 pelos mesmos republicanos que antes os defendiam."
   ]
  },
  {
   "cell_type": "markdown",
   "metadata": {
    "slideshow": {
     "slide_type": "fragment"
    }
   },
   "source": [
    "Descentralização política e participação local eram tradicionanalmente vistas com desconfiança. Os conselhos municipais ganharam força no curto espaço de tempo de sua existência."
   ]
  },
  {
   "cell_type": "markdown",
   "metadata": {
    "slideshow": {
     "slide_type": "subslide"
    }
   },
   "source": [
    "Além disso, o fundo escolar abria a possibilidade de introdução de novos tributos, sobre outras fontes - como a grande propriedade rural."
   ]
  },
  {
   "cell_type": "markdown",
   "metadata": {
    "slideshow": {
     "slide_type": "slide"
    }
   },
   "source": [
    "## E depois?\n",
    "\n",
    "Paradoxalmente, os princípios das reformas de 1885/87 foram não só abandonados, mas esquecidos pelo próprio governo republicano. É provável que a radical transformação das rendas públicas de São Paulo também tenha contribuído para isso."
   ]
  },
  {
   "cell_type": "markdown",
   "metadata": {
    "slideshow": {
     "slide_type": "fragment"
    }
   },
   "source": [
    "A continuidade do *boom* do café e, sobretudo, a transferência do imposto de exportação para os estados sancionada pela Constituição de 1891 levaram a um grande aumento de arrecadação para os estados produtores."
   ]
  },
  {
   "cell_type": "markdown",
   "metadata": {
    "slideshow": {
     "slide_type": "fragment"
    }
   },
   "source": [
    "Para o estado de São Paulo, isso significou um *aumento real de 7,5 vezes* (!) nas receitas fiscais de 1905 em relação aos anos 1888-1889. "
   ]
  },
  {
   "cell_type": "markdown",
   "metadata": {
    "slideshow": {
     "slide_type": "slide"
    }
   },
   "source": [
    "# Expansão e atraso\n",
    "\n",
    "E foi devido a essa expansão excepcional das receitas públicas que São Paulo saiu de uma situação intermediária em 1870 para a de um dos estados líderes da instrução primária no Brasil nos anos seguintes (ao lado de SC, PR, RS e ES)."
   ]
  },
  {
   "cell_type": "markdown",
   "metadata": {
    "slideshow": {
     "slide_type": "fragment"
    }
   },
   "source": [
    "Ainda assim, as taxas de matrícula do estado de São Paulo continuavam, em 1920, próximas ou inferiores aos índices dos países mais atrasados educacionalmente na Europa, como Portugal (53), cf. a seguir:"
   ]
  },
  {
   "cell_type": "markdown",
   "metadata": {
    "slideshow": {
     "slide_type": "slide"
    }
   },
   "source": [
    "### <center>Matrículas comparadas</center>\n",
    "\n",
    "<center><img src=\"mat_comparada.png\", width=700></center>"
   ]
  },
  {
   "cell_type": "markdown",
   "metadata": {
    "slideshow": {
     "slide_type": "slide"
    }
   },
   "source": [
    "### <center>Obrigado!</center>"
   ]
  }
 ],
 "metadata": {
  "celltoolbar": "Slideshow",
  "kernelspec": {
   "display_name": "Python 3 (ipykernel)",
   "language": "python",
   "name": "python3"
  },
  "language_info": {
   "codemirror_mode": {
    "name": "ipython",
    "version": 3
   },
   "file_extension": ".py",
   "mimetype": "text/x-python",
   "name": "python",
   "nbconvert_exporter": "python",
   "pygments_lexer": "ipython3",
   "version": "3.9.13"
  },
  "toc": {
   "base_numbering": 1,
   "nav_menu": {},
   "number_sections": false,
   "sideBar": false,
   "skip_h1_title": false,
   "title_cell": "Table of Contents",
   "title_sidebar": "Contents",
   "toc_cell": false,
   "toc_position": {},
   "toc_section_display": false,
   "toc_window_display": false
  }
 },
 "nbformat": 4,
 "nbformat_minor": 2
}
