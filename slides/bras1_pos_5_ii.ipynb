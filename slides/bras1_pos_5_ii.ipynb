{
 "cells": [
  {
   "cell_type": "markdown",
   "metadata": {
    "slideshow": {
     "slide_type": "slide"
    }
   },
   "source": [
    "## <center>Economia Brasileira I - FEA-USP</center>\n",
    "\n",
    "## <center>Aula 5 - Agricultura e Mercado de Trabalho (parte 2)</center>\n",
    "\n",
    "### <center>Renato Perim Colistete</center>\n",
    "\n",
    "\n",
    "#### <center>2022</center>"
   ]
  },
  {
   "cell_type": "markdown",
   "metadata": {
    "slideshow": {
     "slide_type": "slide"
    }
   },
   "source": [
    "## Objetivos\n",
    "\n",
    "Na parte 2 deste tópico, prosseguimos analisando as transformações do mercado de trabalho no Brasil do século\n",
    "XIX.\n",
    "\n",
    "Hoje veremos o efeito da imigração europeia sobre o mercado de trabalho agrícola e as alternativas representadas pelo emprego do trabalhador nacional livre e do liberto em diferentes períodos e regiões.\n",
    "\n",
    "Avaliaremos as interpretações clássicas e recentes sobre o tema, mapeando diferenças e implicações."
   ]
  },
  {
   "cell_type": "markdown",
   "metadata": {
    "slideshow": {
     "slide_type": "slide"
    }
   },
   "source": [
    "## Povoamento e assalariamento\n",
    "\n",
    "Os primeiros fluxos migratórios para o Brasil independente ocorreram logo nas primeiras décadas da nova nação. Dois modelos básicos prevaleceram desde então:"
   ]
  },
  {
   "cell_type": "markdown",
   "metadata": {
    "slideshow": {
     "slide_type": "fragment"
    }
   },
   "source": [
    "- o primeiro, favorecido pelo governo imperial, visou estabelecer **imigrantes em colônias oficiais**, em regime de pequenas propriedades, sob justificativas que incluíam povoamento, segurança de fronteiras, desenvolvimento da agricultura e branqueamento da população. "
   ]
  },
  {
   "cell_type": "markdown",
   "metadata": {
    "slideshow": {
     "slide_type": "fragment"
    }
   },
   "source": [
    "- Casos mais expressivos desse primeiro sistema: Rio Grande do Sul, Santa Catarina, Paraná e Espírito Santo, mas também em outras províncias, como Rio de Janeiro e Minas Gerais."
   ]
  },
  {
   "cell_type": "markdown",
   "metadata": {
    "slideshow": {
     "slide_type": "subslide"
    }
   },
   "source": [
    "- o segundo modelo, o de **“colônias de parceria” e, posteriormente, colônias com regime misto de salários**, predominou como política de imigração defendida por fazendeiros e o governo provincial de São Paulo. "
   ]
  },
  {
   "cell_type": "markdown",
   "metadata": {
    "slideshow": {
     "slide_type": "slide"
    }
   },
   "source": [
    "## Colônias de parceria\n",
    "\n",
    "Daremos aqui mais ênfase ao *segundo* modelo. As primeiras experiências com imigrantes nas fazendas em São Paulo (região de Rio Claro/Limeira) ocorreram na década de 1840, com alemães, suíços e portugueses em regime de parceria – “colonos de parceria”."
   ]
  },
  {
   "cell_type": "markdown",
   "metadata": {
    "slideshow": {
     "slide_type": "fragment"
    }
   },
   "source": [
    "Regime de parceria: “meio termo entre o regime de serviços assalariados e o das pequenas propriedades” (Sergio Buarque de Holanda, 1969). Contratos com famílias, em que todos os membros e eventuais agregados participavam do trabalho agrícola. "
   ]
  },
  {
   "cell_type": "markdown",
   "metadata": {
    "slideshow": {
     "slide_type": "fragment"
    }
   },
   "source": [
    "Nesse sistema, cada família cuidava de certo número de cafezais; permitia-se cultivo de subsistência, enquanto o produto da venda do café colhido e de alimentos produzidos era repartido com o fazendeiro."
   ]
  },
  {
   "cell_type": "markdown",
   "metadata": {
    "slideshow": {
     "slide_type": "subslide"
    }
   },
   "source": [
    "## Dívidas\n",
    "\n",
    "Na parceria, as famílias de colonos imigrantes já chegavam com dívidas das passagens de navio, do transporte ao chegar em São Paulo e dos adiantamentos iniciais de instalação (alimentos, ferramentas) no primeiro ano."
   ]
  },
  {
   "cell_type": "markdown",
   "metadata": {
    "slideshow": {
     "slide_type": "fragment"
    }
   },
   "source": [
    "As dívidas teriam de ser amortizadas nos anos seguintes com os rendimentos do trato e colheita dos cafezais, com outros cultivos ou serviços prestados."
   ]
  },
  {
   "cell_type": "markdown",
   "metadata": {
    "slideshow": {
     "slide_type": "fragment"
    }
   },
   "source": [
    "A capacidade de pagamento das dívidas variou bastante entre as famílias, dependendo de fatores como o número de filhos em idade de trabalho, ocorrência de doenças e qualidade da terra alocada para a família."
   ]
  },
  {
   "cell_type": "markdown",
   "metadata": {
    "slideshow": {
     "slide_type": "slide"
    }
   },
   "source": [
    "Dadas essas condições variáveis, o tempo necessário para as famílias quitarem suas dívidas com o fazendeiro podia se prolongar por vários anos."
   ]
  },
  {
   "cell_type": "markdown",
   "metadata": {
    "slideshow": {
     "slide_type": "fragment"
    }
   },
   "source": [
    "Ou, como era frequente, as dívidas continuavam sendo contraídas e amortizadas parcialmente durante longa permanência da família na fazenda."
   ]
  },
  {
   "cell_type": "markdown",
   "metadata": {
    "slideshow": {
     "slide_type": "slide"
    }
   },
   "source": [
    "## Problemas nos contratos\n",
    "\n",
    "Alguns problemas na definição dos contratos de parceria:\n"
   ]
  },
  {
   "cell_type": "markdown",
   "metadata": {
    "slideshow": {
     "slide_type": "fragment"
    }
   },
   "source": [
    "- ausência de acompanhamento ou supervisão do colono nos registros da colheita do café até o ajuste de contas;"
   ]
  },
  {
   "cell_type": "markdown",
   "metadata": {
    "slideshow": {
     "slide_type": "fragment"
    }
   },
   "source": [
    "- deduções de custos de transportes e impostos (20 a 30% do lucro bruto) incidentes sobre o café vendido, criando desconfiança dos colonos."
   ]
  },
  {
   "cell_type": "markdown",
   "metadata": {
    "slideshow": {
     "slide_type": "fragment"
    }
   },
   "source": [
    "- Não previsto nos contratos, mas importante: regime disciplinar na fazenda com controle de saídas, violação de correspondência e interferências na vida privada dos colonos."
   ]
  },
  {
   "cell_type": "markdown",
   "metadata": {
    "slideshow": {
     "slide_type": "slide"
    }
   },
   "source": [
    "## Revolta de Ibicaba\n",
    "\n",
    "Problemas como esses levaram a abandonos e conflitos sucessivos já nos primeiros anos do sistema de parceria na primeira metade da década de 1850. "
   ]
  },
  {
   "cell_type": "markdown",
   "metadata": {
    "slideshow": {
     "slide_type": "fragment"
    }
   },
   "source": [
    "Maior crise ocorreu em dez/1856, com a revolta de imigrantes suíços da Fazenda Ibicaba (Limeira, hoje Cordeirópolis), de Nicolau de Campos Vergueiro (ver livro de Thomas Davatz, *Memórias de um Colono no Brasil*). Outras fazendas tiveram conflitos similares na época."
   ]
  },
  {
   "cell_type": "markdown",
   "metadata": {
    "slideshow": {
     "slide_type": "fragment"
    }
   },
   "source": [
    "Ver a seguir uma lista de colônias de parceria em 1857."
   ]
  },
  {
   "cell_type": "markdown",
   "metadata": {
    "slideshow": {
     "slide_type": "subslide"
    }
   },
   "source": [
    "### <center>Algumas colônias de parceria em SP, 1857</center>\n",
    "\n",
    "<center><img src=\"sp_colonias_parceria_1857.png\" width=\"900\" height=\"400\"></center>"
   ]
  },
  {
   "cell_type": "markdown",
   "metadata": {
    "slideshow": {
     "slide_type": "slide"
    }
   },
   "source": [
    "## Mudanças no sistema\n",
    "\n",
    "A partir do episódio de Ibicaba, o sistema original das colônias de parceria entrou em declínio, com adoção de formas mistas de remuneração por trato do cafeeiro, divisão ou pagamento de colheita, cultivo de cereais (feijão e milho) e pagamentos por serviços na fazenda."
   ]
  },
  {
   "cell_type": "markdown",
   "metadata": {
    "slideshow": {
     "slide_type": "fragment"
    }
   },
   "source": [
    "A despeito das mudanças dos contratos originais de parceria, a expectativa do sistema ser capaz de atrair um grande fluxo de imigrantes europeus frustrou-se. "
   ]
  },
  {
   "cell_type": "markdown",
   "metadata": {
    "slideshow": {
     "slide_type": "fragment"
    }
   },
   "source": [
    "O emprego de imigrantes europeus continuou ocorrendo nas regiões do Oeste velho (região de Campinas) e novo (p. ex. São Carlos, Descalvado, Ribeirão Preto) de São Paulo, mas de forma esporádica e secundária em relação ao emprego do trabalho escravo."
   ]
  },
  {
   "cell_type": "markdown",
   "metadata": {
    "slideshow": {
     "slide_type": "subslide"
    }
   },
   "source": [
    "E notar: as colônias anteriores e aquelas com sistema misto e modificado da parceria sempre contaram com famílias de trabalhadores nacionais, ao lado das imigrantes. "
   ]
  },
  {
   "cell_type": "markdown",
   "metadata": {
    "slideshow": {
     "slide_type": "fragment"
    }
   },
   "source": [
    "Ver, por exemplo, as colônias visitadas por Valdetaro em 1857, mostradas acima."
   ]
  },
  {
   "cell_type": "markdown",
   "metadata": {
    "slideshow": {
     "slide_type": "slide"
    }
   },
   "source": [
    "## Leis pela imigração\n",
    "\n",
    "Apesar da demanda crescente de trabalho com a expansão cafeeira e o aparente consenso pela imigração como forma de substituir (em futuro indeterminado) o trabalho escravizado, a ação dos fazendeiros e de governos foi lenta e pouco efetiva na maior parte do tempo. "
   ]
  },
  {
   "cell_type": "markdown",
   "metadata": {
    "slideshow": {
     "slide_type": "fragment"
    }
   },
   "source": [
    "Por exemplo, a lei provincial de São Paulo [no. 42 de 30/3/1871](https://www.al.sp.gov.br/repositorio/legislacao/lei/1871/lei-42-30.03.1871.html), que autorizou empréstimos a fazendeiros para introdução de colonos europeus (norte da Europa, preferencialmente), teve resultados modestos."
   ]
  },
  {
   "cell_type": "markdown",
   "metadata": {
    "slideshow": {
     "slide_type": "fragment"
    }
   },
   "source": [
    "Novas leis em toda a década de 1880 (Petrone, 1969) – como a [lei nº 36, de 21/02/1881](https://www.al.sp.gov.br/repositorio/legislacao/lei/1881/lei-36-21.02.1881.html), que criou a primeira subvenção pública (120 contos de réis) para passagens de imigrantes da Europa para Santos."
   ]
  },
  {
   "cell_type": "markdown",
   "metadata": {
    "slideshow": {
     "slide_type": "subslide"
    }
   },
   "source": [
    "## Imigração subsidiada\n",
    "\n",
    "A lei de 1881 foi alterada por nova norma mais abrangente e generosa no subsídio para as passagens de famílias imigrantes europeias e do Açores/Canárias – consolidando então a “imigração subsidiada”, [lei no. 28, 29/3/1884](http://www.al.sp.gov.br/repositorio/legislacao/lei/1884/lei-28-29.03.1884.html)."
   ]
  },
  {
   "cell_type": "markdown",
   "metadata": {
    "slideshow": {
     "slide_type": "fragment"
    }
   },
   "source": [
    "O fluxo de imigrantes aumentou a partir de 1875, teve nova elevação a partir de 1881 mas foi somente em  1887 que o primeiro contrato de grande porte de importação de mão de obra foi celebrado pela [Sociedade Promotora de Imigração](http://www.historica.arquivoestado.sp.gov.br/materias/anteriores/edicao25/materia02/), criada em 1886."
   ]
  },
  {
   "cell_type": "markdown",
   "metadata": {
    "slideshow": {
     "slide_type": "fragment"
    }
   },
   "source": [
    "Assim, o *segundo semestre de 1887* marca o início de fato da imigração em massa. Ver a seguir."
   ]
  },
  {
   "cell_type": "markdown",
   "metadata": {
    "slideshow": {
     "slide_type": "subslide"
    }
   },
   "source": [
    "<center><img src=\"sp_hospedaria.png\" width=\"1300\" height=\"600\"></center>"
   ]
  },
  {
   "cell_type": "markdown",
   "metadata": {
    "slideshow": {
     "slide_type": "subslide"
    }
   },
   "source": [
    "## O novo sistema\n",
    "\n",
    "Já nos anos 1880, as diferentes modalidades de contratos agrícolas com famílias de colonos convergiram para o sistema que se consolidaria com a imigração em massa. Características dos novos contratos (Petrone, 1969):\n"
   ]
  },
  {
   "cell_type": "markdown",
   "metadata": {
    "slideshow": {
     "slide_type": "fragment"
    }
   },
   "source": [
    "- contratos anuais com famílias de colonos, que recebiam um número fixo de pés de café para trato e colheita (aproximadamente 5 mil cafeeiros para uma família de 3 pessoas em idade de trabalho);"
   ]
  },
  {
   "cell_type": "markdown",
   "metadata": {
    "slideshow": {
     "slide_type": "fragment"
    }
   },
   "source": [
    "- livre mobilidade após findo o contrato e autonomia na alocação do tempo entre cuidado do café e outras atividades;"
   ]
  },
  {
   "cell_type": "markdown",
   "metadata": {
    "slideshow": {
     "slide_type": "slide"
    }
   },
   "source": [
    "- remuneração fixa por tratamento de 1.000 pés de café e número de carpas (capina) estipulados no contrato (comumente 10 mil réis por 1 mil pés de café, com 4 a 5 carpas por ano - mas variáveis de acordo com região e fazenda). "
   ]
  },
  {
   "cell_type": "markdown",
   "metadata": {
    "slideshow": {
     "slide_type": "fragment"
    }
   },
   "source": [
    "- remuneração variável por quantidade de café colhido, com o valor por alqueire de 40 ou 50 litros fixado em contrato (p. ex. 300 réis por alqueire colhido)."
   ]
  },
  {
   "cell_type": "markdown",
   "metadata": {
    "slideshow": {
     "slide_type": "fragment"
    }
   },
   "source": [
    "- possibilidade de pagamento de salário por serviços ocasionais na fazenda, tal como reparo de caminhos e obras de construção;"
   ]
  },
  {
   "cell_type": "markdown",
   "metadata": {
    "slideshow": {
     "slide_type": "subslide"
    }
   },
   "source": [
    "- usufruto de roças fornecidas pela fazenda para cultivo de subsistência, em geral 2 hectares, com milho, feijão, batatas e legumes, com produto integral para os colonos para consumo e venda;"
   ]
  },
  {
   "cell_type": "markdown",
   "metadata": {
    "slideshow": {
     "slide_type": "fragment"
    }
   },
   "source": [
    "- colonos recebiam terreno para pasto, onde podiam criar animais (galinhas, porcos, cabras e vacas), geralmente pagando taxa extra por área e animal conf. estipulado em contrato. Novamente, produto integral para colono."
   ]
  },
  {
   "cell_type": "markdown",
   "metadata": {
    "slideshow": {
     "slide_type": "slide"
    }
   },
   "source": [
    "## Problemas\n",
    "\n",
    "Diversos problemas afetaram a manutenção do fluxo de imigrantes europeus em São Paulo, a começar pela coexistência com a escravidão até 1888. Além disso,"
   ]
  },
  {
   "cell_type": "markdown",
   "metadata": {
    "slideshow": {
     "slide_type": "fragment"
    }
   },
   "source": [
    "- queda dos preços do café após 1896 reduziu rentabilidade e levou à piora das condições de trabalho dos colonos, na época majoritariamente italianos;"
   ]
  },
  {
   "cell_type": "markdown",
   "metadata": {
    "slideshow": {
     "slide_type": "fragment"
    }
   },
   "source": [
    "- reclamações e protestos culminaram com intervenção do governo italiano: decreto Prinetti de 1902, que proibiu a emigração nos portos da Itália com passagens pagas pelo governo de São Paulo – ou seja, restrição para SP apenas, não Brasil;"
   ]
  },
  {
   "cell_type": "markdown",
   "metadata": {
    "slideshow": {
     "slide_type": "subslide"
    }
   },
   "source": [
    "- instabilidade cambial e, em particular, depreciação da moeda desestimularam a vinda de imigrantes em certos períodos. Ver tabela."
   ]
  },
  {
   "cell_type": "markdown",
   "metadata": {
    "slideshow": {
     "slide_type": "slide"
    }
   },
   "source": [
    "### <center>Entradas e saídas de imigrantes em São Paulo, 1892-1911</center>\n",
    "\n",
    "<center><img src=\"sp_fluxo_imigracao.png\" width=\"900\" height=\"500\"></center>"
   ]
  },
  {
   "cell_type": "markdown",
   "metadata": {
    "slideshow": {
     "slide_type": "slide"
    }
   },
   "source": [
    "## Interpretações clássicas\n",
    "\n",
    "Vejamos agora algumas interpretações sobre essas questões. Uma forma de abordar o tema do mercado de trabalho neste período é com a seguinte pergunta:"
   ]
  },
  {
   "cell_type": "markdown",
   "metadata": {
    "slideshow": {
     "slide_type": "fragment"
    }
   },
   "source": [
    "-> quais foram as razões para o uso maciço do trabalho imigrante em São Paulo – notar: para Furtado, equivalente a Brasil – e da (presumida) não utilização do nacional?\n"
   ]
  },
  {
   "cell_type": "markdown",
   "metadata": {
    "slideshow": {
     "slide_type": "fragment"
    }
   },
   "source": [
    "Uma interpretação clássica é a de Celso Furtado (1959, cap. xxi). Segundo Furtado, o setor de subsistência era representado por área nas fazendas ocupada por agregados, que dispunham de uma roça e mantinham relação de\n",
    "dependência com o grande proprietário."
   ]
  },
  {
   "cell_type": "markdown",
   "metadata": {
    "slideshow": {
     "slide_type": "slide"
    }
   },
   "source": [
    "## Furtado e o trabalho nacional\n",
    "\n",
    "Motivos para o (presumido) não emprego dos nacionais na expansão agrícola da 2a metade do século XIX (na verdade, em São Paulo), de acordo com Furtado:"
   ]
  },
  {
   "cell_type": "markdown",
   "metadata": {
    "slideshow": {
     "slide_type": "fragment"
    }
   },
   "source": [
    "- dispersão geográfica, que exigiria grande mobilização de recursos para recrutar trabalhadores e transferi-los;"
   ]
  },
  {
   "cell_type": "markdown",
   "metadata": {
    "slideshow": {
     "slide_type": "fragment"
    }
   },
   "source": [
    "- recrutamento dependeria da cooperação dos grandes proprietários de terras, que controlavam esse contingente de trabalhadores como agregados nas fazendas, formando uma clientela;"
   ]
  },
  {
   "cell_type": "markdown",
   "metadata": {
    "slideshow": {
     "slide_type": "fragment"
    }
   },
   "source": [
    "- cooperação com fazendeiros era inviável, pois “era todo um estilo de vida, de organização social e de estruturação do poder político que entrava em jogo”."
   ]
  },
  {
   "cell_type": "markdown",
   "metadata": {
    "slideshow": {
     "slide_type": "subslide"
    }
   },
   "source": [
    "- Portanto, para Furtado, relações políticas e sociais tradicionais da sociedade agrária brasileira teriam impedido o emprego dos trabalhadores nacionais na expansão agrícola do século XIX."
   ]
  },
  {
   "cell_type": "markdown",
   "metadata": {
    "slideshow": {
     "slide_type": "slide"
    }
   },
   "source": [
    "## Leff e outros\n",
    "\n",
    "Já a interpretação de Leff (1972) enfatizou outro aspecto:"
   ]
  },
  {
   "cell_type": "markdown",
   "metadata": {
    "slideshow": {
     "slide_type": "fragment"
    }
   },
   "source": [
    "- a renda obtida pelos trabalhadores livres em suas atividades de subsistência (incluindo comércio de excedente) era superior, sob a perspectiva dos proprietários rurais, ao custo de compra e manutenção dos escravos;"
   ]
  },
  {
   "cell_type": "markdown",
   "metadata": {
    "slideshow": {
     "slide_type": "fragment"
    }
   },
   "source": [
    "- ou seja, “os salários necessários para atrair os trabalhadores livres do setor agrícola doméstico eram considerados relativamente altos” em relação à opção do trabalho escravizado (dados?)."
   ]
  },
  {
   "cell_type": "markdown",
   "metadata": {
    "slideshow": {
     "slide_type": "slide"
    }
   },
   "source": [
    "## Outras interpretações clássicas\n",
    "\n",
    "Frequentemente, autores clássicos associaram a escravidão a uma série de características individuais e coletivas dos trabalhadores, que teriam efeitos duradouros inclusive no pós-Abolição. "
   ]
  },
  {
   "cell_type": "markdown",
   "metadata": {
    "slideshow": {
     "slide_type": "fragment"
    }
   },
   "source": [
    "O regime opressivo da escravidão teria deixado sequelas nas capacidades, na moral e nas atitudes do liberto e do trabalhador livre nacional, também comprometendo sua incorporação ao mercado de trabalho regular e assalariado após 1888. "
   ]
  },
  {
   "cell_type": "markdown",
   "metadata": {
    "slideshow": {
     "slide_type": "fragment"
    }
   },
   "source": [
    "Por exemplo, para Florestan Fernandes (1964), os ex-escravos após a abolição teriam se autoexcluído do mercado de trabalho regular como uma expressão de liberdade e dignidade, atitude que sob as novas condições de um mercado competitivo conduziu “seus agentes humanos pelo plano inclinado da miséria, da corrupção e do desalento coletivo”."
   ]
  },
  {
   "cell_type": "markdown",
   "metadata": {
    "slideshow": {
     "slide_type": "slide"
    }
   },
   "source": [
    "## Habilidades e mercado de trabalho\n",
    "Mais especificamente, os efeitos da escravidão também seriam observados relativamente às habilidades do trabalho e qualificações (*skills*) dos trabalhadores libertos e nacionais."
   ]
  },
  {
   "cell_type": "markdown",
   "metadata": {
    "slideshow": {
     "slide_type": "fragment"
    }
   },
   "source": [
    "Para Florestan Fernandes (1964), “eram raros os negros que tinham profissão, como pedreiro, carpinteiro, barbeiro, alfaiate, sapateiro. Eram profissões difíceis e os negrinhos aprendizes tinham dificuldade em conseguir colocação”."
   ]
  },
  {
   "cell_type": "markdown",
   "metadata": {
    "slideshow": {
     "slide_type": "fragment"
    }
   },
   "source": [
    "De forma similar, Celso Furtado (1959, cap. 24) sustentou: “Cabe tão somente lembrar que o reduzido desenvolvimento mental da população submetida à escravidão provocará a segregação parcial desta após a abolição”, agravada pela sua “forte preferência pelo ócio”."
   ]
  },
  {
   "cell_type": "markdown",
   "metadata": {
    "slideshow": {
     "slide_type": "slide"
    }
   },
   "source": [
    "## Interpretações recentes\n",
    "\n",
    "Interpretações mais recentes têm identificado causas distintas para a não utilização (majoritária) do trabalho nacional e o recurso ao imigrante."
   ]
  },
  {
   "cell_type": "markdown",
   "metadata": {
    "slideshow": {
     "slide_type": "fragment"
    }
   },
   "source": [
    "- Uma delas enfatiza a ação independente e autônoma do trabalhador nacional, livre ou liberto, que teria rejeitado as condições impostas (subordinação, privação de autonomia, disciplina, rotina) pelo trabalho nas fazendas e preferido (voluntariamente) formas precárias de trabalho ou marginalização (Hebe de Castro, Sheila Faria)."
   ]
  },
  {
   "cell_type": "markdown",
   "metadata": {
    "slideshow": {
     "slide_type": "fragment"
    }
   },
   "source": [
    "- Outra interpretação argumenta que, na verdade, o trabalhador nacional foi de fato empregado em escala apreciável (inclusive em São Paulo), embora sujeito à sazonalidade do trabalho agrícola (Lamounier)."
   ]
  },
  {
   "cell_type": "markdown",
   "metadata": {
    "slideshow": {
     "slide_type": "slide"
    }
   },
   "source": [
    "## Demais regiões\n",
    "\n",
    "Como registrado por Stein (1961), por exemplo, no lugar de imigrantes, os trabalhadores nacionais livres e libertos tiveram participação expressiva no Vale do Paraíba fluminense como agregados, arrendatários, camaradas, feitores e\n",
    "artesãos."
   ]
  },
  {
   "cell_type": "markdown",
   "metadata": {
    "slideshow": {
     "slide_type": "fragment"
    }
   },
   "source": [
    "Em Pernambuco (Eisenberg, 1977), as experiências imigratórias fracassaram apesar das tentativas oficiais. O que vingou foi a mão de obra local, isto é, trabalhadores nacionais livres e libertos."
   ]
  },
  {
   "cell_type": "markdown",
   "metadata": {
    "slideshow": {
     "slide_type": "fragment"
    }
   },
   "source": [
    "Também em Minas Gerais o trabalhador nacional foi a mais importante importante reserva de mão de obra nas propriedades rurais. "
   ]
  },
  {
   "cell_type": "markdown",
   "metadata": {
    "slideshow": {
     "slide_type": "subslide"
    }
   },
   "source": [
    "E assim foi com a maioria dos outros estados – exceto os do Sul e Espírito Santo, mas nesses casos, ainda assim, nas áreas das colônias oficiais de imigrantes europeus."
   ]
  },
  {
   "cell_type": "markdown",
   "metadata": {
    "slideshow": {
     "slide_type": "subslide"
    }
   },
   "source": [
    "## São Paulo atípico?\n",
    "\n",
    "Comparada com essas experiências, São Paulo aparece *mais como um caso atípico* na chamada transição para o trabalho livre no Brasil, por seu uso maciço de imigrantes europeus."
   ]
  },
  {
   "cell_type": "markdown",
   "metadata": {
    "slideshow": {
     "slide_type": "fragment"
    }
   },
   "source": [
    "E ainda assim, como observou Lamounier (2007): São Paulo seria de fato um caso inteiramente atípico com relação ao emprego do trabalhador nacional, livre e liberto?"
   ]
  },
  {
   "cell_type": "markdown",
   "metadata": {
    "slideshow": {
     "slide_type": "fragment"
    }
   },
   "source": [
    "Mesmo em São Paulo, a presença de trabalhadores nacionais pobres, livres e libertos pode ter sido importante como fonte alternativa ou complementar do trabalho escravo."
   ]
  },
  {
   "cell_type": "markdown",
   "metadata": {
    "slideshow": {
     "slide_type": "subslide"
    }
   },
   "source": [
    "## Nacionais e imigrantes\n",
    "\n",
    "Como foi visto antes, famílias de nacionais estiveram presentes nas colônias das fazendas ao lado de imigrantes antes da Abolição, desde os primeiros experimentos das colônias de parceria (lembrar da lista de Valdetaro, 1857)."
   ]
  },
  {
   "cell_type": "markdown",
   "metadata": {
    "slideshow": {
     "slide_type": "fragment"
    }
   },
   "source": [
    "Trabalhadores nacionais continuaram trabalhando ou ganharam ocupações como colonos e outros tipos de contratos nas fazendas do Oeste Paulista após a Abolição."
   ]
  },
  {
   "cell_type": "markdown",
   "metadata": {
    "slideshow": {
     "slide_type": "fragment"
    }
   },
   "source": [
    "E importante: a presença de *ex-escravos e descendentes* no mercado de trabalho rural pós-Abolição como arrendatários, pequenos proprietários, sitiantes e, inclusive, *colonos* é ainda um aspecto pouco conhecido, mas que tem sido registrado por pesquisas recentes (Monsma, 2010)."
   ]
  },
  {
   "cell_type": "markdown",
   "metadata": {
    "slideshow": {
     "slide_type": "slide"
    }
   },
   "source": [
    "## Escravos e imigrantes\n",
    "\n",
    "A própria relação entre a demanda de escravos e imigrantes continua pouco compreendida. O termo \"substituição\" do trabalho escravo pode sugerir o abandono de um pelo outro (\"Tomar o lugar de, ir para o lugar de\", Dicionário Caldas Aulete). "
   ]
  },
  {
   "cell_type": "markdown",
   "metadata": {
    "slideshow": {
     "slide_type": "fragment"
    }
   },
   "source": [
    "Esse parece o sentido mais comum quando nos referimos ao tema da \"substituição do trabalho escravo pelo trabalho livre\" antes da Abolição."
   ]
  },
  {
   "cell_type": "markdown",
   "metadata": {
    "slideshow": {
     "slide_type": "fragment"
    }
   },
   "source": [
    "Porém, em pleno período de declínio geral do número de escravos em São Paulo entre 1872 e 1886, nas localidades dinâmicas da expansão cafeeira a demanda de trabalho cativo continuou alta, aumentando o tamanho da população escrava *simultanamente* ao aumento dos imigrantes."
   ]
  },
  {
   "cell_type": "markdown",
   "metadata": {
    "slideshow": {
     "slide_type": "subslide"
    }
   },
   "source": [
    "## Substituição ou complemento?\n",
    "\n",
    "Em outras palavras, houve demanda de imigrantes em áreas do Oeste paulista ao mesmo tempo que aumentou a demanda de escravos - apesar de escassez desses últimos, do imposto proibitivo de 2 contos em 1881 sobre o tráfico interprovincial e da (na época) sempre citada superioridade do trabalho livre."
   ]
  },
  {
   "cell_type": "markdown",
   "metadata": {
    "slideshow": {
     "slide_type": "fragment"
    }
   },
   "source": [
    "Para essas regiões do Oeste pelo menos, a contratação de famílias imigrantes nas zonas da expansão cafeeira antes da grande imigração pode ter sido mais complemento, não substituição do trabalho escravo (no sentido de abandono de um pelo outro)."
   ]
  },
  {
   "cell_type": "markdown",
   "metadata": {
    "slideshow": {
     "slide_type": "fragment"
    }
   },
   "source": [
    "Ver a figura abaixo para os dados."
   ]
  },
  {
   "cell_type": "markdown",
   "metadata": {
    "slideshow": {
     "slide_type": "subslide"
    }
   },
   "source": [
    "#### <center>Demanda de escravos na Mogiana e Paulista, 1874-1886</center>\n",
    "\n",
    "<center><img src=\"sp_demanda_escravos_1886.png\" width=\"700\"></center>"
   ]
  },
  {
   "cell_type": "markdown",
   "metadata": {
    "slideshow": {
     "slide_type": "slide"
    }
   },
   "source": [
    "## Contratos e regimes de trabalho\n",
    "\n",
    "Como adendo e para terminar, categorias de trabalhadores comuns em São Paulo e outras províncias:"
   ]
  },
  {
   "cell_type": "markdown",
   "metadata": {
    "slideshow": {
     "slide_type": "fragment"
    }
   },
   "source": [
    "- pequenos proprietários e sitiantes, que muitas vezes trabalhavam por empreitada ou temporariamente em fazendas\n",
    "vizinhas;"
   ]
  },
  {
   "cell_type": "markdown",
   "metadata": {
    "slideshow": {
     "slide_type": "fragment"
    }
   },
   "source": [
    "- arrendatários (ou rendeiros) de terras da fazenda;"
   ]
  },
  {
   "cell_type": "markdown",
   "metadata": {
    "slideshow": {
     "slide_type": "fragment"
    }
   },
   "source": [
    "- parcerias, em regime similar e simultâneo aos colonos imigrantes;"
   ]
  },
  {
   "cell_type": "markdown",
   "metadata": {
    "slideshow": {
     "slide_type": "subslide"
    }
   },
   "source": [
    "- agregados, com culturas de subsistência em lotes nas fazendas em troca de serviços;"
   ]
  },
  {
   "cell_type": "markdown",
   "metadata": {
    "slideshow": {
     "slide_type": "fragment"
    }
   },
   "source": [
    "- camaradas, mensalistas, diaristas ou contratados por empreitada;"
   ]
  },
  {
   "cell_type": "markdown",
   "metadata": {
    "slideshow": {
     "slide_type": "fragment"
    }
   },
   "source": [
    "- locação de serviços (Lei de 1879), que previa contratos de 6 anos para o trabalhador nacional livre e 7 anos para o ex-escravo;"
   ]
  },
  {
   "cell_type": "markdown",
   "metadata": {
    "slideshow": {
     "slide_type": "fragment"
    }
   },
   "source": [
    "Exemplo: em 1872, em Rio Claro, grande centro cafeeiro: número de escravos = 2.753; agregados e sitiantes = 1.700\n",
    "(Dean, 1977)."
   ]
  }
 ],
 "metadata": {
  "celltoolbar": "Slideshow",
  "kernelspec": {
   "display_name": "Python 3 (ipykernel)",
   "language": "python",
   "name": "python3"
  },
  "language_info": {
   "codemirror_mode": {
    "name": "ipython",
    "version": 3
   },
   "file_extension": ".py",
   "mimetype": "text/x-python",
   "name": "python",
   "nbconvert_exporter": "python",
   "pygments_lexer": "ipython3",
   "version": "3.9.13"
  },
  "toc": {
   "base_numbering": 1,
   "nav_menu": {},
   "number_sections": false,
   "sideBar": true,
   "skip_h1_title": true,
   "title_cell": "Table of Contents",
   "title_sidebar": "Contents",
   "toc_cell": false,
   "toc_position": {},
   "toc_section_display": true,
   "toc_window_display": false
  }
 },
 "nbformat": 4,
 "nbformat_minor": 2
}
